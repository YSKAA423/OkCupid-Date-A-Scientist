{
 "cells": [
  {
   "cell_type": "markdown",
   "id": "eb9a33da-6600-4dcd-94b7-6c34e5efef68",
   "metadata": {},
   "source": [
    "# This Project serves as the last portfolio project as part of the [Codecademy](https://www.codecademy.com/career-journey/data-scientist-ml) data science: machine learning specialist career path and aims to independently analzye the data from a source called \"OKCupid\"\n",
    "--------------------------------\n",
    "### \"The purpose of this project is to practice formulating questions and implementing machine learning techniques to answer those questions. However, the questions you ask and how you answer them are entirely up to you.\"\n",
    "\n",
    "\n",
    "## More about the idea:\n",
    "   > `from the direct Codecademy source` : In recent years, there has been a massive rise in the usage of dating apps to find love. Many of these apps use sophisticated data science techniques to recommend possible matches to users and to optimize the user experience. These apps give us access to a wealth of information that we’ve never had before about how different people experience romance. In this portfolio project, you will analyze some data from OKCupid, an app that focuses on using multiple choice and short answers to match users.\n",
    "\n",
    "\n",
    "Althought the dataset revolves around the concept of dating I want to re-direct the vector of attention to to a more general tone thus reframing it into \"Recommend a Peer\". The usual steps including Data Preprocessing, Exploratory Data Analysis, Machine Learning Model Selection, Evaluation, and Tuning, will be followed. The `Scope` ultimately is to showcase what I learnt throughtout the career path. I also plan to refactor the code to accomodate the concept of pipelines and explore deploying it for a more practical feel further down the line.\n",
    "\n",
    "To be more specific this project, utilizes three machine learning models in order to achieve different goals:\n",
    "\n",
    "    > Predicting a feature about a user based on data available\n",
    "    > Grouping users in order to recognize patterns\n",
    "    > A recommender model that recommendes a peer"
   ]
  },
  {
   "cell_type": "markdown",
   "id": "b11ffd68-7d76-4a44-9693-c4ce3afec85a",
   "metadata": {},
   "source": [
    "## Current Planned Progression:\n",
    "\n",
    "    1. Exploring the dataset\n",
    "        1a. Basic Information\n",
    "        1b. Data Types\n",
    "        1c. Addressing features (Isolating and Dropping features) \n",
    "    2. Data Preprocessing\n",
    "        2a. Nulls\n",
    "        2b. Outliers\n",
    "        2c. Inspecting Data Distibutions\n",
    "        2e. Formatting Issues\n",
    "        .. extra\n",
    "    3. Exploratory Data Analysis\n",
    "        3a. Understanding the Age distribution\n",
    "        3b. Eating habits (relation with body type?)\n",
    "        3c. Usage of Prohibited materials (affects on health)\n",
    "        3d. Frequency of Education (across ages) - (edu vs income)\n",
    "        3e. Frequency of Jobs - (Jobs vs incomes) - (Max vs Min Jobs)\n",
    "        3f. Frequency and Proportions of Locations (Average income and height per location) - (Highest Frequency Job in each Location)\n",
    "        3g. Activity on the site - (Activity per location)\n",
    "        3h. Is there an association between having pet and a child? (exploring different associations)\n",
    "        ... Exploring hypothesis tests \n",
    "        ... Exploring exploring further associations \n",
    "        ... Exploring feature engineering before feeding them into the machine learning models - Filter Methods\n",
    "        ... Exploring feature engineering after choosing the model - Wrapper Methods \n",
    "        ... Methods to counter overfitting on training data\n",
    "        ... Tuning hyperparameters on the validation set\n",
    "        ... Inspecting the final model's ability to generalize on new unseen data through the test set\n",
    "        ... Saving the final model in a format with all hyperparameters needed and weights\n",
    "        ... Future upgrades and ideas that could be implemented in the future\n",
    "\n",
    "    4. Machine Learning Model\n",
    "        I plan on using 3 models to predict:\n",
    "            >  If the use would be a smoker or not (Supervised)\n",
    "            >  Group Users in order to discover patterns (Unsupervised)\n",
    "            >  Recommend a user based on common attributes (Supervised)\n",
    "        aspects from the EDA section that will intersect and iterate with this part:\n",
    "           ... Exploring feature engineering after choosing the model - Wrapper Methods \n",
    "           ... Methods to counter overfitting on training data\n",
    "           ... Tuning hyperparameters on the validation set\n",
    "           ... Inspecting the final model's ability to generalize on new unseen data through the test set\n",
    "           ... Saving the final model in a format with all hyperparameters needed and weights\n"
   ]
  },
  {
   "cell_type": "markdown",
   "id": "8a53ec62-bcda-4a30-98d1-d32c770e00d2",
   "metadata": {},
   "source": [
    "### As Always importing basic libraries"
   ]
  },
  {
   "cell_type": "code",
   "execution_count": 172,
   "id": "8f468430-629d-47f8-b1cf-e6af8b736513",
   "metadata": {},
   "outputs": [],
   "source": [
    "import pandas as pd\n",
    "import numpy as np\n",
    "import matplotlib.pyplot as plt\n",
    "import seaborn as sns\n",
    "from sklearn.model_selection import train_test_split"
   ]
  },
  {
   "cell_type": "markdown",
   "id": "06a79fc4-9a8c-4e89-b5fa-6db20518c7bc",
   "metadata": {},
   "source": [
    "# Exploring the Dataset"
   ]
  },
  {
   "cell_type": "code",
   "execution_count": 173,
   "id": "026ca26c-0bc8-41d3-b480-8c5d52d539c9",
   "metadata": {},
   "outputs": [
    {
     "name": "stdout",
     "output_type": "stream",
     "text": [
      "Overall users : 59946\n"
     ]
    }
   ],
   "source": [
    "Individuals = pd.read_csv(\"profiles.csv\")\n",
    "print(f\"Overall users : {len(Individuals)}\")\n",
    "Ind,test_set = train_test_split(Individuals,train_size = 0.70,test_size=0.15,random_state = 42)"
   ]
  },
  {
   "cell_type": "code",
   "execution_count": 174,
   "id": "57a20213-ad18-4066-8e1d-dece06181f9a",
   "metadata": {},
   "outputs": [
    {
     "data": {
      "text/html": [
       "<div>\n",
       "<style scoped>\n",
       "    .dataframe tbody tr th:only-of-type {\n",
       "        vertical-align: middle;\n",
       "    }\n",
       "\n",
       "    .dataframe tbody tr th {\n",
       "        vertical-align: top;\n",
       "    }\n",
       "\n",
       "    .dataframe thead th {\n",
       "        text-align: right;\n",
       "    }\n",
       "</style>\n",
       "<table border=\"1\" class=\"dataframe\">\n",
       "  <thead>\n",
       "    <tr style=\"text-align: right;\">\n",
       "      <th></th>\n",
       "      <th>age</th>\n",
       "      <th>body_type</th>\n",
       "      <th>diet</th>\n",
       "      <th>drinks</th>\n",
       "      <th>drugs</th>\n",
       "      <th>education</th>\n",
       "      <th>essay0</th>\n",
       "      <th>essay1</th>\n",
       "      <th>essay2</th>\n",
       "      <th>essay3</th>\n",
       "      <th>...</th>\n",
       "      <th>location</th>\n",
       "      <th>offspring</th>\n",
       "      <th>orientation</th>\n",
       "      <th>pets</th>\n",
       "      <th>religion</th>\n",
       "      <th>sex</th>\n",
       "      <th>sign</th>\n",
       "      <th>smokes</th>\n",
       "      <th>speaks</th>\n",
       "      <th>status</th>\n",
       "    </tr>\n",
       "  </thead>\n",
       "  <tbody>\n",
       "    <tr>\n",
       "      <th>48937</th>\n",
       "      <td>24</td>\n",
       "      <td>NaN</td>\n",
       "      <td>NaN</td>\n",
       "      <td>socially</td>\n",
       "      <td>NaN</td>\n",
       "      <td>graduated from college/university</td>\n",
       "      <td>NaN</td>\n",
       "      <td>i just got home from teaching english in manta...</td>\n",
       "      <td>NaN</td>\n",
       "      <td>NaN</td>\n",
       "      <td>...</td>\n",
       "      <td>oakland, california</td>\n",
       "      <td>doesn&amp;rsquo;t have kids</td>\n",
       "      <td>straight</td>\n",
       "      <td>NaN</td>\n",
       "      <td>NaN</td>\n",
       "      <td>m</td>\n",
       "      <td>pisces but it doesn&amp;rsquo;t matter</td>\n",
       "      <td>NaN</td>\n",
       "      <td>english, spanish</td>\n",
       "      <td>single</td>\n",
       "    </tr>\n",
       "    <tr>\n",
       "      <th>55273</th>\n",
       "      <td>56</td>\n",
       "      <td>thin</td>\n",
       "      <td>mostly vegetarian</td>\n",
       "      <td>socially</td>\n",
       "      <td>never</td>\n",
       "      <td>graduated from masters program</td>\n",
       "      <td>i am fun loving, professional, open minded and...</td>\n",
       "      <td>i am enjoying life with friends and family. i ...</td>\n",
       "      <td>communication; instigator; i make a mean pr ch...</td>\n",
       "      <td>my smile, kindness and younger than my age looks.</td>\n",
       "      <td>...</td>\n",
       "      <td>san rafael, california</td>\n",
       "      <td>NaN</td>\n",
       "      <td>straight</td>\n",
       "      <td>likes dogs and likes cats</td>\n",
       "      <td>other but not too serious about it</td>\n",
       "      <td>f</td>\n",
       "      <td>aries</td>\n",
       "      <td>no</td>\n",
       "      <td>english (fluently), spanish (fluently), italia...</td>\n",
       "      <td>single</td>\n",
       "    </tr>\n",
       "    <tr>\n",
       "      <th>5823</th>\n",
       "      <td>26</td>\n",
       "      <td>average</td>\n",
       "      <td>NaN</td>\n",
       "      <td>often</td>\n",
       "      <td>often</td>\n",
       "      <td>graduated from college/university</td>\n",
       "      <td>i'm a really nerdy, really nice guy, working a...</td>\n",
       "      <td>trying not to get burned out as an engineer be...</td>\n",
       "      <td>computers, memorizing song lyrics, and keeping...</td>\n",
       "      <td>that i'm just shy, not anti-social. (you can t...</td>\n",
       "      <td>...</td>\n",
       "      <td>palo alto, california</td>\n",
       "      <td>NaN</td>\n",
       "      <td>straight</td>\n",
       "      <td>likes dogs and likes cats</td>\n",
       "      <td>atheism and somewhat serious about it</td>\n",
       "      <td>m</td>\n",
       "      <td>taurus but it doesn&amp;rsquo;t matter</td>\n",
       "      <td>sometimes</td>\n",
       "      <td>english (fluently)</td>\n",
       "      <td>single</td>\n",
       "    </tr>\n",
       "    <tr>\n",
       "      <th>7457</th>\n",
       "      <td>25</td>\n",
       "      <td>NaN</td>\n",
       "      <td>mostly anything</td>\n",
       "      <td>NaN</td>\n",
       "      <td>NaN</td>\n",
       "      <td>working on law school</td>\n",
       "      <td>born and raised in maine but knew immediately ...</td>\n",
       "      <td>meandering through law school.</td>\n",
       "      <td>making music playlists... i take a lot of prid...</td>\n",
       "      <td>i only like to answer self-congratulatory ques...</td>\n",
       "      <td>...</td>\n",
       "      <td>san francisco, california</td>\n",
       "      <td>NaN</td>\n",
       "      <td>gay</td>\n",
       "      <td>NaN</td>\n",
       "      <td>agnosticism but not too serious about it</td>\n",
       "      <td>m</td>\n",
       "      <td>aquarius but it doesn&amp;rsquo;t matter</td>\n",
       "      <td>NaN</td>\n",
       "      <td>english</td>\n",
       "      <td>single</td>\n",
       "    </tr>\n",
       "    <tr>\n",
       "      <th>34435</th>\n",
       "      <td>25</td>\n",
       "      <td>jacked</td>\n",
       "      <td>vegan</td>\n",
       "      <td>desperately</td>\n",
       "      <td>sometimes</td>\n",
       "      <td>NaN</td>\n",
       "      <td>i'm a queer, vegan, ftm trans guy. holla!</td>\n",
       "      <td>being a deadbeat</td>\n",
       "      <td>giggling. making out!</td>\n",
       "      <td>tomatillo.</td>\n",
       "      <td>...</td>\n",
       "      <td>san francisco, california</td>\n",
       "      <td>NaN</td>\n",
       "      <td>bisexual</td>\n",
       "      <td>likes dogs and likes cats</td>\n",
       "      <td>NaN</td>\n",
       "      <td>m</td>\n",
       "      <td>taurus</td>\n",
       "      <td>no</td>\n",
       "      <td>english</td>\n",
       "      <td>single</td>\n",
       "    </tr>\n",
       "  </tbody>\n",
       "</table>\n",
       "<p>5 rows × 31 columns</p>\n",
       "</div>"
      ],
      "text/plain": [
       "       age body_type               diet       drinks      drugs  \\\n",
       "48937   24       NaN                NaN     socially        NaN   \n",
       "55273   56      thin  mostly vegetarian     socially      never   \n",
       "5823    26   average                NaN        often      often   \n",
       "7457    25       NaN    mostly anything          NaN        NaN   \n",
       "34435   25    jacked              vegan  desperately  sometimes   \n",
       "\n",
       "                               education  \\\n",
       "48937  graduated from college/university   \n",
       "55273     graduated from masters program   \n",
       "5823   graduated from college/university   \n",
       "7457               working on law school   \n",
       "34435                                NaN   \n",
       "\n",
       "                                                  essay0  \\\n",
       "48937                                                NaN   \n",
       "55273  i am fun loving, professional, open minded and...   \n",
       "5823   i'm a really nerdy, really nice guy, working a...   \n",
       "7457   born and raised in maine but knew immediately ...   \n",
       "34435          i'm a queer, vegan, ftm trans guy. holla!   \n",
       "\n",
       "                                                  essay1  \\\n",
       "48937  i just got home from teaching english in manta...   \n",
       "55273  i am enjoying life with friends and family. i ...   \n",
       "5823   trying not to get burned out as an engineer be...   \n",
       "7457                      meandering through law school.   \n",
       "34435                                   being a deadbeat   \n",
       "\n",
       "                                                  essay2  \\\n",
       "48937                                                NaN   \n",
       "55273  communication; instigator; i make a mean pr ch...   \n",
       "5823   computers, memorizing song lyrics, and keeping...   \n",
       "7457   making music playlists... i take a lot of prid...   \n",
       "34435                              giggling. making out!   \n",
       "\n",
       "                                                  essay3  ...  \\\n",
       "48937                                                NaN  ...   \n",
       "55273  my smile, kindness and younger than my age looks.  ...   \n",
       "5823   that i'm just shy, not anti-social. (you can t...  ...   \n",
       "7457   i only like to answer self-congratulatory ques...  ...   \n",
       "34435                                         tomatillo.  ...   \n",
       "\n",
       "                        location                offspring orientation  \\\n",
       "48937        oakland, california  doesn&rsquo;t have kids    straight   \n",
       "55273     san rafael, california                      NaN    straight   \n",
       "5823       palo alto, california                      NaN    straight   \n",
       "7457   san francisco, california                      NaN         gay   \n",
       "34435  san francisco, california                      NaN    bisexual   \n",
       "\n",
       "                            pets                                  religion  \\\n",
       "48937                        NaN                                       NaN   \n",
       "55273  likes dogs and likes cats        other but not too serious about it   \n",
       "5823   likes dogs and likes cats     atheism and somewhat serious about it   \n",
       "7457                         NaN  agnosticism but not too serious about it   \n",
       "34435  likes dogs and likes cats                                       NaN   \n",
       "\n",
       "      sex                                  sign     smokes  \\\n",
       "48937   m    pisces but it doesn&rsquo;t matter        NaN   \n",
       "55273   f                                 aries         no   \n",
       "5823    m    taurus but it doesn&rsquo;t matter  sometimes   \n",
       "7457    m  aquarius but it doesn&rsquo;t matter        NaN   \n",
       "34435   m                                taurus         no   \n",
       "\n",
       "                                                  speaks  status  \n",
       "48937                                   english, spanish  single  \n",
       "55273  english (fluently), spanish (fluently), italia...  single  \n",
       "5823                                  english (fluently)  single  \n",
       "7457                                             english  single  \n",
       "34435                                            english  single  \n",
       "\n",
       "[5 rows x 31 columns]"
      ]
     },
     "execution_count": 174,
     "metadata": {},
     "output_type": "execute_result"
    }
   ],
   "source": [
    "Ind.head()"
   ]
  },
  {
   "cell_type": "code",
   "execution_count": 175,
   "id": "e90a1244-d62f-424f-b46e-48563b17cf78",
   "metadata": {},
   "outputs": [
    {
     "name": "stdout",
     "output_type": "stream",
     "text": [
      "<class 'pandas.core.frame.DataFrame'>\n",
      "Index: 41962 entries, 48937 to 39236\n",
      "Data columns (total 31 columns):\n",
      " #   Column       Non-Null Count  Dtype  \n",
      "---  ------       --------------  -----  \n",
      " 0   age          41962 non-null  int64  \n",
      " 1   body_type    38260 non-null  object \n",
      " 2   diet         24933 non-null  object \n",
      " 3   drinks       39874 non-null  object \n",
      " 4   drugs        32120 non-null  object \n",
      " 5   education    37332 non-null  object \n",
      " 6   essay0       38112 non-null  object \n",
      " 7   essay1       36698 non-null  object \n",
      " 8   essay2       35210 non-null  object \n",
      " 9   essay3       33971 non-null  object \n",
      " 10  essay4       34586 non-null  object \n",
      " 11  essay5       34300 non-null  object \n",
      " 12  essay6       32234 non-null  object \n",
      " 13  essay7       33257 non-null  object \n",
      " 14  essay8       28551 non-null  object \n",
      " 15  essay9       33085 non-null  object \n",
      " 16  ethnicity    37975 non-null  object \n",
      " 17  height       41960 non-null  float64\n",
      " 18  income       41962 non-null  int64  \n",
      " 19  job          36228 non-null  object \n",
      " 20  last_online  41962 non-null  object \n",
      " 21  location     41962 non-null  object \n",
      " 22  offspring    17069 non-null  object \n",
      " 23  orientation  41962 non-null  object \n",
      " 24  pets         28057 non-null  object \n",
      " 25  religion     27772 non-null  object \n",
      " 26  sex          41962 non-null  object \n",
      " 27  sign         34229 non-null  object \n",
      " 28  smokes       38086 non-null  object \n",
      " 29  speaks       41922 non-null  object \n",
      " 30  status       41962 non-null  object \n",
      "dtypes: float64(1), int64(2), object(28)\n",
      "memory usage: 10.2+ MB\n"
     ]
    }
   ],
   "source": [
    "Ind.info()"
   ]
  },
  {
   "cell_type": "markdown",
   "id": "4ac9417b-bfb7-486d-a9d0-c0716a4d8805",
   "metadata": {},
   "source": [
    "> ### 1- The Datatypes of features refer to the type of data they represent, which determines the type of operations that can be performed on them and the statistical methods applicable to each.\n",
    "\n",
    "> ### 2- Features' data types are within reason, however, a further inspection is needer to understand the inner values of each feature."
   ]
  },
  {
   "cell_type": "code",
   "execution_count": 176,
   "id": "7bc42adf-bf81-4b92-acf9-d3551d257b3e",
   "metadata": {},
   "outputs": [
    {
     "data": {
      "text/plain": [
       "array([     -1,   70000,   40000,   80000,   60000,   20000, 1000000,\n",
       "        150000,  100000,   30000,  250000,   50000,  500000], dtype=int64)"
      ]
     },
     "execution_count": 176,
     "metadata": {},
     "output_type": "execute_result"
    }
   ],
   "source": [
    "Ind.income.unique()"
   ]
  },
  {
   "cell_type": "code",
   "execution_count": 177,
   "id": "d3dd45ce-1687-4249-87c8-d08da67f7156",
   "metadata": {},
   "outputs": [
    {
     "data": {
      "image/png": "[encoded data removed]",
      "text/plain": [
       "<Figure size 640x480 with 1 Axes>"
      ]
     },
     "metadata": {},
     "output_type": "display_data"
    },
    {
     "data": {
      "text/plain": [
       "<Figure size 640x480 with 0 Axes>"
      ]
     },
     "metadata": {},
     "output_type": "display_data"
    }
   ],
   "source": [
    "sns.histplot(Ind.income, bins=50)\n",
    "plt.plot()\n",
    "plt.show()\n",
    "plt.clf()"
   ]
  },
  {
   "cell_type": "markdown",
   "id": "19b1711a-34dc-4e84-a97b-67bacd18c448",
   "metadata": {},
   "source": [
    ">### 1-  Pandas (A famous python library for data processing), recorded `int64` for this feature as there are no values with decimals.\n",
    "\n",
    ">### 2- Note that a value of `-1` has been recorded for many cases. Initially, dealing with that value as a missing value and imputing it is an option but what if people did not share their income on purpose and `-1` was recorder instead?\n",
    "\n",
    ">### 3- Larger values of income are present in the histplot which also indicates the presence of outliers."
   ]
  },
  {
   "cell_type": "markdown",
   "id": "264ac776-f845-4ffb-91d1-fa02c9c8ad8b",
   "metadata": {},
   "source": [
    "## A very effective way is to look at the dataframe's description (numerice features)"
   ]
  },
  {
   "cell_type": "code",
   "execution_count": 178,
   "id": "910ddd66-bc51-4c77-98db-2a575feb2155",
   "metadata": {},
   "outputs": [
    {
     "data": {
      "text/html": [
       "<div>\n",
       "<style scoped>\n",
       "    .dataframe tbody tr th:only-of-type {\n",
       "        vertical-align: middle;\n",
       "    }\n",
       "\n",
       "    .dataframe tbody tr th {\n",
       "        vertical-align: top;\n",
       "    }\n",
       "\n",
       "    .dataframe thead th {\n",
       "        text-align: right;\n",
       "    }\n",
       "</style>\n",
       "<table border=\"1\" class=\"dataframe\">\n",
       "  <thead>\n",
       "    <tr style=\"text-align: right;\">\n",
       "      <th></th>\n",
       "      <th>age</th>\n",
       "      <th>height</th>\n",
       "      <th>income</th>\n",
       "    </tr>\n",
       "  </thead>\n",
       "  <tbody>\n",
       "    <tr>\n",
       "      <th>count</th>\n",
       "      <td>41962.000000</td>\n",
       "      <td>41960.000000</td>\n",
       "      <td>41962.000000</td>\n",
       "    </tr>\n",
       "    <tr>\n",
       "      <th>mean</th>\n",
       "      <td>32.331443</td>\n",
       "      <td>68.285534</td>\n",
       "      <td>20002.289190</td>\n",
       "    </tr>\n",
       "    <tr>\n",
       "      <th>std</th>\n",
       "      <td>9.436049</td>\n",
       "      <td>4.008154</td>\n",
       "      <td>97547.615163</td>\n",
       "    </tr>\n",
       "    <tr>\n",
       "      <th>min</th>\n",
       "      <td>18.000000</td>\n",
       "      <td>1.000000</td>\n",
       "      <td>-1.000000</td>\n",
       "    </tr>\n",
       "    <tr>\n",
       "      <th>25%</th>\n",
       "      <td>26.000000</td>\n",
       "      <td>66.000000</td>\n",
       "      <td>-1.000000</td>\n",
       "    </tr>\n",
       "    <tr>\n",
       "      <th>50%</th>\n",
       "      <td>30.000000</td>\n",
       "      <td>68.000000</td>\n",
       "      <td>-1.000000</td>\n",
       "    </tr>\n",
       "    <tr>\n",
       "      <th>75%</th>\n",
       "      <td>37.000000</td>\n",
       "      <td>71.000000</td>\n",
       "      <td>-1.000000</td>\n",
       "    </tr>\n",
       "    <tr>\n",
       "      <th>max</th>\n",
       "      <td>110.000000</td>\n",
       "      <td>95.000000</td>\n",
       "      <td>1000000.000000</td>\n",
       "    </tr>\n",
       "  </tbody>\n",
       "</table>\n",
       "</div>"
      ],
      "text/plain": [
       "                age        height          income\n",
       "count  41962.000000  41960.000000    41962.000000\n",
       "mean      32.331443     68.285534    20002.289190\n",
       "std        9.436049      4.008154    97547.615163\n",
       "min       18.000000      1.000000       -1.000000\n",
       "25%       26.000000     66.000000       -1.000000\n",
       "50%       30.000000     68.000000       -1.000000\n",
       "75%       37.000000     71.000000       -1.000000\n",
       "max      110.000000     95.000000  1000000.000000"
      ]
     },
     "execution_count": 178,
     "metadata": {},
     "output_type": "execute_result"
    }
   ],
   "source": [
    "Ind.describe()"
   ]
  },
  {
   "cell_type": "markdown",
   "id": "d43217a0-5c35-4755-9e86-03cd51917d6f",
   "metadata": {},
   "source": [
    ">### A very minimal table yet lengthy description. The income feature statistics aligns with what we looked at there are many `-1` values as percentiles, and a whooping `1000000.000000` value that could skew the income feature. The height feature has a minimum of `1` which does not make any sense."
   ]
  },
  {
   "cell_type": "code",
   "execution_count": 179,
   "id": "d94bd354-a48d-4204-b3ba-d4d902c0dcb6",
   "metadata": {},
   "outputs": [
    {
     "data": {
      "text/plain": [
       "array([70., 66., 71., 67., 76., 64., 68., 69., 74., 65., 72., 61., 73.,\n",
       "       59., 75., 63., 62., 60., 77., 78., 48., 50., 55., 57.,  8., 51.,\n",
       "        1., 81., 79., 82., 58., 56., 52., 80., 84., 94., 83., 43., 85.,\n",
       "       95., nan, 36., 53., 88.,  3., 49., 54., 47.,  9., 91., 89., 92.,\n",
       "       87., 42., 37.,  6.,  4.])"
      ]
     },
     "execution_count": 179,
     "metadata": {},
     "output_type": "execute_result"
    }
   ],
   "source": [
    "Ind.height.unique()"
   ]
  },
  {
   "cell_type": "code",
   "execution_count": 180,
   "id": "559d8124-6ab8-46cc-8384-5f8c2e5f7de3",
   "metadata": {},
   "outputs": [
    {
     "data": {
      "image/png": "[encoded data removed]",
      "text/plain": [
       "<Figure size 640x480 with 1 Axes>"
      ]
     },
     "metadata": {},
     "output_type": "display_data"
    },
    {
     "data": {
      "text/plain": [
       "<Figure size 640x480 with 0 Axes>"
      ]
     },
     "metadata": {},
     "output_type": "display_data"
    }
   ],
   "source": [
    "sns.histplot(Ind.height, bins=50) \n",
    "plt.plot()\n",
    "plt.show()\n",
    "plt.clf()"
   ]
  },
  {
   "cell_type": "markdown",
   "id": "38e101d3-8a27-454d-acba-68f9e3df5a03",
   "metadata": {},
   "source": [
    ">### 1- As seen by both outputs of the .unique() method and the histogram plots, there are values that like the `1.` inch value that may be an input error. Pre-processing will take care of that.\n",
    "\n",
    ">### 2- The hisplot looks normally distributed."
   ]
  },
  {
   "cell_type": "markdown",
   "id": "135ae7f7-1a33-4377-b45c-47008740a90e",
   "metadata": {},
   "source": [
    "# Regarding features\n",
    "\n",
    "> I plan to Isolate all `essay` variables in one dataframe to expand later on with Natural Language Processing (NLP). (Future Expansion)\n",
    "    \n",
    "> I do not plan on using the `orientation`, `religion`, `status`, `sign` features. "
   ]
  },
  {
   "cell_type": "code",
   "execution_count": 181,
   "id": "e8d77a89-9817-4288-9374-c72c35bbbb0d",
   "metadata": {},
   "outputs": [
    {
     "data": {
      "text/plain": [
       "Index(['essay0', 'essay1', 'essay2', 'essay3', 'essay4', 'essay5', 'essay6',\n",
       "       'essay7', 'essay8', 'essay9'],\n",
       "      dtype='object')"
      ]
     },
     "execution_count": 181,
     "metadata": {},
     "output_type": "execute_result"
    }
   ],
   "source": [
    "essays = Ind[Ind.filter(regex = \"essay[0-9]\").columns]\n",
    "essays.columns"
   ]
  },
  {
   "cell_type": "code",
   "execution_count": 182,
   "id": "c750c70f-9b42-46bf-b687-4c119bf26499",
   "metadata": {},
   "outputs": [],
   "source": [
    "Ind.drop(Ind.filter(regex = \"essay[0-9]\").columns, axis=1,inplace=True)"
   ]
  },
  {
   "cell_type": "code",
   "execution_count": 183,
   "id": "86e9695c-2158-4be3-a358-711d495c6940",
   "metadata": {},
   "outputs": [],
   "source": [
    "Ind.drop(['orientation','religion','status','sign'],axis=1,inplace=True)"
   ]
  },
  {
   "cell_type": "code",
   "execution_count": 184,
   "id": "ef819ccb-6c4f-4a27-8f28-9571c9b078a8",
   "metadata": {},
   "outputs": [
    {
     "data": {
      "text/plain": [
       "Index(['age', 'body_type', 'diet', 'drinks', 'drugs', 'education', 'ethnicity',\n",
       "       'height', 'income', 'job', 'last_online', 'location', 'offspring',\n",
       "       'pets', 'sex', 'smokes', 'speaks'],\n",
       "      dtype='object')"
      ]
     },
     "execution_count": 184,
     "metadata": {},
     "output_type": "execute_result"
    }
   ],
   "source": [
    "Ind.columns"
   ]
  },
  {
   "cell_type": "code",
   "execution_count": 185,
   "id": "3f02d75c-ff91-4ab8-8568-5c5b02260efb",
   "metadata": {},
   "outputs": [
    {
     "name": "stdout",
     "output_type": "stream",
     "text": [
      "<class 'pandas.core.frame.DataFrame'>\n",
      "Index: 41962 entries, 48937 to 39236\n",
      "Data columns (total 17 columns):\n",
      " #   Column       Non-Null Count  Dtype  \n",
      "---  ------       --------------  -----  \n",
      " 0   age          41962 non-null  int64  \n",
      " 1   body_type    38260 non-null  object \n",
      " 2   diet         24933 non-null  object \n",
      " 3   drinks       39874 non-null  object \n",
      " 4   drugs        32120 non-null  object \n",
      " 5   education    37332 non-null  object \n",
      " 6   ethnicity    37975 non-null  object \n",
      " 7   height       41960 non-null  float64\n",
      " 8   income       41962 non-null  int64  \n",
      " 9   job          36228 non-null  object \n",
      " 10  last_online  41962 non-null  object \n",
      " 11  location     41962 non-null  object \n",
      " 12  offspring    17069 non-null  object \n",
      " 13  pets         28057 non-null  object \n",
      " 14  sex          41962 non-null  object \n",
      " 15  smokes       38086 non-null  object \n",
      " 16  speaks       41922 non-null  object \n",
      "dtypes: float64(1), int64(2), object(14)\n",
      "memory usage: 5.8+ MB\n"
     ]
    }
   ],
   "source": [
    "Ind.info()"
   ]
  },
  {
   "cell_type": "markdown",
   "id": "79118713-78ab-4233-99ed-7d4ea46c1d3f",
   "metadata": {},
   "source": [
    "# Data Preprocessing"
   ]
  },
  {
   "cell_type": "markdown",
   "id": "1e8d64e0-2b61-479a-9656-de79ca9ee282",
   "metadata": {},
   "source": [
    "## Any missing values?\n",
    "### In addition to values that could be indicative of a missing/incorrect value in the `income` and `height` fields. It is needed to address NaN (null) values in the dataset"
   ]
  },
  {
   "cell_type": "code",
   "execution_count": 186,
   "id": "2e7cffe9-5f62-46ed-87ec-25d1e89aee2f",
   "metadata": {},
   "outputs": [
    {
     "data": {
      "text/plain": [
       "age            False\n",
       "body_type       True\n",
       "diet            True\n",
       "drinks          True\n",
       "drugs           True\n",
       "education       True\n",
       "ethnicity       True\n",
       "height          True\n",
       "income         False\n",
       "job             True\n",
       "last_online    False\n",
       "location       False\n",
       "offspring       True\n",
       "pets            True\n",
       "sex            False\n",
       "smokes          True\n",
       "speaks          True\n",
       "dtype: bool"
      ]
     },
     "execution_count": 186,
     "metadata": {},
     "output_type": "execute_result"
    }
   ],
   "source": [
    "Ind.isna().any()"
   ]
  },
  {
   "cell_type": "code",
   "execution_count": 187,
   "id": "386fed11-c0bb-4f65-a831-9d4f02c21ade",
   "metadata": {},
   "outputs": [
    {
     "data": {
      "text/plain": [
       "age                0\n",
       "body_type       3702\n",
       "diet           17029\n",
       "drinks          2088\n",
       "drugs           9842\n",
       "education       4630\n",
       "ethnicity       3987\n",
       "height             2\n",
       "income             0\n",
       "job             5734\n",
       "last_online        0\n",
       "location           0\n",
       "offspring      24893\n",
       "pets           13905\n",
       "sex                0\n",
       "smokes          3876\n",
       "speaks            40\n",
       "dtype: int64"
      ]
     },
     "execution_count": 187,
     "metadata": {},
     "output_type": "execute_result"
    }
   ],
   "source": [
    "Ind.isna().sum()"
   ]
  },
  {
   "cell_type": "markdown",
   "id": "534dd2b8-a128-4f5c-a30d-54e108e9abc3",
   "metadata": {},
   "source": [
    "### 1- In terms of categorical features, I will simply replace all null values with an 'Not Shared' to avoid potentially introducing high bias into the dataset. \n",
    "\n",
    "### 2- For `height` (A numeric feature), I will remove null observations as they very low in number."
   ]
  },
  {
   "cell_type": "code",
   "execution_count": 188,
   "id": "b1e1348a-b61c-4339-8996-3f8b532ad9d4",
   "metadata": {},
   "outputs": [],
   "source": [
    "categorical_cols = list(Ind.select_dtypes(include = 'object').columns)\n",
    "numeric_cols = list(Ind.select_dtypes(include = ['int64','float64']).columns)\n",
    "Ind[categorical_cols] = Ind[categorical_cols].fillna('Not Shared')"
   ]
  },
  {
   "cell_type": "code",
   "execution_count": 189,
   "id": "ca797ced-ff53-46af-80c0-ad12f3d29fc0",
   "metadata": {},
   "outputs": [
    {
     "data": {
      "text/plain": [
       "['body_type',\n",
       " 'diet',\n",
       " 'drinks',\n",
       " 'drugs',\n",
       " 'education',\n",
       " 'ethnicity',\n",
       " 'job',\n",
       " 'last_online',\n",
       " 'location',\n",
       " 'offspring',\n",
       " 'pets',\n",
       " 'sex',\n",
       " 'smokes',\n",
       " 'speaks']"
      ]
     },
     "execution_count": 189,
     "metadata": {},
     "output_type": "execute_result"
    }
   ],
   "source": [
    "categorical_cols"
   ]
  },
  {
   "cell_type": "code",
   "execution_count": 190,
   "id": "ba1d66ad-1eee-4b43-8d21-b8d134e6591f",
   "metadata": {},
   "outputs": [
    {
     "data": {
      "text/plain": [
       "['age', 'height', 'income']"
      ]
     },
     "execution_count": 190,
     "metadata": {},
     "output_type": "execute_result"
    }
   ],
   "source": [
    "numeric_cols"
   ]
  },
  {
   "cell_type": "code",
   "execution_count": 191,
   "id": "ea2b5090-3df9-4852-8861-d44f7e9cac82",
   "metadata": {},
   "outputs": [],
   "source": [
    "Ind.dropna(subset=['height'],axis=0,inplace=True)"
   ]
  },
  {
   "cell_type": "code",
   "execution_count": 192,
   "id": "a159c522-045b-4f19-af88-256f3c8825a7",
   "metadata": {},
   "outputs": [
    {
     "data": {
      "text/plain": [
       "age            False\n",
       "body_type      False\n",
       "diet           False\n",
       "drinks         False\n",
       "drugs          False\n",
       "education      False\n",
       "ethnicity      False\n",
       "height         False\n",
       "income         False\n",
       "job            False\n",
       "last_online    False\n",
       "location       False\n",
       "offspring      False\n",
       "pets           False\n",
       "sex            False\n",
       "smokes         False\n",
       "speaks         False\n",
       "dtype: bool"
      ]
     },
     "execution_count": 192,
     "metadata": {},
     "output_type": "execute_result"
    }
   ],
   "source": [
    "Ind.isna().any()"
   ]
  },
  {
   "cell_type": "markdown",
   "id": "6ab44f4b-4bfa-4db5-8bef-d4cd9a1c8651",
   "metadata": {},
   "source": [
    "### Additionaly I want to check on both `height` and `income` values that were viewed before."
   ]
  },
  {
   "cell_type": "code",
   "execution_count": 193,
   "id": "7bfef1e1-8164-4309-89e9-00ab98bb28bd",
   "metadata": {},
   "outputs": [
    {
     "data": {
      "text/plain": [
       "height\n",
       "1.0        1\n",
       "3.0        1\n",
       "4.0        1\n",
       "6.0        1\n",
       "8.0        1\n",
       "9.0        1\n",
       "36.0       8\n",
       "37.0       1\n",
       "42.0       1\n",
       "43.0       2\n",
       "47.0       1\n",
       "48.0       2\n",
       "49.0       1\n",
       "50.0       2\n",
       "51.0       1\n",
       "52.0       1\n",
       "53.0       4\n",
       "54.0       2\n",
       "55.0       6\n",
       "56.0       7\n",
       "57.0      12\n",
       "58.0      31\n",
       "59.0     150\n",
       "60.0     531\n",
       "61.0     758\n",
       "62.0    1556\n",
       "63.0    1970\n",
       "64.0    2737\n",
       "65.0    2678\n",
       "66.0    3332\n",
       "67.0    3753\n",
       "68.0    3793\n",
       "69.0    3592\n",
       "70.0    4302\n",
       "71.0    3366\n",
       "72.0    3716\n",
       "73.0    1961\n",
       "74.0    1746\n",
       "75.0     980\n",
       "76.0     546\n",
       "77.0     200\n",
       "78.0      93\n",
       "79.0      40\n",
       "80.0      20\n",
       "81.0       6\n",
       "82.0      10\n",
       "83.0      11\n",
       "84.0       4\n",
       "85.0       1\n",
       "87.0       1\n",
       "88.0       1\n",
       "89.0       1\n",
       "91.0       1\n",
       "92.0       1\n",
       "94.0       2\n",
       "95.0      13\n",
       "Name: count, dtype: int64"
      ]
     },
     "execution_count": 193,
     "metadata": {},
     "output_type": "execute_result"
    }
   ],
   "source": [
    "Ind.height.value_counts().sort_index()"
   ]
  },
  {
   "cell_type": "markdown",
   "id": "503ff811-cb11-47f3-9583-cd7eb45b4a7c",
   "metadata": {},
   "source": [
    ">### I am under the assumption that very low heights (in inches) are incorrect. I will conclude all heights under 48 inches as erroneous and then inspect distributions later on."
   ]
  },
  {
   "cell_type": "code",
   "execution_count": 194,
   "id": "60f8937e-b016-4137-8e6a-cbd7a3d2652d",
   "metadata": {},
   "outputs": [],
   "source": [
    "Ind = Ind[Ind.height >= 48.0]"
   ]
  },
  {
   "cell_type": "code",
   "execution_count": 195,
   "id": "50a11200-6ac9-4fca-a571-701476063df9",
   "metadata": {},
   "outputs": [
    {
     "data": {
      "text/plain": [
       "array([     -1,   70000,   40000,   80000,   60000,   20000, 1000000,\n",
       "        150000,  100000,   30000,  250000,   50000,  500000], dtype=int64)"
      ]
     },
     "execution_count": 195,
     "metadata": {},
     "output_type": "execute_result"
    }
   ],
   "source": [
    "# Once more re-inspecting the unqiue values in income\n",
    "Ind.income.unique()"
   ]
  },
  {
   "cell_type": "code",
   "execution_count": 196,
   "id": "4f8d9d1a-4515-41d1-a473-63ddf8377153",
   "metadata": {},
   "outputs": [
    {
     "data": {
      "text/plain": [
       "income\n",
       "-1          33925\n",
       " 20000       2051\n",
       " 30000        735\n",
       " 40000        702\n",
       " 50000        675\n",
       " 60000        523\n",
       " 70000        490\n",
       " 80000        782\n",
       " 100000      1133\n",
       " 150000       428\n",
       " 250000       100\n",
       " 500000        33\n",
       " 1000000      364\n",
       "Name: count, dtype: int64"
      ]
     },
     "execution_count": 196,
     "metadata": {},
     "output_type": "execute_result"
    }
   ],
   "source": [
    "Ind.income.value_counts().sort_index()"
   ]
  },
  {
   "cell_type": "markdown",
   "id": "28bd4cec-a718-44b3-9beb-f714818f97d9",
   "metadata": {},
   "source": [
    "> ### A lot of `-1` values that's for sure. This leads me to believe that this data is not missing at random (MNAR) and many do not like to share important aspects like their income. I will leave it be moving forward.\n",
    "\n",
    "You could inspect the following [BLOG](https://medium.com/analytics-vidhya/different-types-of-missing-data-59c87c046bf7) for more information on missing types of data. "
   ]
  },
  {
   "cell_type": "markdown",
   "id": "30010b72-c61d-47a2-b99c-b7e71d1da756",
   "metadata": {},
   "source": [
    "# Are there any apparent outliers?"
   ]
  },
  {
   "cell_type": "code",
   "execution_count": 197,
   "id": "f57e675c-5f67-4587-bcea-2292366ca8d6",
   "metadata": {},
   "outputs": [
    {
     "data": {
      "image/png": "[encoded data removed]",
      "text/plain": [
       "<Figure size 640x480 with 1 Axes>"
      ]
     },
     "metadata": {},
     "output_type": "display_data"
    },
    {
     "data": {
      "text/plain": [
       "<Figure size 640x480 with 0 Axes>"
      ]
     },
     "metadata": {},
     "output_type": "display_data"
    }
   ],
   "source": [
    "Ind[[col for col in numeric_cols if col != 'income']].boxplot()\n",
    "plt.show()\n",
    "plt.clf()"
   ]
  },
  {
   "cell_type": "code",
   "execution_count": 198,
   "id": "10a55e0a-5d51-4194-9aa8-917deb301795",
   "metadata": {},
   "outputs": [
    {
     "data": {
      "image/png": "[encoded data removed]",
      "text/plain": [
       "<Figure size 640x480 with 1 Axes>"
      ]
     },
     "metadata": {},
     "output_type": "display_data"
    },
    {
     "data": {
      "text/plain": [
       "<Figure size 640x480 with 0 Axes>"
      ]
     },
     "metadata": {},
     "output_type": "display_data"
    }
   ],
   "source": [
    "Ind[['income']].boxplot()\n",
    "plt.show()\n",
    "plt.clf()"
   ]
  },
  {
   "cell_type": "code",
   "execution_count": 199,
   "id": "c9538a0a-9294-4cd0-82f5-dbd3bbcb4c34",
   "metadata": {},
   "outputs": [
    {
     "data": {
      "image/png": "[encoded data removed]",
      "text/plain": [
       "<Figure size 640x480 with 1 Axes>"
      ]
     },
     "metadata": {},
     "output_type": "display_data"
    },
    {
     "data": {
      "text/plain": [
       "<Figure size 640x480 with 0 Axes>"
      ]
     },
     "metadata": {},
     "output_type": "display_data"
    }
   ],
   "source": [
    "sns.histplot(Ind.income)\n",
    "plt.show()\n",
    "plt.clf()"
   ]
  },
  {
   "cell_type": "markdown",
   "id": "02779f8f-eb72-47e1-920b-29543ef23373",
   "metadata": {},
   "source": [
    ">### 1- Boxplots and Hisograms can help you eye-catch outliers. I separated `income` from both `age` and `height` as it is in a higher scale (A this early point, we must consider scaling them later on is important)\n",
    "\n",
    ">### 2- `age` and `income` showcase values that appear to be extreme thus the need to deal with them. A simple way to is to clip those two features then observe the results for further actions. (I may bin income as many values are -1 that indicate that values are not shared)\n",
    "\n",
    ">### 3- Within the `heights` boxplot, the values (indicated  by black circles) could represent an actual person that is very tall/short so I won't consider limiting this feature further. "
   ]
  },
  {
   "cell_type": "code",
   "execution_count": 200,
   "id": "9749b047-7d56-4739-9680-89a25302e48c",
   "metadata": {},
   "outputs": [
    {
     "data": {
      "text/html": [
       "<div>\n",
       "<style scoped>\n",
       "    .dataframe tbody tr th:only-of-type {\n",
       "        vertical-align: middle;\n",
       "    }\n",
       "\n",
       "    .dataframe tbody tr th {\n",
       "        vertical-align: top;\n",
       "    }\n",
       "\n",
       "    .dataframe thead th {\n",
       "        text-align: right;\n",
       "    }\n",
       "</style>\n",
       "<table border=\"1\" class=\"dataframe\">\n",
       "  <thead>\n",
       "    <tr style=\"text-align: right;\">\n",
       "      <th></th>\n",
       "      <th>age</th>\n",
       "      <th>body_type</th>\n",
       "      <th>diet</th>\n",
       "      <th>drinks</th>\n",
       "      <th>drugs</th>\n",
       "      <th>education</th>\n",
       "      <th>ethnicity</th>\n",
       "      <th>height</th>\n",
       "      <th>income</th>\n",
       "      <th>job</th>\n",
       "      <th>last_online</th>\n",
       "      <th>location</th>\n",
       "      <th>offspring</th>\n",
       "      <th>pets</th>\n",
       "      <th>sex</th>\n",
       "      <th>smokes</th>\n",
       "      <th>speaks</th>\n",
       "    </tr>\n",
       "  </thead>\n",
       "  <tbody>\n",
       "    <tr>\n",
       "      <th>48937</th>\n",
       "      <td>24</td>\n",
       "      <td>Not Shared</td>\n",
       "      <td>Not Shared</td>\n",
       "      <td>socially</td>\n",
       "      <td>Not Shared</td>\n",
       "      <td>graduated from college/university</td>\n",
       "      <td>other</td>\n",
       "      <td>70.0</td>\n",
       "      <td>-1</td>\n",
       "      <td>Not Shared</td>\n",
       "      <td>2012-06-26-08-22</td>\n",
       "      <td>oakland, california</td>\n",
       "      <td>doesn&amp;rsquo;t have kids</td>\n",
       "      <td>Not Shared</td>\n",
       "      <td>m</td>\n",
       "      <td>Not Shared</td>\n",
       "      <td>english, spanish</td>\n",
       "    </tr>\n",
       "    <tr>\n",
       "      <th>55273</th>\n",
       "      <td>56</td>\n",
       "      <td>thin</td>\n",
       "      <td>mostly vegetarian</td>\n",
       "      <td>socially</td>\n",
       "      <td>never</td>\n",
       "      <td>graduated from masters program</td>\n",
       "      <td>hispanic / latin</td>\n",
       "      <td>66.0</td>\n",
       "      <td>-1</td>\n",
       "      <td>other</td>\n",
       "      <td>2012-07-01-00-36</td>\n",
       "      <td>san rafael, california</td>\n",
       "      <td>Not Shared</td>\n",
       "      <td>likes dogs and likes cats</td>\n",
       "      <td>f</td>\n",
       "      <td>no</td>\n",
       "      <td>english (fluently), spanish (fluently), italia...</td>\n",
       "    </tr>\n",
       "    <tr>\n",
       "      <th>5823</th>\n",
       "      <td>26</td>\n",
       "      <td>average</td>\n",
       "      <td>Not Shared</td>\n",
       "      <td>often</td>\n",
       "      <td>often</td>\n",
       "      <td>graduated from college/university</td>\n",
       "      <td>white</td>\n",
       "      <td>71.0</td>\n",
       "      <td>-1</td>\n",
       "      <td>computer / hardware / software</td>\n",
       "      <td>2012-06-20-13-53</td>\n",
       "      <td>palo alto, california</td>\n",
       "      <td>Not Shared</td>\n",
       "      <td>likes dogs and likes cats</td>\n",
       "      <td>m</td>\n",
       "      <td>sometimes</td>\n",
       "      <td>english (fluently)</td>\n",
       "    </tr>\n",
       "    <tr>\n",
       "      <th>7457</th>\n",
       "      <td>25</td>\n",
       "      <td>Not Shared</td>\n",
       "      <td>mostly anything</td>\n",
       "      <td>Not Shared</td>\n",
       "      <td>Not Shared</td>\n",
       "      <td>working on law school</td>\n",
       "      <td>white</td>\n",
       "      <td>71.0</td>\n",
       "      <td>-1</td>\n",
       "      <td>student</td>\n",
       "      <td>2012-05-20-18-37</td>\n",
       "      <td>san francisco, california</td>\n",
       "      <td>Not Shared</td>\n",
       "      <td>Not Shared</td>\n",
       "      <td>m</td>\n",
       "      <td>Not Shared</td>\n",
       "      <td>english</td>\n",
       "    </tr>\n",
       "    <tr>\n",
       "      <th>34435</th>\n",
       "      <td>25</td>\n",
       "      <td>jacked</td>\n",
       "      <td>vegan</td>\n",
       "      <td>desperately</td>\n",
       "      <td>sometimes</td>\n",
       "      <td>Not Shared</td>\n",
       "      <td>other</td>\n",
       "      <td>67.0</td>\n",
       "      <td>-1</td>\n",
       "      <td>retired</td>\n",
       "      <td>2012-06-17-12-03</td>\n",
       "      <td>san francisco, california</td>\n",
       "      <td>Not Shared</td>\n",
       "      <td>likes dogs and likes cats</td>\n",
       "      <td>m</td>\n",
       "      <td>no</td>\n",
       "      <td>english</td>\n",
       "    </tr>\n",
       "  </tbody>\n",
       "</table>\n",
       "</div>"
      ],
      "text/plain": [
       "       age   body_type               diet       drinks       drugs  \\\n",
       "48937   24  Not Shared         Not Shared     socially  Not Shared   \n",
       "55273   56        thin  mostly vegetarian     socially       never   \n",
       "5823    26     average         Not Shared        often       often   \n",
       "7457    25  Not Shared    mostly anything   Not Shared  Not Shared   \n",
       "34435   25      jacked              vegan  desperately   sometimes   \n",
       "\n",
       "                               education         ethnicity  height  income  \\\n",
       "48937  graduated from college/university             other    70.0      -1   \n",
       "55273     graduated from masters program  hispanic / latin    66.0      -1   \n",
       "5823   graduated from college/university             white    71.0      -1   \n",
       "7457               working on law school             white    71.0      -1   \n",
       "34435                         Not Shared             other    67.0      -1   \n",
       "\n",
       "                                  job       last_online  \\\n",
       "48937                      Not Shared  2012-06-26-08-22   \n",
       "55273                           other  2012-07-01-00-36   \n",
       "5823   computer / hardware / software  2012-06-20-13-53   \n",
       "7457                          student  2012-05-20-18-37   \n",
       "34435                         retired  2012-06-17-12-03   \n",
       "\n",
       "                        location                offspring  \\\n",
       "48937        oakland, california  doesn&rsquo;t have kids   \n",
       "55273     san rafael, california               Not Shared   \n",
       "5823       palo alto, california               Not Shared   \n",
       "7457   san francisco, california               Not Shared   \n",
       "34435  san francisco, california               Not Shared   \n",
       "\n",
       "                            pets sex      smokes  \\\n",
       "48937                 Not Shared   m  Not Shared   \n",
       "55273  likes dogs and likes cats   f          no   \n",
       "5823   likes dogs and likes cats   m   sometimes   \n",
       "7457                  Not Shared   m  Not Shared   \n",
       "34435  likes dogs and likes cats   m          no   \n",
       "\n",
       "                                                  speaks  \n",
       "48937                                   english, spanish  \n",
       "55273  english (fluently), spanish (fluently), italia...  \n",
       "5823                                  english (fluently)  \n",
       "7457                                             english  \n",
       "34435                                            english  "
      ]
     },
     "execution_count": 200,
     "metadata": {},
     "output_type": "execute_result"
    }
   ],
   "source": [
    "Ind.head()"
   ]
  },
  {
   "cell_type": "code",
   "execution_count": 201,
   "id": "dc21b158-7b13-4db1-9623-371fc3c124b0",
   "metadata": {},
   "outputs": [],
   "source": [
    "def cap_outliers(df,cols):\n",
    "    \n",
    "    feature_bounds = {}\n",
    "    for feature in cols:\n",
    "        Q1 = np.percentile(df[feature],25)\n",
    "        Q3 = np.percentile(df[feature],75)\n",
    "        IQR = Q3 - Q1\n",
    "        lower_bound = Q1 - 2 * IQR \n",
    "        upper_bound = Q3 + 2 * IQR\n",
    "        # df[feature] = np.where(df[feature] > 0,\n",
    "        #                        np.clip(df[feature], lower_bound, upper_bound),\n",
    "        #                        df[feature])\n",
    "        df[feature] = np.where(df[feature] < lower_bound, lower_bound, df[feature])\n",
    "        df[feature] = np.where(df[feature] > upper_bound, upper_bound, df[feature])\n",
    "        \n",
    "        feature_bounds[feature] = (lower_bound,upper_bound)\n",
    "    return feature_bounds"
   ]
  },
  {
   "cell_type": "code",
   "execution_count": 160,
   "id": "e1f3a236-385c-4d69-a0e3-ed42e4b0690b",
   "metadata": {
    "editable": true,
    "slideshow": {
     "slide_type": ""
    },
    "tags": []
   },
   "outputs": [
    {
     "data": {
      "text/plain": [
       "{'age': (4.0, 59.0)}"
      ]
     },
     "execution_count": 160,
     "metadata": {},
     "output_type": "execute_result"
    }
   ],
   "source": [
    "feature_bounds = cap_outliers(Ind,['age'])\n",
    "feature_bounds"
   ]
  },
  {
   "cell_type": "code",
   "execution_count": 205,
   "id": "8e09e460-815d-425d-b254-7cfb7d841cc0",
   "metadata": {},
   "outputs": [],
   "source": [
    "# Apply the bounds to the test test\n",
    "test_set = test_set[(test_set.age >= feature_bounds['age'][0]) & (test_set.age <= feature_bounds['age'][1])]"
   ]
  },
  {
   "cell_type": "code",
   "execution_count": 206,
   "id": "285d78b6-6c2b-4686-a555-cb74febccd18",
   "metadata": {},
   "outputs": [
    {
     "data": {
      "image/png": "[encoded data removed]",
      "text/plain": [
       "<Figure size 640x480 with 1 Axes>"
      ]
     },
     "metadata": {},
     "output_type": "display_data"
    },
    {
     "data": {
      "text/plain": [
       "<Figure size 640x480 with 0 Axes>"
      ]
     },
     "metadata": {},
     "output_type": "display_data"
    }
   ],
   "source": [
    "Ind[[col for col in numeric_cols if col != 'income']].boxplot()\n",
    "plt.show()\n",
    "plt.clf()"
   ]
  },
  {
   "cell_type": "code",
   "execution_count": 207,
   "id": "25ee4608-a182-431d-b48a-124b9de56a29",
   "metadata": {
    "editable": true,
    "slideshow": {
     "slide_type": ""
    },
    "tags": []
   },
   "outputs": [],
   "source": [
    "def bin_income(df):\n",
    "    df['income_category'] = df.income.apply(lambda x: np.nan if x == -1 else x)\n",
    "\n",
    "    bins = [0, 50000, 100000, 500000, float(np.inf)]\n",
    "    labels = ['$0-$50k', '$50k-$100k', '$100k-$500k', '$500k+']\n",
    "\n",
    "    df['income_category'] = pd.cut(\n",
    "    df['income'], \n",
    "    bins=bins,\n",
    "    labels=labels,\n",
    "    right=False)\n",
    "\n",
    "    df['income_category'] = df['income_category'].astype('object').fillna('Not Shared')"
   ]
  },
  {
   "cell_type": "code",
   "execution_count": 208,
   "id": "e58621e1-ad48-459a-82a1-dda94321e9f0",
   "metadata": {},
   "outputs": [],
   "source": [
    "bin_income(Ind)"
   ]
  },
  {
   "cell_type": "code",
   "execution_count": 209,
   "id": "922b96c6-7280-43f2-b625-1511495d7b8e",
   "metadata": {
    "scrolled": true
   },
   "outputs": [
    {
     "data": {
      "text/plain": [
       "array(['Not Shared', '$50k-$100k', '$0-$50k', '$500k+', '$100k-$500k'],\n",
       "      dtype=object)"
      ]
     },
     "execution_count": 209,
     "metadata": {},
     "output_type": "execute_result"
    }
   ],
   "source": [
    "Ind.income_category.unique()"
   ]
  },
  {
   "cell_type": "code",
   "execution_count": 210,
   "id": "0ac476b7-4e77-4073-bf16-fed1d9e7f29c",
   "metadata": {},
   "outputs": [],
   "source": [
    "indices = Ind.income_category.value_counts().index"
   ]
  },
  {
   "cell_type": "code",
   "execution_count": 211,
   "id": "c8941e06-b831-4728-b00a-1b67536aec9a",
   "metadata": {},
   "outputs": [],
   "source": [
    "values = Ind.income_category.value_counts().values"
   ]
  },
  {
   "cell_type": "code",
   "execution_count": 212,
   "id": "97a14d8e-5412-4dde-b0e4-0a836bc2fdcf",
   "metadata": {},
   "outputs": [
    {
     "data": {
      "image/png": "[encoded data removed]",
      "text/plain": [
       "<Figure size 640x480 with 1 Axes>"
      ]
     },
     "metadata": {},
     "output_type": "display_data"
    },
    {
     "data": {
      "text/plain": [
       "<Figure size 640x480 with 0 Axes>"
      ]
     },
     "metadata": {},
     "output_type": "display_data"
    }
   ],
   "source": [
    "def addlabels(x,y):\n",
    "    for i in range(len(x)):\n",
    "        plt.text(i,y[i]*1.05,y[i],ha = 'center',bbox = dict(facecolor = 'white', alpha =.5)) # https://www.geeksforgeeks.org/adding-value-labels-on-a-matplotlib-bar-chart/\n",
    "                                                                                           # https://matplotlib.org/stable/api/_as_gen/matplotlib.pyplot.text.html\n",
    "plt.bar(x=indices,height=values)\n",
    "addlabels(x=indices,y=values)\n",
    "plt.title(\"Income Category bins' counts\")\n",
    "plt.show()\n",
    "plt.clf()"
   ]
  },
  {
   "cell_type": "markdown",
   "id": "e467cdd7-8b7c-4ecd-922e-08fc33dd2b50",
   "metadata": {},
   "source": [
    "> ### I will drop the income column (converted to category bins) and assign it to a new dataframe"
   ]
  },
  {
   "cell_type": "code",
   "execution_count": 213,
   "id": "d02982e3-ede6-47ba-aba2-d97989d86936",
   "metadata": {},
   "outputs": [],
   "source": [
    "Individuals = Ind.drop(\"income\",axis=1)"
   ]
  },
  {
   "cell_type": "code",
   "execution_count": 214,
   "id": "0980b127-0d6e-46ac-b453-4e405ee2c30f",
   "metadata": {},
   "outputs": [
    {
     "data": {
      "text/html": [
       "<div>\n",
       "<style scoped>\n",
       "    .dataframe tbody tr th:only-of-type {\n",
       "        vertical-align: middle;\n",
       "    }\n",
       "\n",
       "    .dataframe tbody tr th {\n",
       "        vertical-align: top;\n",
       "    }\n",
       "\n",
       "    .dataframe thead th {\n",
       "        text-align: right;\n",
       "    }\n",
       "</style>\n",
       "<table border=\"1\" class=\"dataframe\">\n",
       "  <thead>\n",
       "    <tr style=\"text-align: right;\">\n",
       "      <th></th>\n",
       "      <th>age</th>\n",
       "      <th>body_type</th>\n",
       "      <th>diet</th>\n",
       "      <th>drinks</th>\n",
       "      <th>drugs</th>\n",
       "      <th>education</th>\n",
       "      <th>ethnicity</th>\n",
       "      <th>height</th>\n",
       "      <th>job</th>\n",
       "      <th>last_online</th>\n",
       "      <th>location</th>\n",
       "      <th>offspring</th>\n",
       "      <th>pets</th>\n",
       "      <th>sex</th>\n",
       "      <th>smokes</th>\n",
       "      <th>speaks</th>\n",
       "      <th>income_category</th>\n",
       "    </tr>\n",
       "  </thead>\n",
       "  <tbody>\n",
       "    <tr>\n",
       "      <th>48937</th>\n",
       "      <td>24</td>\n",
       "      <td>Not Shared</td>\n",
       "      <td>Not Shared</td>\n",
       "      <td>socially</td>\n",
       "      <td>Not Shared</td>\n",
       "      <td>graduated from college/university</td>\n",
       "      <td>other</td>\n",
       "      <td>70.0</td>\n",
       "      <td>Not Shared</td>\n",
       "      <td>2012-06-26-08-22</td>\n",
       "      <td>oakland, california</td>\n",
       "      <td>doesn&amp;rsquo;t have kids</td>\n",
       "      <td>Not Shared</td>\n",
       "      <td>m</td>\n",
       "      <td>Not Shared</td>\n",
       "      <td>english, spanish</td>\n",
       "      <td>Not Shared</td>\n",
       "    </tr>\n",
       "    <tr>\n",
       "      <th>55273</th>\n",
       "      <td>56</td>\n",
       "      <td>thin</td>\n",
       "      <td>mostly vegetarian</td>\n",
       "      <td>socially</td>\n",
       "      <td>never</td>\n",
       "      <td>graduated from masters program</td>\n",
       "      <td>hispanic / latin</td>\n",
       "      <td>66.0</td>\n",
       "      <td>other</td>\n",
       "      <td>2012-07-01-00-36</td>\n",
       "      <td>san rafael, california</td>\n",
       "      <td>Not Shared</td>\n",
       "      <td>likes dogs and likes cats</td>\n",
       "      <td>f</td>\n",
       "      <td>no</td>\n",
       "      <td>english (fluently), spanish (fluently), italia...</td>\n",
       "      <td>Not Shared</td>\n",
       "    </tr>\n",
       "    <tr>\n",
       "      <th>5823</th>\n",
       "      <td>26</td>\n",
       "      <td>average</td>\n",
       "      <td>Not Shared</td>\n",
       "      <td>often</td>\n",
       "      <td>often</td>\n",
       "      <td>graduated from college/university</td>\n",
       "      <td>white</td>\n",
       "      <td>71.0</td>\n",
       "      <td>computer / hardware / software</td>\n",
       "      <td>2012-06-20-13-53</td>\n",
       "      <td>palo alto, california</td>\n",
       "      <td>Not Shared</td>\n",
       "      <td>likes dogs and likes cats</td>\n",
       "      <td>m</td>\n",
       "      <td>sometimes</td>\n",
       "      <td>english (fluently)</td>\n",
       "      <td>Not Shared</td>\n",
       "    </tr>\n",
       "    <tr>\n",
       "      <th>7457</th>\n",
       "      <td>25</td>\n",
       "      <td>Not Shared</td>\n",
       "      <td>mostly anything</td>\n",
       "      <td>Not Shared</td>\n",
       "      <td>Not Shared</td>\n",
       "      <td>working on law school</td>\n",
       "      <td>white</td>\n",
       "      <td>71.0</td>\n",
       "      <td>student</td>\n",
       "      <td>2012-05-20-18-37</td>\n",
       "      <td>san francisco, california</td>\n",
       "      <td>Not Shared</td>\n",
       "      <td>Not Shared</td>\n",
       "      <td>m</td>\n",
       "      <td>Not Shared</td>\n",
       "      <td>english</td>\n",
       "      <td>Not Shared</td>\n",
       "    </tr>\n",
       "    <tr>\n",
       "      <th>34435</th>\n",
       "      <td>25</td>\n",
       "      <td>jacked</td>\n",
       "      <td>vegan</td>\n",
       "      <td>desperately</td>\n",
       "      <td>sometimes</td>\n",
       "      <td>Not Shared</td>\n",
       "      <td>other</td>\n",
       "      <td>67.0</td>\n",
       "      <td>retired</td>\n",
       "      <td>2012-06-17-12-03</td>\n",
       "      <td>san francisco, california</td>\n",
       "      <td>Not Shared</td>\n",
       "      <td>likes dogs and likes cats</td>\n",
       "      <td>m</td>\n",
       "      <td>no</td>\n",
       "      <td>english</td>\n",
       "      <td>Not Shared</td>\n",
       "    </tr>\n",
       "  </tbody>\n",
       "</table>\n",
       "</div>"
      ],
      "text/plain": [
       "       age   body_type               diet       drinks       drugs  \\\n",
       "48937   24  Not Shared         Not Shared     socially  Not Shared   \n",
       "55273   56        thin  mostly vegetarian     socially       never   \n",
       "5823    26     average         Not Shared        often       often   \n",
       "7457    25  Not Shared    mostly anything   Not Shared  Not Shared   \n",
       "34435   25      jacked              vegan  desperately   sometimes   \n",
       "\n",
       "                               education         ethnicity  height  \\\n",
       "48937  graduated from college/university             other    70.0   \n",
       "55273     graduated from masters program  hispanic / latin    66.0   \n",
       "5823   graduated from college/university             white    71.0   \n",
       "7457               working on law school             white    71.0   \n",
       "34435                         Not Shared             other    67.0   \n",
       "\n",
       "                                  job       last_online  \\\n",
       "48937                      Not Shared  2012-06-26-08-22   \n",
       "55273                           other  2012-07-01-00-36   \n",
       "5823   computer / hardware / software  2012-06-20-13-53   \n",
       "7457                          student  2012-05-20-18-37   \n",
       "34435                         retired  2012-06-17-12-03   \n",
       "\n",
       "                        location                offspring  \\\n",
       "48937        oakland, california  doesn&rsquo;t have kids   \n",
       "55273     san rafael, california               Not Shared   \n",
       "5823       palo alto, california               Not Shared   \n",
       "7457   san francisco, california               Not Shared   \n",
       "34435  san francisco, california               Not Shared   \n",
       "\n",
       "                            pets sex      smokes  \\\n",
       "48937                 Not Shared   m  Not Shared   \n",
       "55273  likes dogs and likes cats   f          no   \n",
       "5823   likes dogs and likes cats   m   sometimes   \n",
       "7457                  Not Shared   m  Not Shared   \n",
       "34435  likes dogs and likes cats   m          no   \n",
       "\n",
       "                                                  speaks income_category  \n",
       "48937                                   english, spanish      Not Shared  \n",
       "55273  english (fluently), spanish (fluently), italia...      Not Shared  \n",
       "5823                                  english (fluently)      Not Shared  \n",
       "7457                                             english      Not Shared  \n",
       "34435                                            english      Not Shared  "
      ]
     },
     "execution_count": 214,
     "metadata": {},
     "output_type": "execute_result"
    }
   ],
   "source": [
    "Individuals.head()"
   ]
  },
  {
   "cell_type": "code",
   "execution_count": 215,
   "id": "cfd48be5-13c2-4479-813a-00f49e52a016",
   "metadata": {},
   "outputs": [
    {
     "data": {
      "text/plain": [
       "array(['Not Shared', '$50k-$100k', '$0-$50k', '$500k+', '$100k-$500k'],\n",
       "      dtype=object)"
      ]
     },
     "execution_count": 215,
     "metadata": {},
     "output_type": "execute_result"
    }
   ],
   "source": [
    "Individuals.income_category.unique()"
   ]
  },
  {
   "cell_type": "markdown",
   "id": "5ac59bcb-a04a-4b0e-a621-43efa9ec027d",
   "metadata": {},
   "source": [
    "### A pirplot can \"create a grid of Axes such that each numeric variable in data will by shared across the y-axes across a single row and the x-axes across a single column. The diagonal plots are treated differently: a univariate distribution plot is drawn to show the marginal distribution of the data in each column.\"\n",
    "\n",
    "https://seaborn.pydata.org/generated/seaborn.pairplot.html"
   ]
  },
  {
   "cell_type": "code",
   "execution_count": 216,
   "id": "2ee3d06c-b3bc-4c8a-adbf-a5ed7a5e50c7",
   "metadata": {},
   "outputs": [
    {
     "data": {
      "image/png": "[encoded data removed]",
      "text/plain": [
       "<Figure size 500x500 with 6 Axes>"
      ]
     },
     "metadata": {},
     "output_type": "display_data"
    },
    {
     "data": {
      "text/plain": [
       "<Figure size 640x480 with 0 Axes>"
      ]
     },
     "metadata": {},
     "output_type": "display_data"
    }
   ],
   "source": [
    "sns.pairplot(Individuals)\n",
    "plt.show()\n",
    "plt.clf()"
   ]
  },
  {
   "cell_type": "markdown",
   "id": "188a12f2-63c3-46a1-920f-62b848961055",
   "metadata": {},
   "source": [
    "> ### 1- Looking at the diagonal we could insepct the distributio of both numerical variables\n",
    "> ### 2- The Height variable as inspected before seems normally distribured\n",
    "> ### 3- The age variable is somewhat skewed and that could be dealt with via things like applying the log transformation (typically on right-skewed data), normalize our data, or apply machine learning algorithms that do not get affected by outliers to a high degree\n",
    "> ### 4- The scatter plots does not show any particular trend, but there is a dense population between ages 60 - 80 and heights 60 - 80 as well"
   ]
  },
  {
   "cell_type": "markdown",
   "id": "5ce5525e-93c6-45a7-824c-8778798155a2",
   "metadata": {},
   "source": [
    "# Explartory data Analysis \n",
    "Where we explore, inspect, and analyze a dataset to understand characterstics about it.\n",
    "\n",
    "\n",
    "I had the following list drafter to explore univariate (A statistic about a single feature), bivariate (statistics about two features), and Multivariate (statistics about muultiple features) analysis.\n",
    "\n",
    "    3a. Understanding the Age distribution\n",
    "    3b. Eating habits (+ relation with body type?)\n",
    "    3c. The prevalence of dangerous acts \n",
    "    3d. Frequency of Education (+ across ages) - (+ edu vs income) - (+ across ages and an income hue)\n",
    "    3e. Frequency of Jobs - (Jobs vs incomes) - (Max vs Min Jobs in terms of salary)\n",
    "    3f. Frequency and Proportions of Locations (Average income and height per location) - (Highest Frequency Job in each Location)\n",
    "    3g. Activity on the site - (Activity per location)\n",
    "    3h. Is there an association between having pet and a child? (exploring different associations) (dealing and understanding the answers in the offspring variable)\n",
    "    ... Exploring hypothesis tests \n",
    "    ... Exploring exploring further associations \n",
    "    ... Exploring feature engineering before feeding them into the machine learning models - Filter Methods\n",
    "    ... Exploring feature engineering after choosing the model - Wrapper Methods \n",
    "    ... Methods to counter overfitting on training data\n",
    "    ... Tuning hyperparameters on the validation set\n",
    "    ... Inspecting the final model's ability to generalize on new unseen data through the test set\n",
    "    ... Saving the final model in a format with all hyperparameters needed and weights\n",
    "    ... Future upgrades and ideas that could be implemented in the future"
   ]
  },
  {
   "cell_type": "markdown",
   "id": "ba287b07-63f8-49e3-ba3e-86099a6342d2",
   "metadata": {},
   "source": [
    "## Inspecting the age distribution "
   ]
  },
  {
   "cell_type": "code",
   "execution_count": 222,
   "id": "2a4a098d-e176-4d47-968c-a106cb005042",
   "metadata": {},
   "outputs": [
    {
     "name": "stdout",
     "output_type": "stream",
     "text": [
      "The typical age of a user on this site: 32 years old\n"
     ]
    },
    {
     "data": {
      "image/png": "[encoded data removed]",
      "text/plain": [
       "<Figure size 640x480 with 1 Axes>"
      ]
     },
     "metadata": {},
     "output_type": "display_data"
    },
    {
     "data": {
      "text/plain": [
       "<Figure size 640x480 with 0 Axes>"
      ]
     },
     "metadata": {},
     "output_type": "display_data"
    }
   ],
   "source": [
    "mean_age = Individuals.age.mean()\n",
    "print(f\"The typical age of a user on this site: {round(mean_age)} years old\")\n",
    "sns.histplot(Individuals.age,bins=50)\n",
    "plt.axvline(mean_age,color='r')\n",
    "plt.show()\n",
    "plt.clf()"
   ]
  },
  {
   "cell_type": "code",
   "execution_count": null,
   "id": "4c074fbb-3ff5-4575-9d1b-13cffe501510",
   "metadata": {},
   "outputs": [],
   "source": [
    "std = Individuals.age.mean()"
   ]
  },
  {
   "cell_type": "markdown",
   "id": "d3ee0285-3473-40dd-88d4-f15d53e49e08",
   "metadata": {},
   "source": [
    "> ### As mentioned previoulsy during pre-processing, the data is somewhat right-skewed. However I do not plan on applying a log transform until verifying the performance of models on this feature as it is to keep the interpretability aspect intact. Normalizing the data and choosing a robust model will help in achieving better results as well. "
   ]
  },
  {
   "cell_type": "markdown",
   "id": "e28f282e-fdcf-47b0-bf05-a10c5db37526",
   "metadata": {},
   "source": [
    "## What are the frequency of diets adopted across the userbase?\n",
    "    Does it have any association with the bodytype?"
   ]
  },
  {
   "cell_type": "code",
   "execution_count": 223,
   "id": "156482c1-d271-4f7e-bb06-0074859d5b66",
   "metadata": {},
   "outputs": [
    {
     "data": {
      "text/plain": [
       "diet\n",
       "Not Shared             17018\n",
       "mostly anything        11718\n",
       "anything                4306\n",
       "strictly anything       3589\n",
       "mostly vegetarian       2407\n",
       "mostly other             705\n",
       "strictly vegetarian      599\n",
       "vegetarian               428\n",
       "strictly other           320\n",
       "mostly vegan             252\n",
       "other                    225\n",
       "strictly vegan           151\n",
       "vegan                     97\n",
       "mostly kosher             51\n",
       "mostly halal              35\n",
       "strictly kosher           14\n",
       "strictly halal            13\n",
       "kosher                     7\n",
       "halal                      6\n",
       "Name: count, dtype: int64"
      ]
     },
     "execution_count": 223,
     "metadata": {},
     "output_type": "execute_result"
    }
   ],
   "source": [
    "Individuals.diet.value_counts()"
   ]
  },
  {
   "cell_type": "code",
   "execution_count": 224,
   "id": "6b6c2e30-a082-430a-98ad-e6d80de53ca2",
   "metadata": {},
   "outputs": [
    {
     "data": {
      "text/plain": [
       "diet\n",
       "Not Shared             0.405760\n",
       "mostly anything        0.279392\n",
       "anything               0.102668\n",
       "strictly anything      0.085573\n",
       "mostly vegetarian      0.057390\n",
       "mostly other           0.016809\n",
       "strictly vegetarian    0.014282\n",
       "vegetarian             0.010205\n",
       "strictly other         0.007630\n",
       "mostly vegan           0.006008\n",
       "other                  0.005365\n",
       "strictly vegan         0.003600\n",
       "vegan                  0.002313\n",
       "mostly kosher          0.001216\n",
       "mostly halal           0.000835\n",
       "strictly kosher        0.000334\n",
       "strictly halal         0.000310\n",
       "kosher                 0.000167\n",
       "halal                  0.000143\n",
       "Name: proportion, dtype: float64"
      ]
     },
     "execution_count": 224,
     "metadata": {},
     "output_type": "execute_result"
    }
   ],
   "source": [
    "Individuals.diet.value_counts(normalize = True)"
   ]
  },
  {
   "cell_type": "code",
   "execution_count": 235,
   "id": "4d6fb3fa-6b44-4275-a242-2d5613f44c22",
   "metadata": {},
   "outputs": [
    {
     "data": {
      "image/png": "[encoded data removed]",
      "text/plain": [
       "<Figure size 640x480 with 1 Axes>"
      ]
     },
     "metadata": {},
     "output_type": "display_data"
    },
    {
     "data": {
      "text/plain": [
       "<Figure size 640x480 with 0 Axes>"
      ]
     },
     "metadata": {},
     "output_type": "display_data"
    }
   ],
   "source": [
    "counts = Individuals.diet.value_counts().sort_values(ascending=False)\n",
    "columns = Individuals.diet.value_counts().sort_values(ascending=False).index\n",
    "sns.barplot(x=counts, y=columns)\n",
    "plt.show()\n",
    "plt.clf()"
   ]
  },
  {
   "cell_type": "markdown",
   "id": "bc3eadd7-8fd4-4128-b45a-0cb82724837c",
   "metadata": {},
   "source": [
    "> ### An observation noticed is that each type of diet has been split into three restrictions : That diet itself (assuming that it is the lowest contraint), Mostly (Which incorporates the diet to the most part but may allow other diet plans into theirs), Strictly (Will only follow that diet without exceptions)\n",
    "> ### Other than those who did not wanted to share their private diet habits (my assumption), the highest percentage of users seem to like eating mostly anything allowing for other diet options to potentially to take roles in their lifes."
   ]
  },
  {
   "cell_type": "markdown",
   "id": "23efb885-334b-4c34-8c0b-b1439e35aadc",
   "metadata": {},
   "source": [
    "## Question: Does diet have any association with body type?\n",
    "\n",
    "    > This question tackles the association between diet and bodytype features to see if there are significant associations or not.\n",
    "    > Since we are analyzing features in a sample and want to generalize results to the population, we rely on hypothesis testing.\n",
    "    > Both features are categorical so the Hypothesis test appropriate to test our question would the \"Chi-square Statistic\" Hypothesis test."
   ]
  },
  {
   "cell_type": "markdown",
   "id": "fc1c053b-8cf0-4c54-b6b6-9eba5ee8c72d",
   "metadata": {},
   "source": [
    "We have two hypotheses:\n",
    "\n",
    "    The Null Hypothesis : There is not a significant association between the diet a person takes and their bodytype.\n",
    "    The Alternative Hypothesis: There is a significant association between the diet a person takes and their bodytype.\n",
    "\n",
    "We use the test results to decide whether to reject the null hypothesis or fail to reject it, based on the p-value."
   ]
  },
  {
   "cell_type": "code",
   "execution_count": 242,
   "id": "6fb2eef9-46a4-4d40-aba8-3197a79771b8",
   "metadata": {},
   "outputs": [],
   "source": [
    "cross_tab = pd.crosstab(Individuals.diet,Individuals.body_type)"
   ]
  },
  {
   "cell_type": "code",
   "execution_count": 243,
   "id": "299de99c-0b98-49d5-adec-d61399143263",
   "metadata": {},
   "outputs": [
    {
     "data": {
      "text/html": [
       "<div>\n",
       "<style scoped>\n",
       "    .dataframe tbody tr th:only-of-type {\n",
       "        vertical-align: middle;\n",
       "    }\n",
       "\n",
       "    .dataframe tbody tr th {\n",
       "        vertical-align: top;\n",
       "    }\n",
       "\n",
       "    .dataframe thead th {\n",
       "        text-align: right;\n",
       "    }\n",
       "</style>\n",
       "<table border=\"1\" class=\"dataframe\">\n",
       "  <thead>\n",
       "    <tr style=\"text-align: right;\">\n",
       "      <th>body_type</th>\n",
       "      <th>Not Shared</th>\n",
       "      <th>a little extra</th>\n",
       "      <th>athletic</th>\n",
       "      <th>average</th>\n",
       "      <th>curvy</th>\n",
       "      <th>fit</th>\n",
       "      <th>full figured</th>\n",
       "      <th>jacked</th>\n",
       "      <th>overweight</th>\n",
       "      <th>rather not say</th>\n",
       "      <th>skinny</th>\n",
       "      <th>thin</th>\n",
       "      <th>used up</th>\n",
       "    </tr>\n",
       "    <tr>\n",
       "      <th>diet</th>\n",
       "      <th></th>\n",
       "      <th></th>\n",
       "      <th></th>\n",
       "      <th></th>\n",
       "      <th></th>\n",
       "      <th></th>\n",
       "      <th></th>\n",
       "      <th></th>\n",
       "      <th></th>\n",
       "      <th></th>\n",
       "      <th></th>\n",
       "      <th></th>\n",
       "      <th></th>\n",
       "    </tr>\n",
       "  </thead>\n",
       "  <tbody>\n",
       "    <tr>\n",
       "      <th>Not Shared</th>\n",
       "      <td>2605</td>\n",
       "      <td>722</td>\n",
       "      <td>3168</td>\n",
       "      <td>3994</td>\n",
       "      <td>1022</td>\n",
       "      <td>3180</td>\n",
       "      <td>299</td>\n",
       "      <td>96</td>\n",
       "      <td>113</td>\n",
       "      <td>75</td>\n",
       "      <td>488</td>\n",
       "      <td>1198</td>\n",
       "      <td>58</td>\n",
       "    </tr>\n",
       "    <tr>\n",
       "      <th>anything</th>\n",
       "      <td>200</td>\n",
       "      <td>196</td>\n",
       "      <td>926</td>\n",
       "      <td>1157</td>\n",
       "      <td>267</td>\n",
       "      <td>929</td>\n",
       "      <td>69</td>\n",
       "      <td>21</td>\n",
       "      <td>30</td>\n",
       "      <td>12</td>\n",
       "      <td>127</td>\n",
       "      <td>357</td>\n",
       "      <td>15</td>\n",
       "    </tr>\n",
       "    <tr>\n",
       "      <th>halal</th>\n",
       "      <td>1</td>\n",
       "      <td>0</td>\n",
       "      <td>0</td>\n",
       "      <td>2</td>\n",
       "      <td>0</td>\n",
       "      <td>0</td>\n",
       "      <td>0</td>\n",
       "      <td>0</td>\n",
       "      <td>0</td>\n",
       "      <td>0</td>\n",
       "      <td>1</td>\n",
       "      <td>2</td>\n",
       "      <td>0</td>\n",
       "    </tr>\n",
       "    <tr>\n",
       "      <th>kosher</th>\n",
       "      <td>1</td>\n",
       "      <td>1</td>\n",
       "      <td>0</td>\n",
       "      <td>0</td>\n",
       "      <td>0</td>\n",
       "      <td>3</td>\n",
       "      <td>0</td>\n",
       "      <td>0</td>\n",
       "      <td>0</td>\n",
       "      <td>0</td>\n",
       "      <td>1</td>\n",
       "      <td>0</td>\n",
       "      <td>1</td>\n",
       "    </tr>\n",
       "    <tr>\n",
       "      <th>mostly anything</th>\n",
       "      <td>384</td>\n",
       "      <td>582</td>\n",
       "      <td>2421</td>\n",
       "      <td>3132</td>\n",
       "      <td>799</td>\n",
       "      <td>2658</td>\n",
       "      <td>214</td>\n",
       "      <td>74</td>\n",
       "      <td>104</td>\n",
       "      <td>35</td>\n",
       "      <td>334</td>\n",
       "      <td>921</td>\n",
       "      <td>60</td>\n",
       "    </tr>\n",
       "    <tr>\n",
       "      <th>mostly halal</th>\n",
       "      <td>2</td>\n",
       "      <td>5</td>\n",
       "      <td>11</td>\n",
       "      <td>5</td>\n",
       "      <td>2</td>\n",
       "      <td>5</td>\n",
       "      <td>0</td>\n",
       "      <td>2</td>\n",
       "      <td>1</td>\n",
       "      <td>0</td>\n",
       "      <td>0</td>\n",
       "      <td>0</td>\n",
       "      <td>2</td>\n",
       "    </tr>\n",
       "    <tr>\n",
       "      <th>mostly kosher</th>\n",
       "      <td>2</td>\n",
       "      <td>1</td>\n",
       "      <td>13</td>\n",
       "      <td>9</td>\n",
       "      <td>3</td>\n",
       "      <td>8</td>\n",
       "      <td>3</td>\n",
       "      <td>1</td>\n",
       "      <td>0</td>\n",
       "      <td>1</td>\n",
       "      <td>2</td>\n",
       "      <td>5</td>\n",
       "      <td>3</td>\n",
       "    </tr>\n",
       "    <tr>\n",
       "      <th>mostly other</th>\n",
       "      <td>18</td>\n",
       "      <td>37</td>\n",
       "      <td>178</td>\n",
       "      <td>166</td>\n",
       "      <td>58</td>\n",
       "      <td>157</td>\n",
       "      <td>17</td>\n",
       "      <td>11</td>\n",
       "      <td>7</td>\n",
       "      <td>3</td>\n",
       "      <td>13</td>\n",
       "      <td>28</td>\n",
       "      <td>12</td>\n",
       "    </tr>\n",
       "    <tr>\n",
       "      <th>mostly vegan</th>\n",
       "      <td>21</td>\n",
       "      <td>10</td>\n",
       "      <td>42</td>\n",
       "      <td>39</td>\n",
       "      <td>17</td>\n",
       "      <td>66</td>\n",
       "      <td>1</td>\n",
       "      <td>3</td>\n",
       "      <td>2</td>\n",
       "      <td>1</td>\n",
       "      <td>12</td>\n",
       "      <td>36</td>\n",
       "      <td>2</td>\n",
       "    </tr>\n",
       "    <tr>\n",
       "      <th>mostly vegetarian</th>\n",
       "      <td>132</td>\n",
       "      <td>66</td>\n",
       "      <td>447</td>\n",
       "      <td>485</td>\n",
       "      <td>218</td>\n",
       "      <td>669</td>\n",
       "      <td>31</td>\n",
       "      <td>17</td>\n",
       "      <td>11</td>\n",
       "      <td>8</td>\n",
       "      <td>74</td>\n",
       "      <td>238</td>\n",
       "      <td>11</td>\n",
       "    </tr>\n",
       "    <tr>\n",
       "      <th>other</th>\n",
       "      <td>7</td>\n",
       "      <td>7</td>\n",
       "      <td>47</td>\n",
       "      <td>62</td>\n",
       "      <td>17</td>\n",
       "      <td>45</td>\n",
       "      <td>11</td>\n",
       "      <td>2</td>\n",
       "      <td>2</td>\n",
       "      <td>0</td>\n",
       "      <td>1</td>\n",
       "      <td>21</td>\n",
       "      <td>3</td>\n",
       "    </tr>\n",
       "    <tr>\n",
       "      <th>strictly anything</th>\n",
       "      <td>167</td>\n",
       "      <td>136</td>\n",
       "      <td>768</td>\n",
       "      <td>886</td>\n",
       "      <td>186</td>\n",
       "      <td>827</td>\n",
       "      <td>42</td>\n",
       "      <td>51</td>\n",
       "      <td>19</td>\n",
       "      <td>8</td>\n",
       "      <td>123</td>\n",
       "      <td>308</td>\n",
       "      <td>68</td>\n",
       "    </tr>\n",
       "    <tr>\n",
       "      <th>strictly halal</th>\n",
       "      <td>0</td>\n",
       "      <td>0</td>\n",
       "      <td>5</td>\n",
       "      <td>1</td>\n",
       "      <td>0</td>\n",
       "      <td>2</td>\n",
       "      <td>1</td>\n",
       "      <td>1</td>\n",
       "      <td>0</td>\n",
       "      <td>0</td>\n",
       "      <td>1</td>\n",
       "      <td>1</td>\n",
       "      <td>1</td>\n",
       "    </tr>\n",
       "    <tr>\n",
       "      <th>strictly kosher</th>\n",
       "      <td>1</td>\n",
       "      <td>0</td>\n",
       "      <td>2</td>\n",
       "      <td>1</td>\n",
       "      <td>2</td>\n",
       "      <td>1</td>\n",
       "      <td>1</td>\n",
       "      <td>1</td>\n",
       "      <td>0</td>\n",
       "      <td>0</td>\n",
       "      <td>2</td>\n",
       "      <td>3</td>\n",
       "      <td>0</td>\n",
       "    </tr>\n",
       "    <tr>\n",
       "      <th>strictly other</th>\n",
       "      <td>19</td>\n",
       "      <td>7</td>\n",
       "      <td>84</td>\n",
       "      <td>56</td>\n",
       "      <td>37</td>\n",
       "      <td>59</td>\n",
       "      <td>10</td>\n",
       "      <td>12</td>\n",
       "      <td>1</td>\n",
       "      <td>3</td>\n",
       "      <td>0</td>\n",
       "      <td>19</td>\n",
       "      <td>13</td>\n",
       "    </tr>\n",
       "    <tr>\n",
       "      <th>strictly vegan</th>\n",
       "      <td>14</td>\n",
       "      <td>7</td>\n",
       "      <td>17</td>\n",
       "      <td>40</td>\n",
       "      <td>5</td>\n",
       "      <td>28</td>\n",
       "      <td>0</td>\n",
       "      <td>2</td>\n",
       "      <td>3</td>\n",
       "      <td>1</td>\n",
       "      <td>10</td>\n",
       "      <td>22</td>\n",
       "      <td>2</td>\n",
       "    </tr>\n",
       "    <tr>\n",
       "      <th>strictly vegetarian</th>\n",
       "      <td>46</td>\n",
       "      <td>24</td>\n",
       "      <td>80</td>\n",
       "      <td>154</td>\n",
       "      <td>63</td>\n",
       "      <td>108</td>\n",
       "      <td>9</td>\n",
       "      <td>4</td>\n",
       "      <td>5</td>\n",
       "      <td>2</td>\n",
       "      <td>28</td>\n",
       "      <td>74</td>\n",
       "      <td>2</td>\n",
       "    </tr>\n",
       "    <tr>\n",
       "      <th>vegan</th>\n",
       "      <td>8</td>\n",
       "      <td>3</td>\n",
       "      <td>10</td>\n",
       "      <td>27</td>\n",
       "      <td>14</td>\n",
       "      <td>16</td>\n",
       "      <td>0</td>\n",
       "      <td>1</td>\n",
       "      <td>0</td>\n",
       "      <td>0</td>\n",
       "      <td>4</td>\n",
       "      <td>13</td>\n",
       "      <td>1</td>\n",
       "    </tr>\n",
       "    <tr>\n",
       "      <th>vegetarian</th>\n",
       "      <td>66</td>\n",
       "      <td>11</td>\n",
       "      <td>49</td>\n",
       "      <td>90</td>\n",
       "      <td>35</td>\n",
       "      <td>93</td>\n",
       "      <td>7</td>\n",
       "      <td>0</td>\n",
       "      <td>6</td>\n",
       "      <td>1</td>\n",
       "      <td>22</td>\n",
       "      <td>43</td>\n",
       "      <td>5</td>\n",
       "    </tr>\n",
       "  </tbody>\n",
       "</table>\n",
       "</div>"
      ],
      "text/plain": [
       "body_type            Not Shared  a little extra  athletic  average  curvy  \\\n",
       "diet                                                                        \n",
       "Not Shared                 2605             722      3168     3994   1022   \n",
       "anything                    200             196       926     1157    267   \n",
       "halal                         1               0         0        2      0   \n",
       "kosher                        1               1         0        0      0   \n",
       "mostly anything             384             582      2421     3132    799   \n",
       "mostly halal                  2               5        11        5      2   \n",
       "mostly kosher                 2               1        13        9      3   \n",
       "mostly other                 18              37       178      166     58   \n",
       "mostly vegan                 21              10        42       39     17   \n",
       "mostly vegetarian           132              66       447      485    218   \n",
       "other                         7               7        47       62     17   \n",
       "strictly anything           167             136       768      886    186   \n",
       "strictly halal                0               0         5        1      0   \n",
       "strictly kosher               1               0         2        1      2   \n",
       "strictly other               19               7        84       56     37   \n",
       "strictly vegan               14               7        17       40      5   \n",
       "strictly vegetarian          46              24        80      154     63   \n",
       "vegan                         8               3        10       27     14   \n",
       "vegetarian                   66              11        49       90     35   \n",
       "\n",
       "body_type             fit  full figured  jacked  overweight  rather not say  \\\n",
       "diet                                                                          \n",
       "Not Shared           3180           299      96         113              75   \n",
       "anything              929            69      21          30              12   \n",
       "halal                   0             0       0           0               0   \n",
       "kosher                  3             0       0           0               0   \n",
       "mostly anything      2658           214      74         104              35   \n",
       "mostly halal            5             0       2           1               0   \n",
       "mostly kosher           8             3       1           0               1   \n",
       "mostly other          157            17      11           7               3   \n",
       "mostly vegan           66             1       3           2               1   \n",
       "mostly vegetarian     669            31      17          11               8   \n",
       "other                  45            11       2           2               0   \n",
       "strictly anything     827            42      51          19               8   \n",
       "strictly halal          2             1       1           0               0   \n",
       "strictly kosher         1             1       1           0               0   \n",
       "strictly other         59            10      12           1               3   \n",
       "strictly vegan         28             0       2           3               1   \n",
       "strictly vegetarian   108             9       4           5               2   \n",
       "vegan                  16             0       1           0               0   \n",
       "vegetarian             93             7       0           6               1   \n",
       "\n",
       "body_type            skinny  thin  used up  \n",
       "diet                                        \n",
       "Not Shared              488  1198       58  \n",
       "anything                127   357       15  \n",
       "halal                     1     2        0  \n",
       "kosher                    1     0        1  \n",
       "mostly anything         334   921       60  \n",
       "mostly halal              0     0        2  \n",
       "mostly kosher             2     5        3  \n",
       "mostly other             13    28       12  \n",
       "mostly vegan             12    36        2  \n",
       "mostly vegetarian        74   238       11  \n",
       "other                     1    21        3  \n",
       "strictly anything       123   308       68  \n",
       "strictly halal            1     1        1  \n",
       "strictly kosher           2     3        0  \n",
       "strictly other            0    19       13  \n",
       "strictly vegan           10    22        2  \n",
       "strictly vegetarian      28    74        2  \n",
       "vegan                     4    13        1  \n",
       "vegetarian               22    43        5  "
      ]
     },
     "execution_count": 243,
     "metadata": {},
     "output_type": "execute_result"
    }
   ],
   "source": [
    "cross_tab"
   ]
  },
  {
   "cell_type": "markdown",
   "id": "4f9a70d0-c005-4992-9e90-3ef71195ae01",
   "metadata": {},
   "source": [
    "> ### The cross tabulation produces a table of frequencies between the two features"
   ]
  },
  {
   "cell_type": "markdown",
   "id": "54e620c7-4904-4a81-988e-c5301bc066af",
   "metadata": {},
   "source": [
    "chi2_contingency: [chi-square](https://docs.scipy.org/doc/scipy/reference/generated/scipy.stats.chi2_contingency.html)  <-- Link"
   ]
  },
  {
   "cell_type": "code",
   "execution_count": 245,
   "id": "3d53a121-3707-45dc-9790-385904a90148",
   "metadata": {},
   "outputs": [],
   "source": [
    "from scipy.stats import chi2_contingency \n",
    "\n",
    "chi2, pval, dof, f = chi2_contingency(cross_tab)"
   ]
  },
  {
   "cell_type": "code",
   "execution_count": 249,
   "id": "3e1cd87f-282b-4e46-95b2-2c6cb39e39d5",
   "metadata": {},
   "outputs": [
    {
     "name": "stdout",
     "output_type": "stream",
     "text": [
      "The probabilty value : 0.0, and chi-square statistic : 2567.38427229049\n"
     ]
    }
   ],
   "source": [
    "print(F\"The probabilty value : {pval}, and chi-square statistic : {chi2}\")"
   ]
  },
  {
   "cell_type": "markdown",
   "id": "7642d4a3-1e46-4854-961a-774bf17a7626",
   "metadata": {},
   "source": [
    "> ### 1 - p-value (pval): The p-value tells us the probability of observing the data (or something more extreme) if the null hypothesis is true. A small p-value (typically <0.05) indicates that the observed association is unlikely under the null hypothesis, leading us to reject it.\n",
    "\n",
    "> ### 2-Chi-square Statistic: This statistic measures the difference between the observed and expected frequencies in a contingency table. The Larger values suggest a greater deviation from independence (no association), which may support the alternative hypothesis."
   ]
  },
  {
   "cell_type": "markdown",
   "id": "a55c66b7-ebf9-4acf-95db-f85e86725f97",
   "metadata": {},
   "source": [
    "### The pval < 0.05 (and the chi-square statstic is high as well) which leads to the rejection of the Null Hypothesis and supporting that the association between `diet` and `body_type` is significant."
   ]
  },
  {
   "cell_type": "markdown",
   "id": "9eb652f1-279e-44cb-8ece-48bc6cee5356",
   "metadata": {},
   "source": [
    "### Here is a frequency plot of `body_type`to paint the full picture"
   ]
  },
  {
   "cell_type": "code",
   "execution_count": 250,
   "id": "06123eea-52a0-4928-a92e-cf8cbf12795c",
   "metadata": {},
   "outputs": [
    {
     "data": {
      "image/png": "[encoded data removed]",
      "text/plain": [
       "<Figure size 640x480 with 1 Axes>"
      ]
     },
     "metadata": {},
     "output_type": "display_data"
    },
    {
     "data": {
      "text/plain": [
       "<Figure size 640x480 with 0 Axes>"
      ]
     },
     "metadata": {},
     "output_type": "display_data"
    }
   ],
   "source": [
    "counts = Individuals.body_type.value_counts().sort_values(ascending=False)\n",
    "columns = Individuals.body_type.value_counts().sort_values(ascending=False).index\n",
    "sns.barplot(x=counts, y=columns)\n",
    "plt.show()\n",
    "plt.clf()"
   ]
  },
  {
   "cell_type": "markdown",
   "id": "e583e0f6-5f8b-4586-ab42-b5f6efc8d41a",
   "metadata": {},
   "source": [
    "> ### 1- Most of the user base  seems to fall under the average body_type.\n",
    "\n",
    "> ### 2- Less people would `rather not say`, while `Not Shared` could either be people who did not submit the question on purpose to avoid it (my assumption) or missed it for any case. "
   ]
  },
  {
   "cell_type": "markdown",
   "id": "53db1bdd-7ac5-4cfa-8309-b248e1a080aa",
   "metadata": {},
   "source": [
    "## How widespread are dangerous acts like `drugs` and smoking (`smokes`) in the dataset?\n",
    "    Are they associated?"
   ]
  },
  {
   "cell_type": "code",
   "execution_count": 263,
   "id": "d4a5ed2f-687e-46ab-8eee-9854bce0c149",
   "metadata": {},
   "outputs": [
    {
     "data": {
      "image/png": "[encoded data removed]",
      "text/plain": [
       "<Figure size 640x480 with 1 Axes>"
      ]
     },
     "metadata": {},
     "output_type": "display_data"
    },
    {
     "data": {
      "text/plain": [
       "<Figure size 640x480 with 0 Axes>"
      ]
     },
     "metadata": {},
     "output_type": "display_data"
    }
   ],
   "source": [
    "counts = Individuals.drugs.value_counts().sort_values(ascending=False)\n",
    "columns = Individuals.drugs.value_counts().sort_values(ascending=False).index\n",
    "sns.barplot(x=counts, y=columns)\n",
    "plt.show()\n",
    "plt.clf()"
   ]
  },
  {
   "cell_type": "code",
   "execution_count": 264,
   "id": "5e5b07ec-9e34-4180-b76f-1b511250b970",
   "metadata": {},
   "outputs": [
    {
     "data": {
      "image/png": "[encoded data removed]",
      "text/plain": [
       "<Figure size 640x480 with 1 Axes>"
      ]
     },
     "metadata": {},
     "output_type": "display_data"
    },
    {
     "data": {
      "text/plain": [
       "<Figure size 640x480 with 0 Axes>"
      ]
     },
     "metadata": {},
     "output_type": "display_data"
    }
   ],
   "source": [
    "counts = Individuals.smokes.value_counts().sort_values(ascending=False)\n",
    "columns = Individuals.smokes.value_counts().sort_values(ascending=False).index\n",
    "sns.barplot(x=counts, y=columns)\n",
    "plt.show()\n",
    "plt.clf()"
   ]
  },
  {
   "cell_type": "markdown",
   "id": "7767bb2c-1d55-4933-9ba5-a489b6aeb5ab",
   "metadata": {},
   "source": [
    "> ### Most of the users never used drugs.\n",
    "\n",
    "> ### Most of the users do not smoke. "
   ]
  },
  {
   "cell_type": "markdown",
   "id": "7c08895d-0bea-495b-b39f-bcd14f20c10f",
   "metadata": {},
   "source": [
    "### To test their association, since they are both categorical as well we would follow the same hypothesis test used in the diet and body_type association test (Chi-square). "
   ]
  },
  {
   "cell_type": "code",
   "execution_count": 266,
   "id": "bb5e24f4-6b49-4f40-b51c-900c4e679da3",
   "metadata": {},
   "outputs": [
    {
     "name": "stdout",
     "output_type": "stream",
     "text": [
      "The probabilty value : 0.0, and chi-square statistic : 6079.410460076302\n"
     ]
    }
   ],
   "source": [
    "cross_tab = pd.crosstab(Individuals.drugs,Individuals.smokes)\n",
    "\n",
    "chi2, pval, dof, f = chi2_contingency(cross_tab)\n",
    "\n",
    "print(F\"The probabilty value : {pval}, and chi-square statistic : {chi2}\")"
   ]
  },
  {
   "cell_type": "markdown",
   "id": "995e154f-2d72-4a8f-8d00-c405c35d7337",
   "metadata": {},
   "source": [
    "### The pval < 0.05 (and the chi-square statstic is high as well) which leads to the rejection of the Null Hypothesis and supporting that the association between smoking and drug use is significant."
   ]
  },
  {
   "cell_type": "markdown",
   "id": "6a129f72-e9f1-4805-9142-88df353a5754",
   "metadata": {},
   "source": [
    "## How does the education levels vary across the dataset?\n",
    "    Does it vary with age?\n",
    "    Does it have anything to do with income ? (association)\n",
    "    \n",
    "Frequency of Education (+ across ages) - (+ edu vs income) - (+ across ages and an income hue) `(Remove this line)`"
   ]
  },
  {
   "cell_type": "code",
   "execution_count": 267,
   "id": "924b6ceb-d4a5-40d3-8741-d0c3616ca9b1",
   "metadata": {},
   "outputs": [
    {
     "data": {
      "image/png": "[encoded data removed]",
      "text/plain": [
       "<Figure size 640x480 with 1 Axes>"
      ]
     },
     "metadata": {},
     "output_type": "display_data"
    },
    {
     "data": {
      "text/plain": [
       "<Figure size 640x480 with 0 Axes>"
      ]
     },
     "metadata": {},
     "output_type": "display_data"
    }
   ],
   "source": [
    "sns.countplot(Individuals.education)\n",
    "plt.xticks(rotation=45)\n",
    "plt.show()\n",
    "plt.clf()"
   ]
  },
  {
   "cell_type": "markdown",
   "id": "069c35d1-d6ad-435f-ada7-5bee6c8f7333",
   "metadata": {},
   "source": [
    "### Many situations/education levels are present. Combining some into a bigger category is an option but I will keep them in order to inspect the differences as intended on a deeper level (e.g. drop outs of a PHD is different from drop outs from high-school and combining them into drop outs could affect the accuracy of the outcome)"
   ]
  },
  {
   "cell_type": "code",
   "execution_count": null,
   "id": "0ac5238b-6fcd-4e88-bec7-fd483974842c",
   "metadata": {},
   "outputs": [],
   "source": []
  }
 ],
 "metadata": {
  "kernelspec": {
   "display_name": "Python 3 (ipykernel)",
   "language": "python",
   "name": "python3"
  },
  "language_info": {
   "codemirror_mode": {
    "name": "ipython",
    "version": 3
   },
   "file_extension": ".py",
   "mimetype": "text/x-python",
   "name": "python",
   "nbconvert_exporter": "python",
   "pygments_lexer": "ipython3",
   "version": "3.12.5"
  }
 },
 "nbformat": 4,
 "nbformat_minor": 5
}

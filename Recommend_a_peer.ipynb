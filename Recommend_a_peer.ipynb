{
 "cells": [
  {
   "cell_type": "markdown",
   "id": "eb9a33da-6600-4dcd-94b7-6c34e5efef68",
   "metadata": {},
   "source": [
    "# This Project serves as the last portfolio project as part of the [Codecademy](https://www.codecademy.com/career-journey/data-scientist-ml) data science: machine learning specialist career path and aims to independently analzye the data from a source called \"OKCupid\"\n",
    "--------------------------------\n",
    "### \"The purpose of this project is to practice formulating questions and implementing machine learning techniques to answer those questions. However, the questions you ask and how you answer them are entirely up to you.\"\n",
    "\n",
    "\n",
    "## More about the idea:\n",
    "   > `from the direct Codecademy source` : In recent years, there has been a massive rise in the usage of dating apps to find love. Many of these apps use sophisticated data science techniques to recommend possible matches to users and to optimize the user experience. These apps give us access to a wealth of information that we’ve never had before about how different people experience romance. In this portfolio project, you will analyze some data from OKCupid, an app that focuses on using multiple choice and short answers to match users.\n",
    "\n",
    "\n",
    "Althought the dataset revolves around the concept of dating I want to re-direct the vector of attention to aspects that fit me as a person and my beliefs thus shifting it into \"Recommend a Peer\". The usual steps including Data Preprocessing, Exploratory Data Analysis, Machine Learning Model Selection, Evaluation, and Tuning, will be followed. The `Scope` ultimately is to showcase what I learnt throughtout the careerpath. I also plan to refactor the code to accomodate the concept of pipelines and explore deploying it for a more practical feel further down the line.\n",
    "\n",
    "To be more specific this project, utilizes three machine learning models in order to achieve different goals:\n",
    "\n",
    "    > Predicting a feature about a user based on data available\n",
    "    > Grouping users in order to recognize patterns\n",
    "    > A recommender model that recommendes a peer"
   ]
  },
  {
   "cell_type": "markdown",
   "id": "b11ffd68-7d76-4a44-9693-c4ce3afec85a",
   "metadata": {},
   "source": [
    "## Current Planned Progression:\n",
    "\n",
    "    1. Exploring the dataset\n",
    "        1a. Basic Information\n",
    "        1b. Data Types\n",
    "        1c. Addressing features (Isolating and Dropping features) \n",
    "    2. Data Preprocessing\n",
    "        2a. Nulls\n",
    "        2b. Outliers\n",
    "        2c. Formatting Issues\n",
    "        .. extra\n",
    "    3. Exploratory Data Analysis\n",
    "        3a. Understanding the Age distribution\n",
    "        3b. Eating habits (relation with body type?)\n",
    "        3c. Usage of Prohibited materials (affects on health)\n",
    "        3d. Frequency of Education (across ages) - (edu vs income)\n",
    "        3e. Frequency of Jobs - (Jobs vs incomes) - (Max vs Min Jobs)\n",
    "        3f. Frequency and Proportions of Locations (Average income and height per location) - (Highest Frequency Job in each Location)\n",
    "        3g. Activity on the site - (Activity per location)\n",
    "        3h. Is there an association between having pet and a child? (exploring different associations)\n",
    "        ... exploring hypothesis tests \n",
    "        ... exploring exploring further associations \n",
    "        ... exploring feature engineering before feeding them into the machine learning models\n",
    "\n",
    "    4. Machine Learning Model\n",
    "        I plan on using 3 models to predict:\n",
    "            >  If the use would be a smoker or not (Supervised)\n",
    "            >  Group Users in order to discover patterns (Unsupervised)\n",
    "            >  Recommend a user based on common attributed (Supervised)\n",
    "\n",
    "        ... a very basic start that would lead to evaluation then tuning later on."
   ]
  },
  {
   "cell_type": "markdown",
   "id": "8a53ec62-bcda-4a30-98d1-d32c770e00d2",
   "metadata": {},
   "source": [
    "### As Always importing basic libraries"
   ]
  },
  {
   "cell_type": "code",
   "execution_count": 1,
   "id": "8f468430-629d-47f8-b1cf-e6af8b736513",
   "metadata": {},
   "outputs": [],
   "source": [
    "import pandas as pd\n",
    "import numpy as np\n",
    "import matplotlib.pyplot as plt\n",
    "import seaborn as sns\n",
    "from sklearn.model_selection import train_test_split"
   ]
  },
  {
   "cell_type": "markdown",
   "id": "06a79fc4-9a8c-4e89-b5fa-6db20518c7bc",
   "metadata": {},
   "source": [
    "# Exploring the Dataset"
   ]
  },
  {
   "cell_type": "code",
   "execution_count": 2,
   "id": "026ca26c-0bc8-41d3-b480-8c5d52d539c9",
   "metadata": {},
   "outputs": [],
   "source": [
    "Individuals = pd.read_csv(\"profiles.csv\")\n",
    "Ind,test_set = train_test_split(Individuals,train_size = 0.85,test_size=0.15,random_state = 42)"
   ]
  },
  {
   "cell_type": "code",
   "execution_count": 3,
   "id": "57a20213-ad18-4066-8e1d-dece06181f9a",
   "metadata": {},
   "outputs": [
    {
     "data": {
      "text/html": [
       "<div>\n",
       "<style scoped>\n",
       "    .dataframe tbody tr th:only-of-type {\n",
       "        vertical-align: middle;\n",
       "    }\n",
       "\n",
       "    .dataframe tbody tr th {\n",
       "        vertical-align: top;\n",
       "    }\n",
       "\n",
       "    .dataframe thead th {\n",
       "        text-align: right;\n",
       "    }\n",
       "</style>\n",
       "<table border=\"1\" class=\"dataframe\">\n",
       "  <thead>\n",
       "    <tr style=\"text-align: right;\">\n",
       "      <th></th>\n",
       "      <th>age</th>\n",
       "      <th>body_type</th>\n",
       "      <th>diet</th>\n",
       "      <th>drinks</th>\n",
       "      <th>drugs</th>\n",
       "      <th>education</th>\n",
       "      <th>essay0</th>\n",
       "      <th>essay1</th>\n",
       "      <th>essay2</th>\n",
       "      <th>essay3</th>\n",
       "      <th>...</th>\n",
       "      <th>location</th>\n",
       "      <th>offspring</th>\n",
       "      <th>orientation</th>\n",
       "      <th>pets</th>\n",
       "      <th>religion</th>\n",
       "      <th>sex</th>\n",
       "      <th>sign</th>\n",
       "      <th>smokes</th>\n",
       "      <th>speaks</th>\n",
       "      <th>status</th>\n",
       "    </tr>\n",
       "  </thead>\n",
       "  <tbody>\n",
       "    <tr>\n",
       "      <th>48937</th>\n",
       "      <td>24</td>\n",
       "      <td>NaN</td>\n",
       "      <td>NaN</td>\n",
       "      <td>socially</td>\n",
       "      <td>NaN</td>\n",
       "      <td>graduated from college/university</td>\n",
       "      <td>NaN</td>\n",
       "      <td>i just got home from teaching english in manta...</td>\n",
       "      <td>NaN</td>\n",
       "      <td>NaN</td>\n",
       "      <td>...</td>\n",
       "      <td>oakland, california</td>\n",
       "      <td>doesn&amp;rsquo;t have kids</td>\n",
       "      <td>straight</td>\n",
       "      <td>NaN</td>\n",
       "      <td>NaN</td>\n",
       "      <td>m</td>\n",
       "      <td>pisces but it doesn&amp;rsquo;t matter</td>\n",
       "      <td>NaN</td>\n",
       "      <td>english, spanish</td>\n",
       "      <td>single</td>\n",
       "    </tr>\n",
       "    <tr>\n",
       "      <th>55273</th>\n",
       "      <td>56</td>\n",
       "      <td>thin</td>\n",
       "      <td>mostly vegetarian</td>\n",
       "      <td>socially</td>\n",
       "      <td>never</td>\n",
       "      <td>graduated from masters program</td>\n",
       "      <td>i am fun loving, professional, open minded and...</td>\n",
       "      <td>i am enjoying life with friends and family. i ...</td>\n",
       "      <td>communication; instigator; i make a mean pr ch...</td>\n",
       "      <td>my smile, kindness and younger than my age looks.</td>\n",
       "      <td>...</td>\n",
       "      <td>san rafael, california</td>\n",
       "      <td>NaN</td>\n",
       "      <td>straight</td>\n",
       "      <td>likes dogs and likes cats</td>\n",
       "      <td>other but not too serious about it</td>\n",
       "      <td>f</td>\n",
       "      <td>aries</td>\n",
       "      <td>no</td>\n",
       "      <td>english (fluently), spanish (fluently), italia...</td>\n",
       "      <td>single</td>\n",
       "    </tr>\n",
       "    <tr>\n",
       "      <th>5823</th>\n",
       "      <td>26</td>\n",
       "      <td>average</td>\n",
       "      <td>NaN</td>\n",
       "      <td>often</td>\n",
       "      <td>often</td>\n",
       "      <td>graduated from college/university</td>\n",
       "      <td>i'm a really nerdy, really nice guy, working a...</td>\n",
       "      <td>trying not to get burned out as an engineer be...</td>\n",
       "      <td>computers, memorizing song lyrics, and keeping...</td>\n",
       "      <td>that i'm just shy, not anti-social. (you can t...</td>\n",
       "      <td>...</td>\n",
       "      <td>palo alto, california</td>\n",
       "      <td>NaN</td>\n",
       "      <td>straight</td>\n",
       "      <td>likes dogs and likes cats</td>\n",
       "      <td>atheism and somewhat serious about it</td>\n",
       "      <td>m</td>\n",
       "      <td>taurus but it doesn&amp;rsquo;t matter</td>\n",
       "      <td>sometimes</td>\n",
       "      <td>english (fluently)</td>\n",
       "      <td>single</td>\n",
       "    </tr>\n",
       "    <tr>\n",
       "      <th>7457</th>\n",
       "      <td>25</td>\n",
       "      <td>NaN</td>\n",
       "      <td>mostly anything</td>\n",
       "      <td>NaN</td>\n",
       "      <td>NaN</td>\n",
       "      <td>working on law school</td>\n",
       "      <td>born and raised in maine but knew immediately ...</td>\n",
       "      <td>meandering through law school.</td>\n",
       "      <td>making music playlists... i take a lot of prid...</td>\n",
       "      <td>i only like to answer self-congratulatory ques...</td>\n",
       "      <td>...</td>\n",
       "      <td>san francisco, california</td>\n",
       "      <td>NaN</td>\n",
       "      <td>gay</td>\n",
       "      <td>NaN</td>\n",
       "      <td>agnosticism but not too serious about it</td>\n",
       "      <td>m</td>\n",
       "      <td>aquarius but it doesn&amp;rsquo;t matter</td>\n",
       "      <td>NaN</td>\n",
       "      <td>english</td>\n",
       "      <td>single</td>\n",
       "    </tr>\n",
       "    <tr>\n",
       "      <th>34435</th>\n",
       "      <td>25</td>\n",
       "      <td>jacked</td>\n",
       "      <td>vegan</td>\n",
       "      <td>desperately</td>\n",
       "      <td>sometimes</td>\n",
       "      <td>NaN</td>\n",
       "      <td>i'm a queer, vegan, ftm trans guy. holla!</td>\n",
       "      <td>being a deadbeat</td>\n",
       "      <td>giggling. making out!</td>\n",
       "      <td>tomatillo.</td>\n",
       "      <td>...</td>\n",
       "      <td>san francisco, california</td>\n",
       "      <td>NaN</td>\n",
       "      <td>bisexual</td>\n",
       "      <td>likes dogs and likes cats</td>\n",
       "      <td>NaN</td>\n",
       "      <td>m</td>\n",
       "      <td>taurus</td>\n",
       "      <td>no</td>\n",
       "      <td>english</td>\n",
       "      <td>single</td>\n",
       "    </tr>\n",
       "  </tbody>\n",
       "</table>\n",
       "<p>5 rows × 31 columns</p>\n",
       "</div>"
      ],
      "text/plain": [
       "       age body_type               diet       drinks      drugs  \\\n",
       "48937   24       NaN                NaN     socially        NaN   \n",
       "55273   56      thin  mostly vegetarian     socially      never   \n",
       "5823    26   average                NaN        often      often   \n",
       "7457    25       NaN    mostly anything          NaN        NaN   \n",
       "34435   25    jacked              vegan  desperately  sometimes   \n",
       "\n",
       "                               education  \\\n",
       "48937  graduated from college/university   \n",
       "55273     graduated from masters program   \n",
       "5823   graduated from college/university   \n",
       "7457               working on law school   \n",
       "34435                                NaN   \n",
       "\n",
       "                                                  essay0  \\\n",
       "48937                                                NaN   \n",
       "55273  i am fun loving, professional, open minded and...   \n",
       "5823   i'm a really nerdy, really nice guy, working a...   \n",
       "7457   born and raised in maine but knew immediately ...   \n",
       "34435          i'm a queer, vegan, ftm trans guy. holla!   \n",
       "\n",
       "                                                  essay1  \\\n",
       "48937  i just got home from teaching english in manta...   \n",
       "55273  i am enjoying life with friends and family. i ...   \n",
       "5823   trying not to get burned out as an engineer be...   \n",
       "7457                      meandering through law school.   \n",
       "34435                                   being a deadbeat   \n",
       "\n",
       "                                                  essay2  \\\n",
       "48937                                                NaN   \n",
       "55273  communication; instigator; i make a mean pr ch...   \n",
       "5823   computers, memorizing song lyrics, and keeping...   \n",
       "7457   making music playlists... i take a lot of prid...   \n",
       "34435                              giggling. making out!   \n",
       "\n",
       "                                                  essay3  ...  \\\n",
       "48937                                                NaN  ...   \n",
       "55273  my smile, kindness and younger than my age looks.  ...   \n",
       "5823   that i'm just shy, not anti-social. (you can t...  ...   \n",
       "7457   i only like to answer self-congratulatory ques...  ...   \n",
       "34435                                         tomatillo.  ...   \n",
       "\n",
       "                        location                offspring orientation  \\\n",
       "48937        oakland, california  doesn&rsquo;t have kids    straight   \n",
       "55273     san rafael, california                      NaN    straight   \n",
       "5823       palo alto, california                      NaN    straight   \n",
       "7457   san francisco, california                      NaN         gay   \n",
       "34435  san francisco, california                      NaN    bisexual   \n",
       "\n",
       "                            pets                                  religion  \\\n",
       "48937                        NaN                                       NaN   \n",
       "55273  likes dogs and likes cats        other but not too serious about it   \n",
       "5823   likes dogs and likes cats     atheism and somewhat serious about it   \n",
       "7457                         NaN  agnosticism but not too serious about it   \n",
       "34435  likes dogs and likes cats                                       NaN   \n",
       "\n",
       "      sex                                  sign     smokes  \\\n",
       "48937   m    pisces but it doesn&rsquo;t matter        NaN   \n",
       "55273   f                                 aries         no   \n",
       "5823    m    taurus but it doesn&rsquo;t matter  sometimes   \n",
       "7457    m  aquarius but it doesn&rsquo;t matter        NaN   \n",
       "34435   m                                taurus         no   \n",
       "\n",
       "                                                  speaks  status  \n",
       "48937                                   english, spanish  single  \n",
       "55273  english (fluently), spanish (fluently), italia...  single  \n",
       "5823                                  english (fluently)  single  \n",
       "7457                                             english  single  \n",
       "34435                                            english  single  \n",
       "\n",
       "[5 rows x 31 columns]"
      ]
     },
     "execution_count": 3,
     "metadata": {},
     "output_type": "execute_result"
    }
   ],
   "source": [
    "Ind.head()"
   ]
  },
  {
   "cell_type": "code",
   "execution_count": 4,
   "id": "e90a1244-d62f-424f-b46e-48563b17cf78",
   "metadata": {},
   "outputs": [
    {
     "name": "stdout",
     "output_type": "stream",
     "text": [
      "<class 'pandas.core.frame.DataFrame'>\n",
      "Index: 50954 entries, 48937 to 56422\n",
      "Data columns (total 31 columns):\n",
      " #   Column       Non-Null Count  Dtype  \n",
      "---  ------       --------------  -----  \n",
      " 0   age          50954 non-null  int64  \n",
      " 1   body_type    46470 non-null  object \n",
      " 2   diet         30268 non-null  object \n",
      " 3   drinks       48436 non-null  object \n",
      " 4   drugs        39052 non-null  object \n",
      " 5   education    45342 non-null  object \n",
      " 6   essay0       46286 non-null  object \n",
      " 7   essay1       44515 non-null  object \n",
      " 8   essay2       42761 non-null  object \n",
      " 9   essay3       41189 non-null  object \n",
      " 10  essay4       41963 non-null  object \n",
      " 11  essay5       41664 non-null  object \n",
      " 12  essay6       39218 non-null  object \n",
      " 13  essay7       40339 non-null  object \n",
      " 14  essay8       34639 non-null  object \n",
      " 15  essay9       40222 non-null  object \n",
      " 16  ethnicity    46128 non-null  object \n",
      " 17  height       50952 non-null  float64\n",
      " 18  income       50954 non-null  int64  \n",
      " 19  job          44029 non-null  object \n",
      " 20  last_online  50954 non-null  object \n",
      " 21  location     50954 non-null  object \n",
      " 22  offspring    20745 non-null  object \n",
      " 23  orientation  50954 non-null  object \n",
      " 24  pets         34032 non-null  object \n",
      " 25  religion     33765 non-null  object \n",
      " 26  sex          50954 non-null  object \n",
      " 27  sign         41543 non-null  object \n",
      " 28  smokes       46285 non-null  object \n",
      " 29  speaks       50906 non-null  object \n",
      " 30  status       50954 non-null  object \n",
      "dtypes: float64(1), int64(2), object(28)\n",
      "memory usage: 12.4+ MB\n"
     ]
    }
   ],
   "source": [
    "Ind.info()"
   ]
  },
  {
   "cell_type": "markdown",
   "id": "4ac9417b-bfb7-486d-a9d0-c0716a4d8805",
   "metadata": {},
   "source": [
    "Features' Dtypes are within reason but would like to inspect income to understand the values that are present inside."
   ]
  },
  {
   "cell_type": "code",
   "execution_count": 5,
   "id": "7bc42adf-bf81-4b92-acf9-d3551d257b3e",
   "metadata": {},
   "outputs": [
    {
     "data": {
      "text/plain": [
       "array([     -1,   70000,   40000,   80000,   60000,   20000, 1000000,\n",
       "        150000,  100000,   30000,  250000,   50000,  500000], dtype=int64)"
      ]
     },
     "execution_count": 5,
     "metadata": {},
     "output_type": "execute_result"
    }
   ],
   "source": [
    "Ind.income.unique()"
   ]
  },
  {
   "cell_type": "code",
   "execution_count": 6,
   "id": "d3dd45ce-1687-4249-87c8-d08da67f7156",
   "metadata": {},
   "outputs": [
    {
     "data": {
      "image/png": "[encoded data removed]",
      "text/plain": [
       "<Figure size 640x480 with 1 Axes>"
      ]
     },
     "metadata": {},
     "output_type": "display_data"
    },
    {
     "data": {
      "text/plain": [
       "<Figure size 640x480 with 0 Axes>"
      ]
     },
     "metadata": {},
     "output_type": "display_data"
    }
   ],
   "source": [
    "sns.histplot(Ind.income, bins=50)\n",
    "plt.plot()\n",
    "plt.show()\n",
    "plt.clf()"
   ]
  },
  {
   "cell_type": "markdown",
   "id": "19b1711a-34dc-4e84-a97b-67bacd18c448",
   "metadata": {},
   "source": [
    "## Pandas recorded int64 for this feature as there are no values with decimals. The other intriguing thing is the appearane of a `-1` in the data indicating a probable missing value that should be either imputed or removed"
   ]
  },
  {
   "cell_type": "markdown",
   "id": "264ac776-f845-4ffb-91d1-fa02c9c8ad8b",
   "metadata": {},
   "source": [
    "## A very effective way is to look at a description"
   ]
  },
  {
   "cell_type": "code",
   "execution_count": 7,
   "id": "910ddd66-bc51-4c77-98db-2a575feb2155",
   "metadata": {},
   "outputs": [
    {
     "data": {
      "text/html": [
       "<div>\n",
       "<style scoped>\n",
       "    .dataframe tbody tr th:only-of-type {\n",
       "        vertical-align: middle;\n",
       "    }\n",
       "\n",
       "    .dataframe tbody tr th {\n",
       "        vertical-align: top;\n",
       "    }\n",
       "\n",
       "    .dataframe thead th {\n",
       "        text-align: right;\n",
       "    }\n",
       "</style>\n",
       "<table border=\"1\" class=\"dataframe\">\n",
       "  <thead>\n",
       "    <tr style=\"text-align: right;\">\n",
       "      <th></th>\n",
       "      <th>age</th>\n",
       "      <th>height</th>\n",
       "      <th>income</th>\n",
       "    </tr>\n",
       "  </thead>\n",
       "  <tbody>\n",
       "    <tr>\n",
       "      <th>count</th>\n",
       "      <td>50954.000000</td>\n",
       "      <td>50952.000000</td>\n",
       "      <td>50954.000000</td>\n",
       "    </tr>\n",
       "    <tr>\n",
       "      <th>mean</th>\n",
       "      <td>32.318974</td>\n",
       "      <td>68.292609</td>\n",
       "      <td>20154.822487</td>\n",
       "    </tr>\n",
       "    <tr>\n",
       "      <th>std</th>\n",
       "      <td>9.440987</td>\n",
       "      <td>4.001184</td>\n",
       "      <td>97933.841657</td>\n",
       "    </tr>\n",
       "    <tr>\n",
       "      <th>min</th>\n",
       "      <td>18.000000</td>\n",
       "      <td>1.000000</td>\n",
       "      <td>-1.000000</td>\n",
       "    </tr>\n",
       "    <tr>\n",
       "      <th>25%</th>\n",
       "      <td>26.000000</td>\n",
       "      <td>66.000000</td>\n",
       "      <td>-1.000000</td>\n",
       "    </tr>\n",
       "    <tr>\n",
       "      <th>50%</th>\n",
       "      <td>30.000000</td>\n",
       "      <td>68.000000</td>\n",
       "      <td>-1.000000</td>\n",
       "    </tr>\n",
       "    <tr>\n",
       "      <th>75%</th>\n",
       "      <td>37.000000</td>\n",
       "      <td>71.000000</td>\n",
       "      <td>-1.000000</td>\n",
       "    </tr>\n",
       "    <tr>\n",
       "      <th>max</th>\n",
       "      <td>110.000000</td>\n",
       "      <td>95.000000</td>\n",
       "      <td>1000000.000000</td>\n",
       "    </tr>\n",
       "  </tbody>\n",
       "</table>\n",
       "</div>"
      ],
      "text/plain": [
       "                age        height          income\n",
       "count  50954.000000  50952.000000    50954.000000\n",
       "mean      32.318974     68.292609    20154.822487\n",
       "std        9.440987      4.001184    97933.841657\n",
       "min       18.000000      1.000000       -1.000000\n",
       "25%       26.000000     66.000000       -1.000000\n",
       "50%       30.000000     68.000000       -1.000000\n",
       "75%       37.000000     71.000000       -1.000000\n",
       "max      110.000000     95.000000  1000000.000000"
      ]
     },
     "execution_count": 7,
     "metadata": {},
     "output_type": "execute_result"
    }
   ],
   "source": [
    "Ind.describe()"
   ]
  },
  {
   "cell_type": "markdown",
   "id": "d43217a0-5c35-4755-9e86-03cd51917d6f",
   "metadata": {},
   "source": [
    "## Yikes a very minimal table yet lengthy description. The income feature confirms what we looked at there are many `-1` values probably indicating a missing value and a whooping `1000000.000000` value that could be an outlier. The height feature has a minimum of `1` which does not make any sense so that feature should be inspected as well."
   ]
  },
  {
   "cell_type": "code",
   "execution_count": 8,
   "id": "d94bd354-a48d-4204-b3ba-d4d902c0dcb6",
   "metadata": {},
   "outputs": [
    {
     "data": {
      "text/plain": [
       "array([70., 66., 71., 67., 76., 64., 68., 69., 74., 65., 72., 61., 73.,\n",
       "       59., 75., 63., 62., 60., 77., 78., 48., 50., 55., 57.,  8., 51.,\n",
       "        1., 81., 79., 82., 58., 56., 52., 80., 84., 94., 83., 43., 85.,\n",
       "       95., nan, 36., 53., 88.,  3., 49., 54., 47.,  9., 91., 89., 92.,\n",
       "       87., 42., 37.,  6.,  4., 90., 86., 26.])"
      ]
     },
     "execution_count": 8,
     "metadata": {},
     "output_type": "execute_result"
    }
   ],
   "source": [
    "Ind.height.unique()"
   ]
  },
  {
   "cell_type": "code",
   "execution_count": 9,
   "id": "559d8124-6ab8-46cc-8384-5f8c2e5f7de3",
   "metadata": {},
   "outputs": [
    {
     "data": {
      "image/png": "[encoded data removed]",
      "text/plain": [
       "<Figure size 640x480 with 1 Axes>"
      ]
     },
     "metadata": {},
     "output_type": "display_data"
    },
    {
     "data": {
      "text/plain": [
       "<Figure size 640x480 with 0 Axes>"
      ]
     },
     "metadata": {},
     "output_type": "display_data"
    }
   ],
   "source": [
    "sns.histplot(Ind.height, bins=50) \n",
    "plt.plot()\n",
    "plt.show()\n",
    "plt.clf()"
   ]
  },
  {
   "cell_type": "markdown",
   "id": "38e101d3-8a27-454d-acba-68f9e3df5a03",
   "metadata": {},
   "source": [
    "## As seen by both the output of the .unique() method and the histogram plot there are values that do not make sense like the `1.` we saw that needs to be taken care of during pre-processing."
   ]
  },
  {
   "cell_type": "markdown",
   "id": "135ae7f7-1a33-4377-b45c-47008740a90e",
   "metadata": {},
   "source": [
    "# Regarding features\n",
    "\n",
    "> I plan to Isolate all `essay` variables in one dataframe until further down the line as NLP will be more involved.\n",
    "    \n",
    "> I do not plan on using the `orientation`, `religion`, 'status`,`sign` features. "
   ]
  },
  {
   "cell_type": "code",
   "execution_count": 10,
   "id": "e8d77a89-9817-4288-9374-c72c35bbbb0d",
   "metadata": {},
   "outputs": [
    {
     "data": {
      "text/plain": [
       "Index(['essay0', 'essay1', 'essay2', 'essay3', 'essay4', 'essay5', 'essay6',\n",
       "       'essay7', 'essay8', 'essay9'],\n",
       "      dtype='object')"
      ]
     },
     "execution_count": 10,
     "metadata": {},
     "output_type": "execute_result"
    }
   ],
   "source": [
    "essays = Ind[Ind.filter(regex = \"essay[0-9]\").columns]\n",
    "essays.columns"
   ]
  },
  {
   "cell_type": "code",
   "execution_count": 11,
   "id": "c750c70f-9b42-46bf-b687-4c119bf26499",
   "metadata": {},
   "outputs": [],
   "source": [
    "Ind.drop(Ind.filter(regex = \"essay[0-9]\").columns, axis=1,inplace=True)"
   ]
  },
  {
   "cell_type": "code",
   "execution_count": 12,
   "id": "86e9695c-2158-4be3-a358-711d495c6940",
   "metadata": {},
   "outputs": [],
   "source": [
    "Ind.drop(['orientation','religion','status','sign'],axis=1,inplace=True)"
   ]
  },
  {
   "cell_type": "code",
   "execution_count": 13,
   "id": "ef819ccb-6c4f-4a27-8f28-9571c9b078a8",
   "metadata": {},
   "outputs": [
    {
     "data": {
      "text/plain": [
       "Index(['age', 'body_type', 'diet', 'drinks', 'drugs', 'education', 'ethnicity',\n",
       "       'height', 'income', 'job', 'last_online', 'location', 'offspring',\n",
       "       'pets', 'sex', 'smokes', 'speaks'],\n",
       "      dtype='object')"
      ]
     },
     "execution_count": 13,
     "metadata": {},
     "output_type": "execute_result"
    }
   ],
   "source": [
    "Ind.columns"
   ]
  },
  {
   "cell_type": "code",
   "execution_count": 14,
   "id": "3f02d75c-ff91-4ab8-8568-5c5b02260efb",
   "metadata": {},
   "outputs": [
    {
     "name": "stdout",
     "output_type": "stream",
     "text": [
      "<class 'pandas.core.frame.DataFrame'>\n",
      "Index: 50954 entries, 48937 to 56422\n",
      "Data columns (total 17 columns):\n",
      " #   Column       Non-Null Count  Dtype  \n",
      "---  ------       --------------  -----  \n",
      " 0   age          50954 non-null  int64  \n",
      " 1   body_type    46470 non-null  object \n",
      " 2   diet         30268 non-null  object \n",
      " 3   drinks       48436 non-null  object \n",
      " 4   drugs        39052 non-null  object \n",
      " 5   education    45342 non-null  object \n",
      " 6   ethnicity    46128 non-null  object \n",
      " 7   height       50952 non-null  float64\n",
      " 8   income       50954 non-null  int64  \n",
      " 9   job          44029 non-null  object \n",
      " 10  last_online  50954 non-null  object \n",
      " 11  location     50954 non-null  object \n",
      " 12  offspring    20745 non-null  object \n",
      " 13  pets         34032 non-null  object \n",
      " 14  sex          50954 non-null  object \n",
      " 15  smokes       46285 non-null  object \n",
      " 16  speaks       50906 non-null  object \n",
      "dtypes: float64(1), int64(2), object(14)\n",
      "memory usage: 7.0+ MB\n"
     ]
    }
   ],
   "source": [
    "Ind.info()"
   ]
  },
  {
   "cell_type": "markdown",
   "id": "79118713-78ab-4233-99ed-7d4ea46c1d3f",
   "metadata": {},
   "source": [
    "# Data Preprocessing"
   ]
  },
  {
   "cell_type": "markdown",
   "id": "1e8d64e0-2b61-479a-9656-de79ca9ee282",
   "metadata": {},
   "source": [
    "## Any missing values?\n",
    "### In addition to values that could be indicative of a missing/incorrect value in the `income` and `height` fields. It is needed to address NaN (null) values in the dataset"
   ]
  },
  {
   "cell_type": "code",
   "execution_count": 15,
   "id": "2e7cffe9-5f62-46ed-87ec-25d1e89aee2f",
   "metadata": {},
   "outputs": [
    {
     "data": {
      "text/plain": [
       "age            False\n",
       "body_type       True\n",
       "diet            True\n",
       "drinks          True\n",
       "drugs           True\n",
       "education       True\n",
       "ethnicity       True\n",
       "height          True\n",
       "income         False\n",
       "job             True\n",
       "last_online    False\n",
       "location       False\n",
       "offspring       True\n",
       "pets            True\n",
       "sex            False\n",
       "smokes          True\n",
       "speaks          True\n",
       "dtype: bool"
      ]
     },
     "execution_count": 15,
     "metadata": {},
     "output_type": "execute_result"
    }
   ],
   "source": [
    "Ind.isna().any()"
   ]
  },
  {
   "cell_type": "code",
   "execution_count": 16,
   "id": "386fed11-c0bb-4f65-a831-9d4f02c21ade",
   "metadata": {},
   "outputs": [
    {
     "data": {
      "text/plain": [
       "age                0\n",
       "body_type       4484\n",
       "diet           20686\n",
       "drinks          2518\n",
       "drugs          11902\n",
       "education       5612\n",
       "ethnicity       4826\n",
       "height             2\n",
       "income             0\n",
       "job             6925\n",
       "last_online        0\n",
       "location           0\n",
       "offspring      30209\n",
       "pets           16922\n",
       "sex                0\n",
       "smokes          4669\n",
       "speaks            48\n",
       "dtype: int64"
      ]
     },
     "execution_count": 16,
     "metadata": {},
     "output_type": "execute_result"
    }
   ],
   "source": [
    "Ind.isna().sum()"
   ]
  },
  {
   "cell_type": "markdown",
   "id": "534dd2b8-a128-4f5c-a30d-54e108e9abc3",
   "metadata": {},
   "source": [
    "### In terms of categorical features, I will simply replace all null values with an 'Not Shared' to avoid potentially introducing high bias into the dataset. For `height` (A numeric feature) I will remove these observations as they very low in number."
   ]
  },
  {
   "cell_type": "code",
   "execution_count": 17,
   "id": "b1e1348a-b61c-4339-8996-3f8b532ad9d4",
   "metadata": {},
   "outputs": [],
   "source": [
    "categorical_cols = list(Ind.select_dtypes(include = 'object').columns)\n",
    "numeric_cols = list(Ind.select_dtypes(include = ['int64','float64']).columns)\n",
    "Ind[categorical_cols] = Ind[categorical_cols].fillna('Not Shared')"
   ]
  },
  {
   "cell_type": "code",
   "execution_count": 18,
   "id": "ca797ced-ff53-46af-80c0-ad12f3d29fc0",
   "metadata": {},
   "outputs": [
    {
     "data": {
      "text/plain": [
       "['body_type',\n",
       " 'diet',\n",
       " 'drinks',\n",
       " 'drugs',\n",
       " 'education',\n",
       " 'ethnicity',\n",
       " 'job',\n",
       " 'last_online',\n",
       " 'location',\n",
       " 'offspring',\n",
       " 'pets',\n",
       " 'sex',\n",
       " 'smokes',\n",
       " 'speaks']"
      ]
     },
     "execution_count": 18,
     "metadata": {},
     "output_type": "execute_result"
    }
   ],
   "source": [
    "categorical_cols"
   ]
  },
  {
   "cell_type": "code",
   "execution_count": 19,
   "id": "ba1d66ad-1eee-4b43-8d21-b8d134e6591f",
   "metadata": {},
   "outputs": [
    {
     "data": {
      "text/plain": [
       "['age', 'height', 'income']"
      ]
     },
     "execution_count": 19,
     "metadata": {},
     "output_type": "execute_result"
    }
   ],
   "source": [
    "numeric_cols"
   ]
  },
  {
   "cell_type": "code",
   "execution_count": 20,
   "id": "ea2b5090-3df9-4852-8861-d44f7e9cac82",
   "metadata": {},
   "outputs": [],
   "source": [
    "Ind.dropna(subset=['height'],axis=0,inplace=True)"
   ]
  },
  {
   "cell_type": "code",
   "execution_count": 21,
   "id": "a159c522-045b-4f19-af88-256f3c8825a7",
   "metadata": {},
   "outputs": [
    {
     "data": {
      "text/plain": [
       "age            False\n",
       "body_type      False\n",
       "diet           False\n",
       "drinks         False\n",
       "drugs          False\n",
       "education      False\n",
       "ethnicity      False\n",
       "height         False\n",
       "income         False\n",
       "job            False\n",
       "last_online    False\n",
       "location       False\n",
       "offspring      False\n",
       "pets           False\n",
       "sex            False\n",
       "smokes         False\n",
       "speaks         False\n",
       "dtype: bool"
      ]
     },
     "execution_count": 21,
     "metadata": {},
     "output_type": "execute_result"
    }
   ],
   "source": [
    "Ind.isna().any()"
   ]
  },
  {
   "cell_type": "markdown",
   "id": "6ab44f4b-4bfa-4db5-8bef-d4cd9a1c8651",
   "metadata": {},
   "source": [
    "### Additionaly I want to check on both `height` and `income` values that were viewed before."
   ]
  },
  {
   "cell_type": "code",
   "execution_count": 22,
   "id": "7bfef1e1-8164-4309-89e9-00ab98bb28bd",
   "metadata": {},
   "outputs": [
    {
     "data": {
      "text/plain": [
       "height\n",
       "1.0        1\n",
       "3.0        1\n",
       "4.0        1\n",
       "6.0        1\n",
       "8.0        1\n",
       "9.0        1\n",
       "26.0       1\n",
       "36.0      11\n",
       "37.0       2\n",
       "42.0       1\n",
       "43.0       2\n",
       "47.0       1\n",
       "48.0       2\n",
       "49.0       1\n",
       "50.0       2\n",
       "51.0       1\n",
       "52.0       1\n",
       "53.0       5\n",
       "54.0       2\n",
       "55.0       6\n",
       "56.0       8\n",
       "57.0      14\n",
       "58.0      37\n",
       "59.0     182\n",
       "60.0     662\n",
       "61.0     920\n",
       "62.0    1889\n",
       "63.0    2347\n",
       "64.0    3296\n",
       "65.0    3255\n",
       "66.0    4055\n",
       "67.0    4551\n",
       "68.0    4607\n",
       "69.0    4426\n",
       "70.0    5153\n",
       "71.0    4105\n",
       "72.0    4554\n",
       "73.0    2379\n",
       "74.0    2150\n",
       "75.0    1180\n",
       "76.0     653\n",
       "77.0     240\n",
       "78.0     109\n",
       "79.0      48\n",
       "80.0      23\n",
       "81.0       9\n",
       "82.0      11\n",
       "83.0      11\n",
       "84.0       6\n",
       "85.0       1\n",
       "86.0       1\n",
       "87.0       1\n",
       "88.0       1\n",
       "89.0       1\n",
       "90.0       1\n",
       "91.0       3\n",
       "92.0       1\n",
       "94.0       3\n",
       "95.0      15\n",
       "Name: count, dtype: int64"
      ]
     },
     "execution_count": 22,
     "metadata": {},
     "output_type": "execute_result"
    }
   ],
   "source": [
    "Ind.height.value_counts().sort_index()"
   ]
  },
  {
   "cell_type": "markdown",
   "id": "503ff811-cb11-47f3-9583-cd7eb45b4a7c",
   "metadata": {},
   "source": [
    "### I am under the assumption that very low heights (in inches) are incorrect. I will conclude all heights under 48 inches as erroneous and then inspect distributions later on.   (Needs more explaining)"
   ]
  },
  {
   "cell_type": "code",
   "execution_count": 23,
   "id": "60f8937e-b016-4137-8e6a-cbd7a3d2652d",
   "metadata": {},
   "outputs": [],
   "source": [
    "Ind = Ind[Ind.height >= 48.0]"
   ]
  },
  {
   "cell_type": "code",
   "execution_count": 24,
   "id": "50a11200-6ac9-4fca-a571-701476063df9",
   "metadata": {},
   "outputs": [
    {
     "data": {
      "text/plain": [
       "array([     -1,   70000,   40000,   80000,   60000,   20000, 1000000,\n",
       "        150000,  100000,   30000,  250000,   50000,  500000], dtype=int64)"
      ]
     },
     "execution_count": 24,
     "metadata": {},
     "output_type": "execute_result"
    }
   ],
   "source": [
    "# Once more re-inspecting the unqiue values in income\n",
    "Ind.income.unique()"
   ]
  },
  {
   "cell_type": "code",
   "execution_count": 25,
   "id": "4f8d9d1a-4515-41d1-a473-63ddf8377153",
   "metadata": {},
   "outputs": [
    {
     "data": {
      "text/plain": [
       "income\n",
       "-1          41156\n",
       " 20000       2492\n",
       " 30000        893\n",
       " 40000        853\n",
       " 50000        822\n",
       " 60000        637\n",
       " 70000        584\n",
       " 80000        963\n",
       " 100000      1388\n",
       " 150000       528\n",
       " 250000       125\n",
       " 500000        41\n",
       " 1000000      446\n",
       "Name: count, dtype: int64"
      ]
     },
     "execution_count": 25,
     "metadata": {},
     "output_type": "execute_result"
    }
   ],
   "source": [
    "Ind.income.value_counts().sort_index()"
   ]
  },
  {
   "cell_type": "markdown",
   "id": "28bd4cec-a718-44b3-9beb-f714818f97d9",
   "metadata": {},
   "source": [
    "### A lot of -1 values that's for sure. This leads me to believe that this data is not missing at random (MNAR) and many do not like to share important aspects like their income. I will leave it be moving forward.\n",
    "\n",
    "You could inspect the following [BLOG](https://medium.com/analytics-vidhya/different-types-of-missing-data-59c87c046bf7) for more information on missing types of data. "
   ]
  },
  {
   "cell_type": "markdown",
   "id": "30010b72-c61d-47a2-b99c-b7e71d1da756",
   "metadata": {},
   "source": [
    "# Are there any apparent outliers?"
   ]
  },
  {
   "cell_type": "code",
   "execution_count": 26,
   "id": "f57e675c-5f67-4587-bcea-2292366ca8d6",
   "metadata": {},
   "outputs": [
    {
     "data": {
      "image/png": "[encoded data removed]",
      "text/plain": [
       "<Figure size 640x480 with 1 Axes>"
      ]
     },
     "metadata": {},
     "output_type": "display_data"
    },
    {
     "data": {
      "text/plain": [
       "<Figure size 640x480 with 0 Axes>"
      ]
     },
     "metadata": {},
     "output_type": "display_data"
    }
   ],
   "source": [
    "Ind[[col for col in numeric_cols if col != 'income']].boxplot()\n",
    "plt.show()\n",
    "plt.clf()"
   ]
  },
  {
   "cell_type": "code",
   "execution_count": 27,
   "id": "10a55e0a-5d51-4194-9aa8-917deb301795",
   "metadata": {},
   "outputs": [
    {
     "data": {
      "image/png": "[encoded data removed]",
      "text/plain": [
       "<Figure size 640x480 with 1 Axes>"
      ]
     },
     "metadata": {},
     "output_type": "display_data"
    },
    {
     "data": {
      "text/plain": [
       "<Figure size 640x480 with 0 Axes>"
      ]
     },
     "metadata": {},
     "output_type": "display_data"
    }
   ],
   "source": [
    "Ind[['income']].boxplot()\n",
    "plt.show()\n",
    "plt.clf()"
   ]
  },
  {
   "cell_type": "code",
   "execution_count": 28,
   "id": "c9538a0a-9294-4cd0-82f5-dbd3bbcb4c34",
   "metadata": {},
   "outputs": [
    {
     "data": {
      "image/png": "[encoded data removed]",
      "text/plain": [
       "<Figure size 640x480 with 1 Axes>"
      ]
     },
     "metadata": {},
     "output_type": "display_data"
    },
    {
     "data": {
      "text/plain": [
       "<Figure size 640x480 with 0 Axes>"
      ]
     },
     "metadata": {},
     "output_type": "display_data"
    }
   ],
   "source": [
    "sns.histplot(Ind.income)\n",
    "plt.show()\n",
    "plt.clf()"
   ]
  },
  {
   "cell_type": "markdown",
   "id": "02779f8f-eb72-47e1-920b-29543ef23373",
   "metadata": {},
   "source": [
    "#### Boxplots and Hisograms can help you eye-catch outliers. I separated `income` from both `age` and `height` as it is in a higher scale (A this early point, we must consider scaling them later on is important)\n",
    "\n",
    "#### `age` and `income` showcase values that appear to be extreme thus the need to deal with them. A simple way to is to clip those two features then observe the results for further actions. (I may bin income as many values are -1 that indicate that values are not shared)\n",
    "####  Within the `heights` boxplot, the values (indicated  by black circles) could represent an actual person that is very tall/short so I won't consider limiting this feature further. "
   ]
  },
  {
   "cell_type": "code",
   "execution_count": 29,
   "id": "9749b047-7d56-4739-9680-89a25302e48c",
   "metadata": {},
   "outputs": [
    {
     "data": {
      "text/html": [
       "<div>\n",
       "<style scoped>\n",
       "    .dataframe tbody tr th:only-of-type {\n",
       "        vertical-align: middle;\n",
       "    }\n",
       "\n",
       "    .dataframe tbody tr th {\n",
       "        vertical-align: top;\n",
       "    }\n",
       "\n",
       "    .dataframe thead th {\n",
       "        text-align: right;\n",
       "    }\n",
       "</style>\n",
       "<table border=\"1\" class=\"dataframe\">\n",
       "  <thead>\n",
       "    <tr style=\"text-align: right;\">\n",
       "      <th></th>\n",
       "      <th>age</th>\n",
       "      <th>body_type</th>\n",
       "      <th>diet</th>\n",
       "      <th>drinks</th>\n",
       "      <th>drugs</th>\n",
       "      <th>education</th>\n",
       "      <th>ethnicity</th>\n",
       "      <th>height</th>\n",
       "      <th>income</th>\n",
       "      <th>job</th>\n",
       "      <th>last_online</th>\n",
       "      <th>location</th>\n",
       "      <th>offspring</th>\n",
       "      <th>pets</th>\n",
       "      <th>sex</th>\n",
       "      <th>smokes</th>\n",
       "      <th>speaks</th>\n",
       "    </tr>\n",
       "  </thead>\n",
       "  <tbody>\n",
       "    <tr>\n",
       "      <th>48937</th>\n",
       "      <td>24</td>\n",
       "      <td>Not Shared</td>\n",
       "      <td>Not Shared</td>\n",
       "      <td>socially</td>\n",
       "      <td>Not Shared</td>\n",
       "      <td>graduated from college/university</td>\n",
       "      <td>other</td>\n",
       "      <td>70.0</td>\n",
       "      <td>-1</td>\n",
       "      <td>Not Shared</td>\n",
       "      <td>2012-06-26-08-22</td>\n",
       "      <td>oakland, california</td>\n",
       "      <td>doesn&amp;rsquo;t have kids</td>\n",
       "      <td>Not Shared</td>\n",
       "      <td>m</td>\n",
       "      <td>Not Shared</td>\n",
       "      <td>english, spanish</td>\n",
       "    </tr>\n",
       "    <tr>\n",
       "      <th>55273</th>\n",
       "      <td>56</td>\n",
       "      <td>thin</td>\n",
       "      <td>mostly vegetarian</td>\n",
       "      <td>socially</td>\n",
       "      <td>never</td>\n",
       "      <td>graduated from masters program</td>\n",
       "      <td>hispanic / latin</td>\n",
       "      <td>66.0</td>\n",
       "      <td>-1</td>\n",
       "      <td>other</td>\n",
       "      <td>2012-07-01-00-36</td>\n",
       "      <td>san rafael, california</td>\n",
       "      <td>Not Shared</td>\n",
       "      <td>likes dogs and likes cats</td>\n",
       "      <td>f</td>\n",
       "      <td>no</td>\n",
       "      <td>english (fluently), spanish (fluently), italia...</td>\n",
       "    </tr>\n",
       "    <tr>\n",
       "      <th>5823</th>\n",
       "      <td>26</td>\n",
       "      <td>average</td>\n",
       "      <td>Not Shared</td>\n",
       "      <td>often</td>\n",
       "      <td>often</td>\n",
       "      <td>graduated from college/university</td>\n",
       "      <td>white</td>\n",
       "      <td>71.0</td>\n",
       "      <td>-1</td>\n",
       "      <td>computer / hardware / software</td>\n",
       "      <td>2012-06-20-13-53</td>\n",
       "      <td>palo alto, california</td>\n",
       "      <td>Not Shared</td>\n",
       "      <td>likes dogs and likes cats</td>\n",
       "      <td>m</td>\n",
       "      <td>sometimes</td>\n",
       "      <td>english (fluently)</td>\n",
       "    </tr>\n",
       "    <tr>\n",
       "      <th>7457</th>\n",
       "      <td>25</td>\n",
       "      <td>Not Shared</td>\n",
       "      <td>mostly anything</td>\n",
       "      <td>Not Shared</td>\n",
       "      <td>Not Shared</td>\n",
       "      <td>working on law school</td>\n",
       "      <td>white</td>\n",
       "      <td>71.0</td>\n",
       "      <td>-1</td>\n",
       "      <td>student</td>\n",
       "      <td>2012-05-20-18-37</td>\n",
       "      <td>san francisco, california</td>\n",
       "      <td>Not Shared</td>\n",
       "      <td>Not Shared</td>\n",
       "      <td>m</td>\n",
       "      <td>Not Shared</td>\n",
       "      <td>english</td>\n",
       "    </tr>\n",
       "    <tr>\n",
       "      <th>34435</th>\n",
       "      <td>25</td>\n",
       "      <td>jacked</td>\n",
       "      <td>vegan</td>\n",
       "      <td>desperately</td>\n",
       "      <td>sometimes</td>\n",
       "      <td>Not Shared</td>\n",
       "      <td>other</td>\n",
       "      <td>67.0</td>\n",
       "      <td>-1</td>\n",
       "      <td>retired</td>\n",
       "      <td>2012-06-17-12-03</td>\n",
       "      <td>san francisco, california</td>\n",
       "      <td>Not Shared</td>\n",
       "      <td>likes dogs and likes cats</td>\n",
       "      <td>m</td>\n",
       "      <td>no</td>\n",
       "      <td>english</td>\n",
       "    </tr>\n",
       "  </tbody>\n",
       "</table>\n",
       "</div>"
      ],
      "text/plain": [
       "       age   body_type               diet       drinks       drugs  \\\n",
       "48937   24  Not Shared         Not Shared     socially  Not Shared   \n",
       "55273   56        thin  mostly vegetarian     socially       never   \n",
       "5823    26     average         Not Shared        often       often   \n",
       "7457    25  Not Shared    mostly anything   Not Shared  Not Shared   \n",
       "34435   25      jacked              vegan  desperately   sometimes   \n",
       "\n",
       "                               education         ethnicity  height  income  \\\n",
       "48937  graduated from college/university             other    70.0      -1   \n",
       "55273     graduated from masters program  hispanic / latin    66.0      -1   \n",
       "5823   graduated from college/university             white    71.0      -1   \n",
       "7457               working on law school             white    71.0      -1   \n",
       "34435                         Not Shared             other    67.0      -1   \n",
       "\n",
       "                                  job       last_online  \\\n",
       "48937                      Not Shared  2012-06-26-08-22   \n",
       "55273                           other  2012-07-01-00-36   \n",
       "5823   computer / hardware / software  2012-06-20-13-53   \n",
       "7457                          student  2012-05-20-18-37   \n",
       "34435                         retired  2012-06-17-12-03   \n",
       "\n",
       "                        location                offspring  \\\n",
       "48937        oakland, california  doesn&rsquo;t have kids   \n",
       "55273     san rafael, california               Not Shared   \n",
       "5823       palo alto, california               Not Shared   \n",
       "7457   san francisco, california               Not Shared   \n",
       "34435  san francisco, california               Not Shared   \n",
       "\n",
       "                            pets sex      smokes  \\\n",
       "48937                 Not Shared   m  Not Shared   \n",
       "55273  likes dogs and likes cats   f          no   \n",
       "5823   likes dogs and likes cats   m   sometimes   \n",
       "7457                  Not Shared   m  Not Shared   \n",
       "34435  likes dogs and likes cats   m          no   \n",
       "\n",
       "                                                  speaks  \n",
       "48937                                   english, spanish  \n",
       "55273  english (fluently), spanish (fluently), italia...  \n",
       "5823                                  english (fluently)  \n",
       "7457                                             english  \n",
       "34435                                            english  "
      ]
     },
     "execution_count": 29,
     "metadata": {},
     "output_type": "execute_result"
    }
   ],
   "source": [
    "Ind.head()"
   ]
  },
  {
   "cell_type": "code",
   "execution_count": 30,
   "id": "dc21b158-7b13-4db1-9623-371fc3c124b0",
   "metadata": {},
   "outputs": [],
   "source": [
    "def remove_outliers(df,cols):\n",
    "    feature_bounds = {}\n",
    "    for feature in cols:\n",
    "        Q1 = np.percentile(df[feature],25)\n",
    "        Q3 = np.percentile(df[feature],75)\n",
    "        IQR = Q3 - Q1\n",
    "        lower_bound = Q1 - 1.8 * IQR \n",
    "        upper_bound = Q3 + 1.8 * IQR\n",
    "        df[feature] = np.where(df[feature].notna(), \n",
    "                               np.clip(df[feature], lower_bound, upper_bound), \n",
    "                               df[feature])\n",
    "        feature_bounds[feature] = (lower_bound,upper_bound)\n",
    "    return feature_bounds"
   ]
  },
  {
   "cell_type": "code",
   "execution_count": 31,
   "id": "e1f3a236-385c-4d69-a0e3-ed42e4b0690b",
   "metadata": {
    "editable": true,
    "slideshow": {
     "slide_type": ""
    },
    "tags": []
   },
   "outputs": [
    {
     "data": {
      "text/plain": [
       "{'age': (6.199999999999999, 56.8)}"
      ]
     },
     "execution_count": 31,
     "metadata": {},
     "output_type": "execute_result"
    }
   ],
   "source": [
    "feature_bounds = remove_outliers(Ind,['age'])\n",
    "feature_bounds"
   ]
  },
  {
   "cell_type": "code",
   "execution_count": 32,
   "id": "4f80cf93-bf28-4a4f-bbe7-e0fc0c11162e",
   "metadata": {},
   "outputs": [
    {
     "data": {
      "image/png": "[encoded data removed]",
      "text/plain": [
       "<Figure size 640x480 with 1 Axes>"
      ]
     },
     "metadata": {},
     "output_type": "display_data"
    },
    {
     "data": {
      "text/plain": [
       "<Figure size 640x480 with 0 Axes>"
      ]
     },
     "metadata": {},
     "output_type": "display_data"
    }
   ],
   "source": [
    "Ind[[col for col in numeric_cols if col != 'income']].boxplot()\n",
    "plt.show()\n",
    "plt.clf()"
   ]
  },
  {
   "cell_type": "code",
   "execution_count": 33,
   "id": "25ee4608-a182-431d-b48a-124b9de56a29",
   "metadata": {
    "editable": true,
    "slideshow": {
     "slide_type": ""
    },
    "tags": []
   },
   "outputs": [],
   "source": [
    "def bin_income(df):\n",
    "    df['income_category'] = df.income.apply(lambda x: np.nan if x == -1 else x)\n",
    "\n",
    "    bins = [0, 50000, 100000, 500000, float(np.inf)]\n",
    "    labels = ['$0-$50k', '$50k-$100k', '$100k-$500k', '$500k+']\n",
    "\n",
    "    df['income_category'] = pd.cut(\n",
    "    df['income'], \n",
    "    bins=bins,\n",
    "    labels=labels,\n",
    "    right=False)\n",
    "\n",
    "    df['income_category'] = df['income_category'].astype('object').fillna('Not Shared')"
   ]
  },
  {
   "cell_type": "code",
   "execution_count": 34,
   "id": "e58621e1-ad48-459a-82a1-dda94321e9f0",
   "metadata": {},
   "outputs": [],
   "source": [
    "bin_income(Ind)"
   ]
  },
  {
   "cell_type": "code",
   "execution_count": 35,
   "id": "922b96c6-7280-43f2-b625-1511495d7b8e",
   "metadata": {},
   "outputs": [
    {
     "data": {
      "text/plain": [
       "array(['Not Shared', '$50k-$100k', '$0-$50k', '$500k+', '$100k-$500k'],\n",
       "      dtype=object)"
      ]
     },
     "execution_count": 35,
     "metadata": {},
     "output_type": "execute_result"
    }
   ],
   "source": [
    "Ind.income_category.unique()"
   ]
  },
  {
   "cell_type": "code",
   "execution_count": 36,
   "id": "0ac476b7-4e77-4073-bf16-fed1d9e7f29c",
   "metadata": {},
   "outputs": [],
   "source": [
    "indices = Ind.income_category.value_counts().index"
   ]
  },
  {
   "cell_type": "code",
   "execution_count": 37,
   "id": "c8941e06-b831-4728-b00a-1b67536aec9a",
   "metadata": {},
   "outputs": [],
   "source": [
    "values = Ind.income_category.value_counts().values"
   ]
  },
  {
   "cell_type": "code",
   "execution_count": 38,
   "id": "97a14d8e-5412-4dde-b0e4-0a836bc2fdcf",
   "metadata": {},
   "outputs": [
    {
     "data": {
      "image/png": "[encoded data removed]",
      "text/plain": [
       "<Figure size 640x480 with 1 Axes>"
      ]
     },
     "metadata": {},
     "output_type": "display_data"
    },
    {
     "data": {
      "text/plain": [
       "<Figure size 640x480 with 0 Axes>"
      ]
     },
     "metadata": {},
     "output_type": "display_data"
    }
   ],
   "source": [
    "def addlabels(x,y):\n",
    "    for i in range(len(x)):\n",
    "        plt.text(i,y[i]*1.05,y[i],ha = 'center',bbox = dict(facecolor = 'white', alpha =.5)) # https://www.geeksforgeeks.org/adding-value-labels-on-a-matplotlib-bar-chart/\n",
    "                                                                                           # https://matplotlib.org/stable/api/_as_gen/matplotlib.pyplot.text.html\n",
    "plt.bar(x=indices,height=values)\n",
    "addlabels(x=indices,y=values)\n",
    "plt.title(\"Income Category bins' counts\")\n",
    "plt.show()\n",
    "plt.clf()"
   ]
  },
  {
   "cell_type": "code",
   "execution_count": null,
   "id": "d02982e3-ede6-47ba-aba2-d97989d86936",
   "metadata": {},
   "outputs": [],
   "source": []
  }
 ],
 "metadata": {
  "kernelspec": {
   "display_name": "Python 3 (ipykernel)",
   "language": "python",
   "name": "python3"
  },
  "language_info": {
   "codemirror_mode": {
    "name": "ipython",
    "version": 3
   },
   "file_extension": ".py",
   "mimetype": "text/x-python",
   "name": "python",
   "nbconvert_exporter": "python",
   "pygments_lexer": "ipython3",
   "version": "3.12.5"
  }
 },
 "nbformat": 4,
 "nbformat_minor": 5
}

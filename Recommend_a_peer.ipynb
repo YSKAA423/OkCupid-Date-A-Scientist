{
 "cells": [
  {
   "cell_type": "markdown",
   "id": "eb9a33da-6600-4dcd-94b7-6c34e5efef68",
   "metadata": {},
   "source": [
    "# This Project serves as the last portfolio project as part of the [Codecademy](https://www.codecademy.com/career-journey/data-scientist-ml) data science: machine learning specialist career path and aims to independently analzye the data from a source called \"OKCupid\"\n",
    "--------------------------------\n",
    "### \"The purpose of this project is to practice formulating questions and implementing machine learning techniques to answer those questions. However, the questions you ask and how you answer them are entirely up to you.\"\n",
    "\n",
    "\n",
    "## More about the idea:\n",
    "   > `from the direct Codecademy source` : In recent years, there has been a massive rise in the usage of dating apps to find love. Many of these apps use sophisticated data science techniques to recommend possible matches to users and to optimize the user experience. These apps give us access to a wealth of information that we’ve never had before about how different people experience romance. In this portfolio project, you will analyze some data from OKCupid, an app that focuses on using multiple choice and short answers to match users.\n",
    "\n",
    "\n",
    "Althought the dataset revolves around the concept of dating I want to re-direct the vector of attention to aspects that fit me as a person and my beliefs thus shifting it into \"Recommend a Peer\". The usual steps including Data Preprocessing, Exploratory Data Analysis, Machine Learning Model Selection, Evaluation, and Tuning, will be followed. The `Scope` ultimately is to showcase what I learnt throughtout the careerpath. I also plan to refactor the code to accomodate the concept of pipelines and explore deploying it for a more practical feel further down the line.\n",
    "\n",
    "To be more specific this project, utilizes three machine learning models in order to achieve different goals:\n",
    "\n",
    "    > Predicting a feature about a user based on data available\n",
    "    > Grouping users in order to recognize patterns\n",
    "    > A recommender model that recommendes a peer"
   ]
  },
  {
   "cell_type": "markdown",
   "id": "b11ffd68-7d76-4a44-9693-c4ce3afec85a",
   "metadata": {},
   "source": [
    "## Current Planned Progression:\n",
    "\n",
    "    1. Exploring the dataset\n",
    "        1a. Basic Information\n",
    "        1b. Data Types\n",
    "        1c. Addressing features (Isolating and Dropping features) \n",
    "    2. Data Preprocessing\n",
    "        2a. Nulls\n",
    "        2b. Outliers\n",
    "        2c. Formatting Issues\n",
    "        .. extra\n",
    "    3. Exploratory Data Analysis\n",
    "        3a. Understanding the Age distribution\n",
    "        3b. Eating habits (relation with body type?)\n",
    "        3c. Usage of Prohibited materials (affects on health)\n",
    "        3d. Frequency of Education (across ages) - (edu vs income)\n",
    "        3e. Frequency of Jobs - (Jobs vs incomes) - (Max vs Min Jobs)\n",
    "        3f. Frequency and Proportions of Locations (Average income and height per location) - (Highest Frequency Job in each Location)\n",
    "        3g. Activity on the site - (Activity per location)\n",
    "        3h. Is there an association between having pet and a child? (exploring different associations)\n",
    "        ... exploring hypothesis tests \n",
    "        ... exploring exploring further associations \n",
    "        ... exploring feature engineering before feeding them into the machine learning models\n",
    "\n",
    "    4. Machine Learning Model\n",
    "        I plan on using 3 models to predict:\n",
    "            >  If the use would be a smoker or not (Supervised)\n",
    "            >  Group Users in order to discover patterns (Unsupervised)\n",
    "            >  Recommend a user based on common attributed (Supervised)\n",
    "\n",
    "        ... a very basic start that would lead to evaluation then tuning later on."
   ]
  },
  {
   "cell_type": "markdown",
   "id": "8a53ec62-bcda-4a30-98d1-d32c770e00d2",
   "metadata": {},
   "source": [
    "### As Always importing basic libraries"
   ]
  },
  {
   "cell_type": "code",
   "execution_count": 56,
   "id": "8f468430-629d-47f8-b1cf-e6af8b736513",
   "metadata": {},
   "outputs": [],
   "source": [
    "import pandas as pd\n",
    "import numpy as np\n",
    "import matplotlib.pyplot as plt\n",
    "import seaborn as sns"
   ]
  },
  {
   "cell_type": "markdown",
   "id": "06a79fc4-9a8c-4e89-b5fa-6db20518c7bc",
   "metadata": {},
   "source": [
    "# Exploring the Dataset"
   ]
  },
  {
   "cell_type": "code",
   "execution_count": 57,
   "id": "026ca26c-0bc8-41d3-b480-8c5d52d539c9",
   "metadata": {},
   "outputs": [],
   "source": [
    "Ind = pd.read_csv(\"profiles.csv\")"
   ]
  },
  {
   "cell_type": "code",
   "execution_count": 58,
   "id": "57a20213-ad18-4066-8e1d-dece06181f9a",
   "metadata": {},
   "outputs": [
    {
     "data": {
      "text/html": [
       "<div>\n",
       "<style scoped>\n",
       "    .dataframe tbody tr th:only-of-type {\n",
       "        vertical-align: middle;\n",
       "    }\n",
       "\n",
       "    .dataframe tbody tr th {\n",
       "        vertical-align: top;\n",
       "    }\n",
       "\n",
       "    .dataframe thead th {\n",
       "        text-align: right;\n",
       "    }\n",
       "</style>\n",
       "<table border=\"1\" class=\"dataframe\">\n",
       "  <thead>\n",
       "    <tr style=\"text-align: right;\">\n",
       "      <th></th>\n",
       "      <th>age</th>\n",
       "      <th>body_type</th>\n",
       "      <th>diet</th>\n",
       "      <th>drinks</th>\n",
       "      <th>drugs</th>\n",
       "      <th>education</th>\n",
       "      <th>essay0</th>\n",
       "      <th>essay1</th>\n",
       "      <th>essay2</th>\n",
       "      <th>essay3</th>\n",
       "      <th>...</th>\n",
       "      <th>location</th>\n",
       "      <th>offspring</th>\n",
       "      <th>orientation</th>\n",
       "      <th>pets</th>\n",
       "      <th>religion</th>\n",
       "      <th>sex</th>\n",
       "      <th>sign</th>\n",
       "      <th>smokes</th>\n",
       "      <th>speaks</th>\n",
       "      <th>status</th>\n",
       "    </tr>\n",
       "  </thead>\n",
       "  <tbody>\n",
       "    <tr>\n",
       "      <th>0</th>\n",
       "      <td>22</td>\n",
       "      <td>a little extra</td>\n",
       "      <td>strictly anything</td>\n",
       "      <td>socially</td>\n",
       "      <td>never</td>\n",
       "      <td>working on college/university</td>\n",
       "      <td>about me:&lt;br /&gt;\\n&lt;br /&gt;\\ni would love to think...</td>\n",
       "      <td>currently working as an international agent fo...</td>\n",
       "      <td>making people laugh.&lt;br /&gt;\\nranting about a go...</td>\n",
       "      <td>the way i look. i am a six foot half asian, ha...</td>\n",
       "      <td>...</td>\n",
       "      <td>south san francisco, california</td>\n",
       "      <td>doesn&amp;rsquo;t have kids, but might want them</td>\n",
       "      <td>straight</td>\n",
       "      <td>likes dogs and likes cats</td>\n",
       "      <td>agnosticism and very serious about it</td>\n",
       "      <td>m</td>\n",
       "      <td>gemini</td>\n",
       "      <td>sometimes</td>\n",
       "      <td>english</td>\n",
       "      <td>single</td>\n",
       "    </tr>\n",
       "    <tr>\n",
       "      <th>1</th>\n",
       "      <td>35</td>\n",
       "      <td>average</td>\n",
       "      <td>mostly other</td>\n",
       "      <td>often</td>\n",
       "      <td>sometimes</td>\n",
       "      <td>working on space camp</td>\n",
       "      <td>i am a chef: this is what that means.&lt;br /&gt;\\n1...</td>\n",
       "      <td>dedicating everyday to being an unbelievable b...</td>\n",
       "      <td>being silly. having ridiculous amonts of fun w...</td>\n",
       "      <td>NaN</td>\n",
       "      <td>...</td>\n",
       "      <td>oakland, california</td>\n",
       "      <td>doesn&amp;rsquo;t have kids, but might want them</td>\n",
       "      <td>straight</td>\n",
       "      <td>likes dogs and likes cats</td>\n",
       "      <td>agnosticism but not too serious about it</td>\n",
       "      <td>m</td>\n",
       "      <td>cancer</td>\n",
       "      <td>no</td>\n",
       "      <td>english (fluently), spanish (poorly), french (...</td>\n",
       "      <td>single</td>\n",
       "    </tr>\n",
       "    <tr>\n",
       "      <th>2</th>\n",
       "      <td>38</td>\n",
       "      <td>thin</td>\n",
       "      <td>anything</td>\n",
       "      <td>socially</td>\n",
       "      <td>NaN</td>\n",
       "      <td>graduated from masters program</td>\n",
       "      <td>i'm not ashamed of much, but writing public te...</td>\n",
       "      <td>i make nerdy software for musicians, artists, ...</td>\n",
       "      <td>improvising in different contexts. alternating...</td>\n",
       "      <td>my large jaw and large glasses are the physica...</td>\n",
       "      <td>...</td>\n",
       "      <td>san francisco, california</td>\n",
       "      <td>NaN</td>\n",
       "      <td>straight</td>\n",
       "      <td>has cats</td>\n",
       "      <td>NaN</td>\n",
       "      <td>m</td>\n",
       "      <td>pisces but it doesn&amp;rsquo;t matter</td>\n",
       "      <td>no</td>\n",
       "      <td>english, french, c++</td>\n",
       "      <td>available</td>\n",
       "    </tr>\n",
       "    <tr>\n",
       "      <th>3</th>\n",
       "      <td>23</td>\n",
       "      <td>thin</td>\n",
       "      <td>vegetarian</td>\n",
       "      <td>socially</td>\n",
       "      <td>NaN</td>\n",
       "      <td>working on college/university</td>\n",
       "      <td>i work in a library and go to school. . .</td>\n",
       "      <td>reading things written by old dead people</td>\n",
       "      <td>playing synthesizers and organizing books acco...</td>\n",
       "      <td>socially awkward but i do my best</td>\n",
       "      <td>...</td>\n",
       "      <td>berkeley, california</td>\n",
       "      <td>doesn&amp;rsquo;t want kids</td>\n",
       "      <td>straight</td>\n",
       "      <td>likes cats</td>\n",
       "      <td>NaN</td>\n",
       "      <td>m</td>\n",
       "      <td>pisces</td>\n",
       "      <td>no</td>\n",
       "      <td>english, german (poorly)</td>\n",
       "      <td>single</td>\n",
       "    </tr>\n",
       "    <tr>\n",
       "      <th>4</th>\n",
       "      <td>29</td>\n",
       "      <td>athletic</td>\n",
       "      <td>NaN</td>\n",
       "      <td>socially</td>\n",
       "      <td>never</td>\n",
       "      <td>graduated from college/university</td>\n",
       "      <td>hey how's it going? currently vague on the pro...</td>\n",
       "      <td>work work work work + play</td>\n",
       "      <td>creating imagery to look at:&lt;br /&gt;\\nhttp://bag...</td>\n",
       "      <td>i smile a lot and my inquisitive nature</td>\n",
       "      <td>...</td>\n",
       "      <td>san francisco, california</td>\n",
       "      <td>NaN</td>\n",
       "      <td>straight</td>\n",
       "      <td>likes dogs and likes cats</td>\n",
       "      <td>NaN</td>\n",
       "      <td>m</td>\n",
       "      <td>aquarius</td>\n",
       "      <td>no</td>\n",
       "      <td>english</td>\n",
       "      <td>single</td>\n",
       "    </tr>\n",
       "  </tbody>\n",
       "</table>\n",
       "<p>5 rows × 31 columns</p>\n",
       "</div>"
      ],
      "text/plain": [
       "   age       body_type               diet    drinks      drugs  \\\n",
       "0   22  a little extra  strictly anything  socially      never   \n",
       "1   35         average       mostly other     often  sometimes   \n",
       "2   38            thin           anything  socially        NaN   \n",
       "3   23            thin         vegetarian  socially        NaN   \n",
       "4   29        athletic                NaN  socially      never   \n",
       "\n",
       "                           education  \\\n",
       "0      working on college/university   \n",
       "1              working on space camp   \n",
       "2     graduated from masters program   \n",
       "3      working on college/university   \n",
       "4  graduated from college/university   \n",
       "\n",
       "                                              essay0  \\\n",
       "0  about me:<br />\\n<br />\\ni would love to think...   \n",
       "1  i am a chef: this is what that means.<br />\\n1...   \n",
       "2  i'm not ashamed of much, but writing public te...   \n",
       "3          i work in a library and go to school. . .   \n",
       "4  hey how's it going? currently vague on the pro...   \n",
       "\n",
       "                                              essay1  \\\n",
       "0  currently working as an international agent fo...   \n",
       "1  dedicating everyday to being an unbelievable b...   \n",
       "2  i make nerdy software for musicians, artists, ...   \n",
       "3          reading things written by old dead people   \n",
       "4                         work work work work + play   \n",
       "\n",
       "                                              essay2  \\\n",
       "0  making people laugh.<br />\\nranting about a go...   \n",
       "1  being silly. having ridiculous amonts of fun w...   \n",
       "2  improvising in different contexts. alternating...   \n",
       "3  playing synthesizers and organizing books acco...   \n",
       "4  creating imagery to look at:<br />\\nhttp://bag...   \n",
       "\n",
       "                                              essay3  ...  \\\n",
       "0  the way i look. i am a six foot half asian, ha...  ...   \n",
       "1                                                NaN  ...   \n",
       "2  my large jaw and large glasses are the physica...  ...   \n",
       "3                  socially awkward but i do my best  ...   \n",
       "4            i smile a lot and my inquisitive nature  ...   \n",
       "\n",
       "                          location  \\\n",
       "0  south san francisco, california   \n",
       "1              oakland, california   \n",
       "2        san francisco, california   \n",
       "3             berkeley, california   \n",
       "4        san francisco, california   \n",
       "\n",
       "                                      offspring orientation  \\\n",
       "0  doesn&rsquo;t have kids, but might want them    straight   \n",
       "1  doesn&rsquo;t have kids, but might want them    straight   \n",
       "2                                           NaN    straight   \n",
       "3                       doesn&rsquo;t want kids    straight   \n",
       "4                                           NaN    straight   \n",
       "\n",
       "                        pets                                  religion sex  \\\n",
       "0  likes dogs and likes cats     agnosticism and very serious about it   m   \n",
       "1  likes dogs and likes cats  agnosticism but not too serious about it   m   \n",
       "2                   has cats                                       NaN   m   \n",
       "3                 likes cats                                       NaN   m   \n",
       "4  likes dogs and likes cats                                       NaN   m   \n",
       "\n",
       "                                 sign     smokes  \\\n",
       "0                              gemini  sometimes   \n",
       "1                              cancer         no   \n",
       "2  pisces but it doesn&rsquo;t matter         no   \n",
       "3                              pisces         no   \n",
       "4                            aquarius         no   \n",
       "\n",
       "                                              speaks     status  \n",
       "0                                            english     single  \n",
       "1  english (fluently), spanish (poorly), french (...     single  \n",
       "2                               english, french, c++  available  \n",
       "3                           english, german (poorly)     single  \n",
       "4                                            english     single  \n",
       "\n",
       "[5 rows x 31 columns]"
      ]
     },
     "execution_count": 58,
     "metadata": {},
     "output_type": "execute_result"
    }
   ],
   "source": [
    "Ind.head()"
   ]
  },
  {
   "cell_type": "code",
   "execution_count": 59,
   "id": "e90a1244-d62f-424f-b46e-48563b17cf78",
   "metadata": {},
   "outputs": [
    {
     "name": "stdout",
     "output_type": "stream",
     "text": [
      "<class 'pandas.core.frame.DataFrame'>\n",
      "RangeIndex: 59946 entries, 0 to 59945\n",
      "Data columns (total 31 columns):\n",
      " #   Column       Non-Null Count  Dtype  \n",
      "---  ------       --------------  -----  \n",
      " 0   age          59946 non-null  int64  \n",
      " 1   body_type    54650 non-null  object \n",
      " 2   diet         35551 non-null  object \n",
      " 3   drinks       56961 non-null  object \n",
      " 4   drugs        45866 non-null  object \n",
      " 5   education    53318 non-null  object \n",
      " 6   essay0       54458 non-null  object \n",
      " 7   essay1       52374 non-null  object \n",
      " 8   essay2       50308 non-null  object \n",
      " 9   essay3       48470 non-null  object \n",
      " 10  essay4       49409 non-null  object \n",
      " 11  essay5       49096 non-null  object \n",
      " 12  essay6       46175 non-null  object \n",
      " 13  essay7       47495 non-null  object \n",
      " 14  essay8       40721 non-null  object \n",
      " 15  essay9       47343 non-null  object \n",
      " 16  ethnicity    54266 non-null  object \n",
      " 17  height       59943 non-null  float64\n",
      " 18  income       59946 non-null  int64  \n",
      " 19  job          51748 non-null  object \n",
      " 20  last_online  59946 non-null  object \n",
      " 21  location     59946 non-null  object \n",
      " 22  offspring    24385 non-null  object \n",
      " 23  orientation  59946 non-null  object \n",
      " 24  pets         40025 non-null  object \n",
      " 25  religion     39720 non-null  object \n",
      " 26  sex          59946 non-null  object \n",
      " 27  sign         48890 non-null  object \n",
      " 28  smokes       54434 non-null  object \n",
      " 29  speaks       59896 non-null  object \n",
      " 30  status       59946 non-null  object \n",
      "dtypes: float64(1), int64(2), object(28)\n",
      "memory usage: 14.2+ MB\n"
     ]
    }
   ],
   "source": [
    "Ind.info()"
   ]
  },
  {
   "cell_type": "markdown",
   "id": "4ac9417b-bfb7-486d-a9d0-c0716a4d8805",
   "metadata": {},
   "source": [
    "Features' Dtypes are within reason but would like to inspect income to understand the values that are present inside."
   ]
  },
  {
   "cell_type": "code",
   "execution_count": 60,
   "id": "7bc42adf-bf81-4b92-acf9-d3551d257b3e",
   "metadata": {},
   "outputs": [
    {
     "data": {
      "text/plain": [
       "array([     -1,   80000,   20000,   40000,   30000,   50000,   60000,\n",
       "       1000000,  150000,  100000,  500000,   70000,  250000], dtype=int64)"
      ]
     },
     "execution_count": 60,
     "metadata": {},
     "output_type": "execute_result"
    }
   ],
   "source": [
    "Ind.income.unique()"
   ]
  },
  {
   "cell_type": "code",
   "execution_count": 61,
   "id": "d3dd45ce-1687-4249-87c8-d08da67f7156",
   "metadata": {},
   "outputs": [
    {
     "data": {
      "image/png": "[encoded data removed]",
      "text/plain": [
       "<Figure size 640x480 with 1 Axes>"
      ]
     },
     "metadata": {},
     "output_type": "display_data"
    },
    {
     "data": {
      "text/plain": [
       "<Figure size 640x480 with 0 Axes>"
      ]
     },
     "metadata": {},
     "output_type": "display_data"
    }
   ],
   "source": [
    "sns.histplot(Ind.income, bins=50)\n",
    "plt.plot()\n",
    "plt.show()\n",
    "plt.clf()"
   ]
  },
  {
   "cell_type": "markdown",
   "id": "19b1711a-34dc-4e84-a97b-67bacd18c448",
   "metadata": {},
   "source": [
    "## Pandas recorded int64 for this feature as there are no values with decimals. The other intriguing thing is the appearane of a `-1` in the data indicating a probable missing value that should be either imputed or removed"
   ]
  },
  {
   "cell_type": "markdown",
   "id": "264ac776-f845-4ffb-91d1-fa02c9c8ad8b",
   "metadata": {},
   "source": [
    "## A very effective way is to look at a description"
   ]
  },
  {
   "cell_type": "code",
   "execution_count": 62,
   "id": "910ddd66-bc51-4c77-98db-2a575feb2155",
   "metadata": {},
   "outputs": [
    {
     "data": {
      "text/html": [
       "<div>\n",
       "<style scoped>\n",
       "    .dataframe tbody tr th:only-of-type {\n",
       "        vertical-align: middle;\n",
       "    }\n",
       "\n",
       "    .dataframe tbody tr th {\n",
       "        vertical-align: top;\n",
       "    }\n",
       "\n",
       "    .dataframe thead th {\n",
       "        text-align: right;\n",
       "    }\n",
       "</style>\n",
       "<table border=\"1\" class=\"dataframe\">\n",
       "  <thead>\n",
       "    <tr style=\"text-align: right;\">\n",
       "      <th></th>\n",
       "      <th>age</th>\n",
       "      <th>height</th>\n",
       "      <th>income</th>\n",
       "    </tr>\n",
       "  </thead>\n",
       "  <tbody>\n",
       "    <tr>\n",
       "      <th>count</th>\n",
       "      <td>59946.000000</td>\n",
       "      <td>59943.000000</td>\n",
       "      <td>59946.000000</td>\n",
       "    </tr>\n",
       "    <tr>\n",
       "      <th>mean</th>\n",
       "      <td>32.340290</td>\n",
       "      <td>68.295281</td>\n",
       "      <td>20033.222534</td>\n",
       "    </tr>\n",
       "    <tr>\n",
       "      <th>std</th>\n",
       "      <td>9.452779</td>\n",
       "      <td>3.994803</td>\n",
       "      <td>97346.192104</td>\n",
       "    </tr>\n",
       "    <tr>\n",
       "      <th>min</th>\n",
       "      <td>18.000000</td>\n",
       "      <td>1.000000</td>\n",
       "      <td>-1.000000</td>\n",
       "    </tr>\n",
       "    <tr>\n",
       "      <th>25%</th>\n",
       "      <td>26.000000</td>\n",
       "      <td>66.000000</td>\n",
       "      <td>-1.000000</td>\n",
       "    </tr>\n",
       "    <tr>\n",
       "      <th>50%</th>\n",
       "      <td>30.000000</td>\n",
       "      <td>68.000000</td>\n",
       "      <td>-1.000000</td>\n",
       "    </tr>\n",
       "    <tr>\n",
       "      <th>75%</th>\n",
       "      <td>37.000000</td>\n",
       "      <td>71.000000</td>\n",
       "      <td>-1.000000</td>\n",
       "    </tr>\n",
       "    <tr>\n",
       "      <th>max</th>\n",
       "      <td>110.000000</td>\n",
       "      <td>95.000000</td>\n",
       "      <td>1000000.000000</td>\n",
       "    </tr>\n",
       "  </tbody>\n",
       "</table>\n",
       "</div>"
      ],
      "text/plain": [
       "                age        height          income\n",
       "count  59946.000000  59943.000000    59946.000000\n",
       "mean      32.340290     68.295281    20033.222534\n",
       "std        9.452779      3.994803    97346.192104\n",
       "min       18.000000      1.000000       -1.000000\n",
       "25%       26.000000     66.000000       -1.000000\n",
       "50%       30.000000     68.000000       -1.000000\n",
       "75%       37.000000     71.000000       -1.000000\n",
       "max      110.000000     95.000000  1000000.000000"
      ]
     },
     "execution_count": 62,
     "metadata": {},
     "output_type": "execute_result"
    }
   ],
   "source": [
    "Ind.describe()"
   ]
  },
  {
   "cell_type": "markdown",
   "id": "d43217a0-5c35-4755-9e86-03cd51917d6f",
   "metadata": {},
   "source": [
    "## Yikes a very minimal table yet lengthy description. The income feature confirms what we looked at there are many `-1` values probably indicating a missing value and a whooping `1000000.000000` value that could be an outlier. The height feature has a minimum of `1` which does not make any sense so that feature should be inspected as well."
   ]
  },
  {
   "cell_type": "code",
   "execution_count": 63,
   "id": "d94bd354-a48d-4204-b3ba-d4d902c0dcb6",
   "metadata": {},
   "outputs": [
    {
     "data": {
      "text/plain": [
       "array([75., 70., 68., 71., 66., 67., 65., 72., 62., 64., 69., 73., 74.,\n",
       "       60., 63., 76., 61., 78., 79., 59., 80., 91., 83., 77., 58., 56.,\n",
       "       95., 57., 87., 81., 36., 43., 52., 55., 53., 93.,  8., 54., 82.,\n",
       "        3., 86., 42., 84., 94., 50.,  6., 47., 49., 48., 90., 88., nan,\n",
       "       37.,  9., 51.,  1., 92., 26., 85., 89.,  4.])"
      ]
     },
     "execution_count": 63,
     "metadata": {},
     "output_type": "execute_result"
    }
   ],
   "source": [
    "Ind.height.unique()"
   ]
  },
  {
   "cell_type": "code",
   "execution_count": 64,
   "id": "559d8124-6ab8-46cc-8384-5f8c2e5f7de3",
   "metadata": {},
   "outputs": [
    {
     "data": {
      "image/png": "[encoded data removed]",
      "text/plain": [
       "<Figure size 640x480 with 1 Axes>"
      ]
     },
     "metadata": {},
     "output_type": "display_data"
    },
    {
     "data": {
      "text/plain": [
       "<Figure size 640x480 with 0 Axes>"
      ]
     },
     "metadata": {},
     "output_type": "display_data"
    }
   ],
   "source": [
    "sns.histplot(Ind.height, bins=50) \n",
    "plt.plot()\n",
    "plt.show()\n",
    "plt.clf()"
   ]
  },
  {
   "cell_type": "markdown",
   "id": "38e101d3-8a27-454d-acba-68f9e3df5a03",
   "metadata": {},
   "source": [
    "## As seen by both the output of the .unique() method and the histogram plot there are values that do not make sense like the `1.` we saw that needs to be taken care of during pre-processing."
   ]
  },
  {
   "cell_type": "markdown",
   "id": "135ae7f7-1a33-4377-b45c-47008740a90e",
   "metadata": {},
   "source": [
    "# Regarding features\n",
    "\n",
    "> I plan to Isolate all `essay` variables in one dataframe until further down the line as NLP will be more involved.\n",
    "    \n",
    "> I do not plan on using the `orientation`, `religion`, 'status`,`sign` features. "
   ]
  },
  {
   "cell_type": "code",
   "execution_count": 65,
   "id": "e8d77a89-9817-4288-9374-c72c35bbbb0d",
   "metadata": {},
   "outputs": [
    {
     "data": {
      "text/plain": [
       "Index(['essay0', 'essay1', 'essay2', 'essay3', 'essay4', 'essay5', 'essay6',\n",
       "       'essay7', 'essay8', 'essay9'],\n",
       "      dtype='object')"
      ]
     },
     "execution_count": 65,
     "metadata": {},
     "output_type": "execute_result"
    }
   ],
   "source": [
    "essays = Ind[Ind.filter(regex = \"essay[0-9]\").columns]\n",
    "essays.columns"
   ]
  },
  {
   "cell_type": "code",
   "execution_count": 66,
   "id": "c750c70f-9b42-46bf-b687-4c119bf26499",
   "metadata": {},
   "outputs": [],
   "source": [
    "Ind.drop(Ind.filter(regex = \"essay[0-9]\").columns, axis=1,inplace=True)"
   ]
  },
  {
   "cell_type": "code",
   "execution_count": 67,
   "id": "86e9695c-2158-4be3-a358-711d495c6940",
   "metadata": {},
   "outputs": [],
   "source": [
    "Ind.drop(['orientation','religion','status','sign'],axis=1,inplace=True)"
   ]
  },
  {
   "cell_type": "code",
   "execution_count": 68,
   "id": "ef819ccb-6c4f-4a27-8f28-9571c9b078a8",
   "metadata": {},
   "outputs": [
    {
     "data": {
      "text/plain": [
       "Index(['age', 'body_type', 'diet', 'drinks', 'drugs', 'education', 'ethnicity',\n",
       "       'height', 'income', 'job', 'last_online', 'location', 'offspring',\n",
       "       'pets', 'sex', 'smokes', 'speaks'],\n",
       "      dtype='object')"
      ]
     },
     "execution_count": 68,
     "metadata": {},
     "output_type": "execute_result"
    }
   ],
   "source": [
    "Ind.columns"
   ]
  },
  {
   "cell_type": "code",
   "execution_count": 69,
   "id": "3f02d75c-ff91-4ab8-8568-5c5b02260efb",
   "metadata": {},
   "outputs": [
    {
     "name": "stdout",
     "output_type": "stream",
     "text": [
      "<class 'pandas.core.frame.DataFrame'>\n",
      "RangeIndex: 59946 entries, 0 to 59945\n",
      "Data columns (total 17 columns):\n",
      " #   Column       Non-Null Count  Dtype  \n",
      "---  ------       --------------  -----  \n",
      " 0   age          59946 non-null  int64  \n",
      " 1   body_type    54650 non-null  object \n",
      " 2   diet         35551 non-null  object \n",
      " 3   drinks       56961 non-null  object \n",
      " 4   drugs        45866 non-null  object \n",
      " 5   education    53318 non-null  object \n",
      " 6   ethnicity    54266 non-null  object \n",
      " 7   height       59943 non-null  float64\n",
      " 8   income       59946 non-null  int64  \n",
      " 9   job          51748 non-null  object \n",
      " 10  last_online  59946 non-null  object \n",
      " 11  location     59946 non-null  object \n",
      " 12  offspring    24385 non-null  object \n",
      " 13  pets         40025 non-null  object \n",
      " 14  sex          59946 non-null  object \n",
      " 15  smokes       54434 non-null  object \n",
      " 16  speaks       59896 non-null  object \n",
      "dtypes: float64(1), int64(2), object(14)\n",
      "memory usage: 7.8+ MB\n"
     ]
    }
   ],
   "source": [
    "Ind.info()"
   ]
  },
  {
   "cell_type": "markdown",
   "id": "79118713-78ab-4233-99ed-7d4ea46c1d3f",
   "metadata": {},
   "source": [
    "# Data Preprocessing"
   ]
  },
  {
   "cell_type": "markdown",
   "id": "1e8d64e0-2b61-479a-9656-de79ca9ee282",
   "metadata": {},
   "source": [
    "## Any missing values?\n",
    "### In addition to values that could be indicative of a missing/incorrect value in the `income` and `height` fields. It is needed to address NaN (null) values in the dataset"
   ]
  },
  {
   "cell_type": "code",
   "execution_count": 70,
   "id": "2e7cffe9-5f62-46ed-87ec-25d1e89aee2f",
   "metadata": {},
   "outputs": [
    {
     "data": {
      "text/plain": [
       "age            False\n",
       "body_type       True\n",
       "diet            True\n",
       "drinks          True\n",
       "drugs           True\n",
       "education       True\n",
       "ethnicity       True\n",
       "height          True\n",
       "income         False\n",
       "job             True\n",
       "last_online    False\n",
       "location       False\n",
       "offspring       True\n",
       "pets            True\n",
       "sex            False\n",
       "smokes          True\n",
       "speaks          True\n",
       "dtype: bool"
      ]
     },
     "execution_count": 70,
     "metadata": {},
     "output_type": "execute_result"
    }
   ],
   "source": [
    "Ind.isna().any()"
   ]
  },
  {
   "cell_type": "code",
   "execution_count": 71,
   "id": "386fed11-c0bb-4f65-a831-9d4f02c21ade",
   "metadata": {},
   "outputs": [
    {
     "data": {
      "text/plain": [
       "age                0\n",
       "body_type       5296\n",
       "diet           24395\n",
       "drinks          2985\n",
       "drugs          14080\n",
       "education       6628\n",
       "ethnicity       5680\n",
       "height             3\n",
       "income             0\n",
       "job             8198\n",
       "last_online        0\n",
       "location           0\n",
       "offspring      35561\n",
       "pets           19921\n",
       "sex                0\n",
       "smokes          5512\n",
       "speaks            50\n",
       "dtype: int64"
      ]
     },
     "execution_count": 71,
     "metadata": {},
     "output_type": "execute_result"
    }
   ],
   "source": [
    "Ind.isna().sum()"
   ]
  },
  {
   "cell_type": "markdown",
   "id": "534dd2b8-a128-4f5c-a30d-54e108e9abc3",
   "metadata": {},
   "source": [
    "### In terms of categorical features, I will simply replace all null values with an 'unknown' to avoid potentially introducing high bias into the dataset. For `height` (A numeric feature) I will remove these observations as they very low in number."
   ]
  },
  {
   "cell_type": "code",
   "execution_count": 72,
   "id": "b1e1348a-b61c-4339-8996-3f8b532ad9d4",
   "metadata": {},
   "outputs": [],
   "source": [
    "categorical_cols = list(Ind.select_dtypes(include = 'object').columns)\n",
    "numeric_cols = list(Ind.select_dtypes(include = ['int64','float64']).columns)\n",
    "Ind[categorical_cols] = Ind[categorical_cols].fillna('unknown')"
   ]
  },
  {
   "cell_type": "code",
   "execution_count": 73,
   "id": "ca797ced-ff53-46af-80c0-ad12f3d29fc0",
   "metadata": {},
   "outputs": [
    {
     "data": {
      "text/plain": [
       "['body_type',\n",
       " 'diet',\n",
       " 'drinks',\n",
       " 'drugs',\n",
       " 'education',\n",
       " 'ethnicity',\n",
       " 'job',\n",
       " 'last_online',\n",
       " 'location',\n",
       " 'offspring',\n",
       " 'pets',\n",
       " 'sex',\n",
       " 'smokes',\n",
       " 'speaks']"
      ]
     },
     "execution_count": 73,
     "metadata": {},
     "output_type": "execute_result"
    }
   ],
   "source": [
    "categorical_cols"
   ]
  },
  {
   "cell_type": "code",
   "execution_count": 74,
   "id": "ba1d66ad-1eee-4b43-8d21-b8d134e6591f",
   "metadata": {},
   "outputs": [
    {
     "data": {
      "text/plain": [
       "['age', 'height', 'income']"
      ]
     },
     "execution_count": 74,
     "metadata": {},
     "output_type": "execute_result"
    }
   ],
   "source": [
    "numeric_cols"
   ]
  },
  {
   "cell_type": "code",
   "execution_count": 75,
   "id": "ea2b5090-3df9-4852-8861-d44f7e9cac82",
   "metadata": {},
   "outputs": [],
   "source": [
    "Ind.dropna(subset=['height'],axis=0,inplace=True)"
   ]
  },
  {
   "cell_type": "code",
   "execution_count": 76,
   "id": "a159c522-045b-4f19-af88-256f3c8825a7",
   "metadata": {},
   "outputs": [
    {
     "data": {
      "text/plain": [
       "age            False\n",
       "body_type      False\n",
       "diet           False\n",
       "drinks         False\n",
       "drugs          False\n",
       "education      False\n",
       "ethnicity      False\n",
       "height         False\n",
       "income         False\n",
       "job            False\n",
       "last_online    False\n",
       "location       False\n",
       "offspring      False\n",
       "pets           False\n",
       "sex            False\n",
       "smokes         False\n",
       "speaks         False\n",
       "dtype: bool"
      ]
     },
     "execution_count": 76,
     "metadata": {},
     "output_type": "execute_result"
    }
   ],
   "source": [
    "Ind.isna().any()"
   ]
  },
  {
   "cell_type": "markdown",
   "id": "6ab44f4b-4bfa-4db5-8bef-d4cd9a1c8651",
   "metadata": {},
   "source": [
    "### Additionaly I want to check on both `height` and `income` values that were viewed before."
   ]
  },
  {
   "cell_type": "code",
   "execution_count": 77,
   "id": "7bfef1e1-8164-4309-89e9-00ab98bb28bd",
   "metadata": {},
   "outputs": [
    {
     "data": {
      "text/plain": [
       "height\n",
       "1.0        1\n",
       "3.0        1\n",
       "4.0        1\n",
       "6.0        1\n",
       "8.0        1\n",
       "9.0        1\n",
       "26.0       1\n",
       "36.0      11\n",
       "37.0       2\n",
       "42.0       1\n",
       "43.0       2\n",
       "47.0       1\n",
       "48.0       2\n",
       "49.0       1\n",
       "50.0       2\n",
       "51.0       1\n",
       "52.0       1\n",
       "53.0       5\n",
       "54.0       3\n",
       "55.0       6\n",
       "56.0       8\n",
       "57.0      17\n",
       "58.0      53\n",
       "59.0     212\n",
       "60.0     791\n",
       "61.0    1090\n",
       "62.0    2244\n",
       "63.0    2767\n",
       "64.0    3865\n",
       "65.0    3794\n",
       "66.0    4759\n",
       "67.0    5354\n",
       "68.0    5449\n",
       "69.0    5179\n",
       "70.0    6074\n",
       "71.0    4826\n",
       "72.0    5315\n",
       "73.0    2815\n",
       "74.0    2547\n",
       "75.0    1382\n",
       "76.0     783\n",
       "77.0     280\n",
       "78.0     132\n",
       "79.0      57\n",
       "80.0      27\n",
       "81.0      11\n",
       "82.0      11\n",
       "83.0      12\n",
       "84.0       9\n",
       "85.0       1\n",
       "86.0       1\n",
       "87.0       1\n",
       "88.0       2\n",
       "89.0       1\n",
       "90.0       1\n",
       "91.0       3\n",
       "92.0       1\n",
       "93.0       1\n",
       "94.0       3\n",
       "95.0      20\n",
       "Name: count, dtype: int64"
      ]
     },
     "execution_count": 77,
     "metadata": {},
     "output_type": "execute_result"
    }
   ],
   "source": [
    "Ind.height.value_counts().sort_index()"
   ]
  },
  {
   "cell_type": "markdown",
   "id": "503ff811-cb11-47f3-9583-cd7eb45b4a7c",
   "metadata": {},
   "source": [
    "### I am under the assumption that very low heights (in inches) are incorrect. I will conclude all heights under 48 inches as erroneous and then inspect distributions later on.   (Needs more explaining)"
   ]
  },
  {
   "cell_type": "code",
   "execution_count": 78,
   "id": "60f8937e-b016-4137-8e6a-cbd7a3d2652d",
   "metadata": {},
   "outputs": [],
   "source": [
    "Ind = Ind[Ind.height >= 48.0]"
   ]
  },
  {
   "cell_type": "code",
   "execution_count": 80,
   "id": "50a11200-6ac9-4fca-a571-701476063df9",
   "metadata": {},
   "outputs": [
    {
     "data": {
      "text/plain": [
       "array([     -1,   80000,   20000,   40000,   30000,   50000,   60000,\n",
       "       1000000,  150000,  100000,  500000,   70000,  250000], dtype=int64)"
      ]
     },
     "execution_count": 80,
     "metadata": {},
     "output_type": "execute_result"
    }
   ],
   "source": [
    "# Once more re-inspecting the unqiue values in income\n",
    "Ind.income.unique()"
   ]
  },
  {
   "cell_type": "code",
   "execution_count": 81,
   "id": "4f8d9d1a-4515-41d1-a473-63ddf8377153",
   "metadata": {},
   "outputs": [
    {
     "data": {
      "text/plain": [
       "income\n",
       "-1          48422\n",
       " 20000       2950\n",
       " 100000      1621\n",
       " 80000       1110\n",
       " 30000       1048\n",
       " 40000       1005\n",
       " 50000        975\n",
       " 60000        736\n",
       " 70000        707\n",
       " 150000       630\n",
       " 1000000      518\n",
       " 250000       149\n",
       " 500000        48\n",
       "Name: count, dtype: int64"
      ]
     },
     "execution_count": 81,
     "metadata": {},
     "output_type": "execute_result"
    }
   ],
   "source": [
    "Ind.income.value_counts()"
   ]
  },
  {
   "cell_type": "markdown",
   "id": "28bd4cec-a718-44b3-9beb-f714818f97d9",
   "metadata": {},
   "source": [
    "### A lot of -1 values that's for sure. This leads me to believe that this data is not missing at random (MNAR) and many do not like to share important aspects like their income. I will leave it be moving forward.\n",
    "\n",
    "You could inspect the following [BLOG](https://medium.com/analytics-vidhya/different-types-of-missing-data-59c87c046bf7) for more information on missing types of data. "
   ]
  },
  {
   "cell_type": "markdown",
   "id": "30010b72-c61d-47a2-b99c-b7e71d1da756",
   "metadata": {},
   "source": [
    "# Moving onto outliers inspection."
   ]
  },
  {
   "cell_type": "code",
   "execution_count": 88,
   "id": "f57e675c-5f67-4587-bcea-2292366ca8d6",
   "metadata": {},
   "outputs": [
    {
     "data": {
      "image/png": "[encoded data removed]",
      "text/plain": [
       "<Figure size 640x480 with 1 Axes>"
      ]
     },
     "metadata": {},
     "output_type": "display_data"
    },
    {
     "data": {
      "text/plain": [
       "<Figure size 640x480 with 0 Axes>"
      ]
     },
     "metadata": {},
     "output_type": "display_data"
    }
   ],
   "source": [
    "Ind[[col for col in numeric_cols if col != 'income']].boxplot()\n",
    "plt.show()\n",
    "plt.clf()"
   ]
  },
  {
   "cell_type": "code",
   "execution_count": 89,
   "id": "10a55e0a-5d51-4194-9aa8-917deb301795",
   "metadata": {},
   "outputs": [
    {
     "data": {
      "image/png": "[encoded data removed]",
      "text/plain": [
       "<Figure size 640x480 with 1 Axes>"
      ]
     },
     "metadata": {},
     "output_type": "display_data"
    },
    {
     "data": {
      "text/plain": [
       "<Figure size 640x480 with 0 Axes>"
      ]
     },
     "metadata": {},
     "output_type": "display_data"
    }
   ],
   "source": [
    "Ind[['income']].boxplot()\n",
    "plt.show()\n",
    "plt.clf()"
   ]
  },
  {
   "cell_type": "code",
   "execution_count": 91,
   "id": "c9538a0a-9294-4cd0-82f5-dbd3bbcb4c34",
   "metadata": {},
   "outputs": [
    {
     "data": {
      "image/png": "[encoded data removed]",
      "text/plain": [
       "<Figure size 640x480 with 1 Axes>"
      ]
     },
     "metadata": {},
     "output_type": "display_data"
    },
    {
     "data": {
      "text/plain": [
       "<Figure size 640x480 with 0 Axes>"
      ]
     },
     "metadata": {},
     "output_type": "display_data"
    }
   ],
   "source": [
    "sns.histplot(Ind.income)\n",
    "plt.show()\n",
    "plt.clf()"
   ]
  },
  {
   "cell_type": "markdown",
   "id": "02779f8f-eb72-47e1-920b-29543ef23373",
   "metadata": {},
   "source": [
    "#### Boxplots and Hisograms can help you eye-catch outliers. I separated `income` from both `age` and `height` as it is in a higher scale (A this early point, we must consider scaling them later on is important)\n",
    "\n",
    "#### `age` and `income` showcase values that appear to be extreme thus the need to deal with them. A simple way to is to clip those two features then observe the results for further actions.\n",
    "\n",
    "####  Within the `heights` boxplot, the values (indicated  by black circles) could represent an actual person that is very tall/short so I won't consider limiting this feature further. "
   ]
  },
  {
   "cell_type": "code",
   "execution_count": 110,
   "id": "dc21b158-7b13-4db1-9623-371fc3c124b0",
   "metadata": {},
   "outputs": [],
   "source": [
    "def remove_outliers(df,cols):\n",
    "    feature_bounds = {}\n",
    "    for feature in cols:\n",
    "        Q1 = np.percentile(df[feature],25)\n",
    "        Q3 = np.percentile(df[feature],75)\n",
    "        IQR = Q3 - Q1\n",
    "        lower_bound = Q1 - 1.8 * IQR \n",
    "        upper_bound = Q3 + 1.8 * IQR\n",
    "        df[feature] = np.clip(df[feature], lower_bound, upper_bound)\n",
    "        feature_bounds[feature] = (lower_bound,upper_bound)\n",
    "    return feature_bounds"
   ]
  },
  {
   "cell_type": "code",
   "execution_count": 111,
   "id": "e1f3a236-385c-4d69-a0e3-ed42e4b0690b",
   "metadata": {},
   "outputs": [
    {
     "data": {
      "text/plain": [
       "{'age': (6.199999999999999, 56.8), 'income': (-1.0, -1.0)}"
      ]
     },
     "execution_count": 111,
     "metadata": {},
     "output_type": "execute_result"
    }
   ],
   "source": [
    "feature_bounds = remove_outliers(Ind,['age','income'])\n",
    "feature_bounds"
   ]
  },
  {
   "cell_type": "code",
   "execution_count": 108,
   "id": "4f80cf93-bf28-4a4f-bbe7-e0fc0c11162e",
   "metadata": {},
   "outputs": [
    {
     "data": {
      "image/png": "[encoded data removed]",
      "text/plain": [
       "<Figure size 640x480 with 1 Axes>"
      ]
     },
     "metadata": {},
     "output_type": "display_data"
    },
    {
     "data": {
      "text/plain": [
       "<Figure size 640x480 with 0 Axes>"
      ]
     },
     "metadata": {},
     "output_type": "display_data"
    }
   ],
   "source": [
    "Ind[[col for col in numeric_cols if col != 'income']].boxplot()\n",
    "plt.show()\n",
    "plt.clf()"
   ]
  },
  {
   "cell_type": "code",
   "execution_count": 109,
   "id": "30b19b22-2c3c-460a-bded-c148d622eaf4",
   "metadata": {},
   "outputs": [
    {
     "data": {
      "image/png": "[encoded data removed]",
      "text/plain": [
       "<Figure size 640x480 with 1 Axes>"
      ]
     },
     "metadata": {},
     "output_type": "display_data"
    },
    {
     "data": {
      "text/plain": [
       "<Figure size 640x480 with 0 Axes>"
      ]
     },
     "metadata": {},
     "output_type": "display_data"
    }
   ],
   "source": [
    "Ind[['income']].boxplot()\n",
    "plt.show()\n",
    "plt.clf()"
   ]
  },
  {
   "cell_type": "code",
   "execution_count": 113,
   "id": "921cf0a1-5466-421f-b1e5-4da7902ca9b4",
   "metadata": {},
   "outputs": [],
   "source": [
    "### Check again on what to do with income, do I separate the -1 into a new category and then make them nan in the original values ? what should I do?\n"
   ]
  },
  {
   "cell_type": "code",
   "execution_count": null,
   "id": "b7de3ade-53b2-4a15-8bb0-927e61d78a85",
   "metadata": {},
   "outputs": [],
   "source": []
  }
 ],
 "metadata": {
  "kernelspec": {
   "display_name": "Python 3 (ipykernel)",
   "language": "python",
   "name": "python3"
  },
  "language_info": {
   "codemirror_mode": {
    "name": "ipython",
    "version": 3
   },
   "file_extension": ".py",
   "mimetype": "text/x-python",
   "name": "python",
   "nbconvert_exporter": "python",
   "pygments_lexer": "ipython3",
   "version": "3.12.5"
  }
 },
 "nbformat": 4,
 "nbformat_minor": 5
}
